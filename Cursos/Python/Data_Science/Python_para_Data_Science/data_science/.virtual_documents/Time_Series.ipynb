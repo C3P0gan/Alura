





import pandas as pd


alucar = pd.read_csv('data/alucar.csv')
alucar.head()


print('Quantidade de linhas e colunas:', alucar.shape)


print('Quantidade de dados nulos:', alucar.isna().sum().sum())


alucar.dtypes


alucar['mes'] = pd.to_datetime(alucar['mes'])
alucar.dtypes


import seaborn as sns
get_ipython().run_line_magic("matplotlib", " inline")
from matplotlib import pyplot as plt


sns.lineplot(x='mes', y='vendas', data=alucar)





sns.set_palette('Accent')
sns.set_style('darkgrid')


ax = sns.lineplot(x='mes', y='vendas', data=alucar)
ax.figure.set_size_inches(12, 6)
ax.set_title('Vendas Alucar de 2017 e 2018', loc='left', fontsize=18)
ax.set_xlabel('Tempo', fontsize=14)
ax.set_ylabel('Vendas (R$)', fontsize=14)
ax = ax





alucar['aumento'] = alucar['vendas'].diff()
alucar.head()


def plotar(titulo: str, xlabel: str, ylabel: str, x: str, y: str, dataset: pd.DataFrame) -> None:
    ax = sns.lineplot(x=x, y=y, data=dataset)
    ax.figure.set_size_inches(12, 6)
    ax.set_title(titulo, loc='left', fontsize=18)
    ax.set_xlabel(xlabel, fontsize=14)
    ax.set_ylabel(ylabel, fontsize=14)
    ax = ax


plotar(titulo='Aumento das vendas Alucar de 2017 e 2018',
       x='mes',
       xlabel='Tempo',
       y='aumento',
       ylabel='Aumento',
       dataset=alucar)


alucar['aceleracao'] = alucar['aumento'].diff()
alucar.head()


plotar(titulo='Aumento das vendas Alucar de 2017 e 2018',
       x='mes',
       xlabel='Tempo',
       y='aceleracao',
       ylabel='Aceleração',
       dataset=alucar)


def plot_comparacao(x: str, y1: str, y2: str, y3: str, titulo: str, dataset: pd.DataFrame) -> None:
    plt.figure(figsize=(16, 12))
    ax = plt.subplot(3, 1, 1)
    ax.set_title(titulo, fontsize=18, loc='left')
    sns.lineplot(x=x, y=y1, data=dataset)
    plt.subplot(3, 1, 2)
    sns.lineplot(x=x, y=y2, data=dataset)
    plt.subplot(3, 1, 3)
    sns.lineplot(x=x, y=y3, data=dataset)
    ax = ax


plot_comparacao(x='mes',
                y1='vendas',
                y2='aumento',
                y3='aceleracao',
                titulo='Análise de vendas da Alucar de 2017 e 2018',
                dataset=alucar)


from pandas.plotting import autocorrelation_plot


ax = plt.figure(figsize=(12, 6))
ax.suptitle('Correlação das vendas', fontsize=18, x=0.26, y=0.95)
autocorrelation_plot(alucar['vendas'])
ax = ax


ax = plt.figure(figsize=(12, 6))
ax.suptitle('Correlação do aumento', fontsize=18, x=0.26, y=0.95)
autocorrelation_plot(alucar['aumento'][1:])
ax = ax


ax = plt.figure(figsize=(12, 6))
ax.suptitle('Correlação da aceleracao', fontsize=18, x=0.26, y=0.95)
autocorrelation_plot(alucar['aceleracao'][2:])
ax = ax














assinantes = pd.read_csv('data/newsletter_alucar.csv')
assinantes.head()


assinantes.dtypes


print('Quantidade de linhas e colunas:', assinantes.shape)
print('Quantidade de dados nulos:', assinantes.isna().sum().sum())


assinantes['mes'] = pd.to_datetime(assinantes['mes'])
assinantes.dtypes


assinantes['aumento'] = assinantes['assinantes'].diff()
assinantes['aceleracao'] = assinantes['aumento'].diff()
assinantes.head()


plot_comparacao(x='mes',
                y1='assinantes',
                y2='aumento',
                y3='aceleracao',
                titulo='Análise de assinantes da newsletter',
                dataset=assinantes)


chocolura = pd.read_csv('data/chocolura.csv')
chocolura.head()


chocolura.dtypes


chocolura['mes'] = pd.to_datetime(chocolura['mes'])
chocolura.dtypes


print('Quantidade de linhas:', chocolura.shape)
print('Quantidade de dados nulos:', chocolura.isna().sum().sum())


chocolura['aumento'] = chocolura['vendas'].diff()
chocolura['aceleracao'] = chocolura['aumento'].diff()
chocolura.head()


plot_comparacao(x='mes',
                y1='vendas',
                y2='aumento',
                y3='aceleracao',
                titulo='Análise de vendas da Chocolura de 2017 a 2018',
                dataset=chocolura)


vendas_por_dia = pd.read_csv('data/vendas_por_dia.csv')
vendas_por_dia.head()


print('Quantidade de linhas e colunas:', vendas_por_dia.shape)
print('Quantidade de dados nulos:', vendas_por_dia.isna().sum().sum())


vendas_por_dia.dtypes


vendas_por_dia['dia'] = pd.to_datetime(vendas_por_dia['dia'])
vendas_por_dia.dtypes


vendas_por_dia['aumento'] = vendas_por_dia['vendas'].diff()
vendas_por_dia['aceleracao'] = vendas_por_dia['aumento'].diff()
vendas_por_dia.head()


plot_comparacao(x='dia',
                y1='vendas',
                y2='aumento',
                y3='aceleracao',
                titulo='Análise de vendas de Outubro e Novembro - Chocolura',
                dataset=vendas_por_dia)


vendas_por_dia['dia_da_semana'] = vendas_por_dia['dia'].dt.day_name()
vendas_por_dia.head(7)


vendas_por_dia['dia_da_semana'].unique()


dias_traduzidos = dict(Sunday='Domingo',
                       Monday='Segunda',
                       Tuesday='Terça',
                       Wednesday='Quarta',
                       Thursday='Quinta',
                       Friday='Sexta',
                       Saturday='Sábado')


vendas_por_dia['dia_da_semana'] = vendas_por_dia['dia_da_semana'].map(dias_traduzidos)


vendas_por_dia.head(14)


vendas_agrupadas = vendas_por_dia.groupby(by='dia_da_semana')[['vendas', 'aumento', 'aceleracao']].mean().round()


vendas_agrupadas





ax = plt.figure(figsize=(12, 6))
ax.suptitle('Correlação das vendas diárias', fontsize=18, x=0.3, y=0.95)
autocorrelation_plot(vendas_por_dia['vendas'])
ax = ax


ax = plt.figure(figsize=(12, 6))
ax.suptitle('Correlação do aumento das vendas diárias', fontsize=18, x=0.3, y=0.95)
autocorrelation_plot(vendas_por_dia['aumento'][1:])
ax = ax


ax = plt.figure(figsize=(12, 6))
ax.suptitle('Correlação da aceleração das vendas diárias', fontsize=18, x=0.3, y=0.95)
autocorrelation_plot(vendas_por_dia['aceleracao'][2:])
ax = ax


cafelura = pd.read_csv('data/cafelura.csv')
cafelura.head()


cafelura.dtypes


cafelura['mes'] = pd.to_datetime(cafelura['mes'])
cafelura.dtypes


print('Quantidade de linhas e colunas:', cafelura.shape)
print('Quantidade de dados nulos:', cafelura.isna().sum().sum())


cafelura['aumento'] = cafelura['vendas'].diff()
cafelura['aceleracao'] = cafelura['aumento'].diff()
cafelura.head()


plotar(titulo='Vendas da Cafelura de 2017 a 2018',
       xlabel='Tempo',
       ylabel='Vendas',
       x='mes',
       y='vendas',
       dataset=cafelura)


quantidade_de_dias_fds = pd.read_csv('data/dias_final_de_semana.csv')
quantidade_de_dias_fds.head()


quantidade_de_dias_fds['quantidade_de_dias'].values


cafelura['vendas_normalizadas'] = cafelura['vendas'] / quantidade_de_dias_fds['quantidade_de_dias'].values
cafelura.head()


plotar(titulo='Vendas normalizadas da Cafelura de 2017 a 2018',
       xlabel='Tempo',
       ylabel='Vendas normalizadas',
       x='mes',
       y='vendas_normalizadas',
       dataset=cafelura)


plt.figure(figsize=(16, 12))
ax = plt.subplot(2, 1, 1)
ax.set_title('Vendas Cafelura 2017 e 2018', fontsize=18)
sns.lineplot(x='mes', y='vendas', data=cafelura)
ax = plt.subplot(2, 1, 2)
ax.set_title('Vendas Normalizadas Cafelura 2017 e 2018', fontsize=18)
sns.lineplot(x='mes', y='vendas_normalizadas', data=cafelura)
ax = ax


get_ipython().run_line_magic("pip", " install statsmodels")
from statsmodels.tsa.seasonal import seasonal_decompose


resultado = seasonal_decompose(chocolura['vendas'], period=3)
ax = resultado.plot()


observacao = resultado.observed
tendencia = resultado.trend
sazonalidade = resultado.seasonal
ruido = resultado.resid


data = (dict(observacao=observacao,
             tendencia=tendencia,
             sazonalidade=sazonalidade,
             ruido=ruido))

resultado = pd.DataFrame(data)
resultado.head()


plot_comparacao(x=resultado.index,
                y1='observacao',
                y2='tendencia',
                y3='sazonalidade',  # 'ruido'
                titulo='Exemplo de statsmodels',
                dataset=resultado)





alucel = pd.read_csv('data/alucel.csv')
alucel.head()


alucel.dtypes


alucel['dia'] = pd.to_datetime(alucel['dia'])
alucel.dtypes


print('Quantidade de linhas e colunas:', alucel.shape)
print('Quantidade de dados nulos:', alucel.isna().sum().sum())


alucel['aumento'] = alucel['vendas'].diff()
alucel['aceleracao'] = alucel['aumento'].diff()
alucel.head()


plot_comparacao(x='dia',
                y1='vendas',
                y2='aumento',
                y3='aceleracao',
                titulo='Análise de vendas da Alucel de Outubro e Novembro de 2018',
                dataset=alucel)


alucel['media_movel'] = alucel['vendas'].rolling(7).mean()
alucel.head(7)


plotar(titulo='Análise de vendas com média móvel de 7 dias',
       xlabel='Tempo',
       ylabel='Média móvel',
       x='dia',
       y='media_movel',
       dataset=alucel)


alucel['media_movel_21'] = alucel['vendas'].rolling(21).mean()


plotar(titulo='Análise de vendas com média móvel de 21 dias',
       xlabel='Tempo',
       ylabel='Média móvel',
       x='dia',
       y='media_movel_21',
       dataset=alucel)


plot_comparacao(x='dia',
                y1='vendas',
                y2='media_movel',
                y3='media_movel_21',
                titulo='Comparando as vendas com médias móveis',
                dataset=alucel)
