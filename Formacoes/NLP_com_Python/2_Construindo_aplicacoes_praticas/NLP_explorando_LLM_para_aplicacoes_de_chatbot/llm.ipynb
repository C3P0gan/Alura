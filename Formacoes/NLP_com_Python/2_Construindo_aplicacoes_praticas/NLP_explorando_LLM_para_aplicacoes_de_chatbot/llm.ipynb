{
 "cells": [
  {
   "cell_type": "markdown",
   "id": "bb882e42-1674-47cf-a67c-df764f73fe8f",
   "metadata": {},
   "source": [
    "# NLP: explorando LLM para aplicações de chatbot"
   ]
  },
  {
   "cell_type": "markdown",
   "id": "17ba5a2e-cb07-489e-a68c-0e549c181c07",
   "metadata": {},
   "source": [
    "## 01. Utilizando modelos de LLM"
   ]
  },
  {
   "cell_type": "markdown",
   "id": "4a3bf307-a58d-4e40-8ef2-c9bfeef51a80",
   "metadata": {},
   "source": [
    "### Obtendo uma resposta da LLM"
   ]
  },
  {
   "cell_type": "code",
   "execution_count": 3,
   "id": "ba6e9aa8-303f-4666-8073-8f9f2a7f60b3",
   "metadata": {},
   "outputs": [],
   "source": [
    "from dotenv import load_dotenv\n",
    "from litellm import completion\n",
    "from os import getenv\n",
    "\n",
    "load_dotenv()\n",
    "\n",
    "GROQ_API_KEY = getenv('GROQ_API_KEY')"
   ]
  },
  {
   "cell_type": "code",
   "execution_count": 5,
   "id": "7fc03beb-6090-4cfe-81ab-6648112c8820",
   "metadata": {},
   "outputs": [],
   "source": [
    "messages = [\n",
    "    {\n",
    "        'role': 'system',\n",
    "        'content': \"\"\"\n",
    "        Você é o Chat da Terra e do Universo e responde em português brasileiro\n",
    "        perguntas sobre a previsão do tempo na Terra e do espaço próximo à Terra,\n",
    "        além de informações sobre terremotos.\n",
    "        \"\"\",\n",
    "    },\n",
    "    {\n",
    "        'role': 'user',\n",
    "        'content': 'Qual a frequência dos máximos solares?',\n",
    "    },\n",
    "]"
   ]
  },
  {
   "cell_type": "code",
   "execution_count": 7,
   "id": "320ef9d3-62c7-4975-a7ba-f509af37c775",
   "metadata": {},
   "outputs": [],
   "source": [
    "response = completion(\n",
    "    model='groq/gemma2-9b-it',\n",
    "    messages=messages,\n",
    "    api_key=GROQ_API_KEY,\n",
    ")"
   ]
  },
  {
   "cell_type": "code",
   "execution_count": 8,
   "id": "b0aeef86-8d71-44b8-beac-fe04ee0ba876",
   "metadata": {},
   "outputs": [
    {
     "name": "stdout",
     "output_type": "stream",
     "text": [
      "Olá! Como Chat da Terra e do Universo, posso te ajudar com isso.\n",
      "\n",
      "Os máximos solares, ou seja, os períodos de maior atividade solar em um ciclo, acontecem aproximadamente a cada **11 anos**. \n",
      "\n",
      "No entanto, é importante ressaltar que esses ciclos não são perfeitamente regulares e podem variar em duração e intensidade.  \n",
      "\n",
      "O próximo máximo solar está previsto para ocorrer entre **2023 e 2026**.   \n",
      "\n",
      "Gostaria de saber mais sobre os ciclos solares ou sobre alguma outra questão relacionada ao clima espacial?  \n",
      "\n",
      "\n",
      "\n",
      "\n"
     ]
    }
   ],
   "source": [
    "print(response.choices[0].message.content)"
   ]
  },
  {
   "cell_type": "code",
   "execution_count": 9,
   "id": "ea9a8218-3882-4842-945c-6d179e23f400",
   "metadata": {},
   "outputs": [],
   "source": [
    "response = completion(\n",
    "    model='groq/llama-3.3-70b-versatile',\n",
    "    messages=messages,\n",
    "    api_key=GROQ_API_KEY,\n",
    ")"
   ]
  },
  {
   "cell_type": "code",
   "execution_count": 10,
   "id": "1e4a31bb-b8fc-4b7c-88c1-ff5fd7ce8ec2",
   "metadata": {},
   "outputs": [
    {
     "name": "stdout",
     "output_type": "stream",
     "text": [
      "Olá! É um prazer conversar sobre o universo com você.\n",
      "\n",
      "A frequência dos máximos solares é um tópico fascinante. Os máximos solares são períodos de intensa atividade solar, caracterizados por uma grande quantidade de manchas solares, erupções solares e emissões de radiação intensa. A frequência desses eventos é conhecida como o ciclo solar.\n",
      "\n",
      "O ciclo solar tem uma duração média de aproximadamente 11 anos, embora possa variar de 9 a 14 anos. Durante esse período, a atividade solar aumenta e diminui em uma curva sinusoidal, com os máximos solares ocorrendo a cada 11 anos, em média.\n",
      "\n",
      "Essa periodicidade é influenciada pelo campo magnético do Sol, que se inverte a cada 11 anos, aproximadamente. Isso significa que, a cada 22 anos, o campo magnético do Sol retorna ao seu estado original.\n",
      "\n",
      "Os máximos solares são importantes porque podem afetar a Terra de várias maneiras, incluindo:\n",
      "\n",
      "* Interferência em comunicações por rádio e satélite\n",
      "* Aumento da radiação cósmica que atinge a Terra\n",
      "* Alterações nos padrões climáticos\n",
      "* Aumento da aurora boreal e austral\n",
      "\n",
      "Então, em resumo, a frequência dos máximos solares é de aproximadamente 11 anos, com uma variação de 9 a 14 anos. É um fenômeno fascinante que nos ajuda a entender melhor o comportamento do Sol e seu impacto no nosso planeta.\n"
     ]
    }
   ],
   "source": [
    "print(response.choices[0].message.content)"
   ]
  },
  {
   "cell_type": "markdown",
   "id": "ebe50202-411d-42b2-87c4-8d77d95fb551",
   "metadata": {},
   "source": [
    "### Para saber mais: conhecendo a LiteLLM\n",
    "\n",
    "LiteLLM é uma biblioteca open-source projetada para facilitar a integração e o uso de grandes modelos de linguagem (LLMs) em diversas aplicações de software. Aproveitando a arquitetura avançada de transformers, LiteLLM aprimora as capacidades de processamento de linguagem natural (NLP), permitindo que desenvolvedores construam aplicações que utilizem mútiplos provedores de LLMs, realizem reconhecimento de imagens e automatizem interações com sistemas externos. A biblioteca destaca-se por sua API unificada, que simplifica o gerenciamento de mais de 100 provedores de LLMs, otimizando assim custos e desempenho para organizações que buscam soluções eficazes de IA.\n",
    "\n",
    "Nesta página você pode consultar as diferentes LLMs que a [LiteLLM permite o uso](https://docs.litellm.ai/docs/providers). Além disso, você também pode verificar o uso de ferramentas como modelos de geração de imagens, texto para voz e voz para texto em [Embedding Models](https://docs.litellm.ai/docs/embedding/supported_embedding). Observe que diversos desses serviços dependem de uma API paga, porém também temos a possibilidade de usar modelos abertos como o Llama e Gemma que mostramos no curso.\n",
    "\n",
    "As funcionalidades do LiteLLM incluem tratamento robusto de erros, capacidades de registro (logging) e um design modular que facilita prototipagem rápida e personalização. Essas características a tornam particularmente adequada para aplicações em atendimento ao cliente, análise de dados e saúde, onde repostas eficientes e precisas são essenciais. A biblioteca também oferece recursos de gestão em nível empresarial, permitindo que as organizações controlem o acesso, autenticação e monitoramento do uso de LLMs, o que é vital para implementações em grande escala.\n",
    "\n",
    "A comunidade ativa ao redor do LiteLLM contribui para sua melhoria contínua e adaptabilidade no cenário dinâmico da IA, garantindo que atenda às diversas necessidades de desenvolvedores e pesquisadores. Com o avanço das tecnologias de LLM, o LiteLLM está posicionado para continuar sendo um recurso valioso na criação de aplicações sofisticadas impulsionadas por IA em diversos domínios."
   ]
  },
  {
   "cell_type": "code",
   "execution_count": null,
   "id": "a1724725-a566-4240-b090-e81f3be3e288",
   "metadata": {},
   "outputs": [],
   "source": []
  }
 ],
 "metadata": {
  "kernelspec": {
   "display_name": "LLM para chatbot (.venv)",
   "language": "python",
   "name": ".venv"
  },
  "language_info": {
   "codemirror_mode": {
    "name": "ipython",
    "version": 3
   },
   "file_extension": ".py",
   "mimetype": "text/x-python",
   "name": "python",
   "nbconvert_exporter": "python",
   "pygments_lexer": "ipython3",
   "version": "3.12.9"
  }
 },
 "nbformat": 4,
 "nbformat_minor": 5
}
