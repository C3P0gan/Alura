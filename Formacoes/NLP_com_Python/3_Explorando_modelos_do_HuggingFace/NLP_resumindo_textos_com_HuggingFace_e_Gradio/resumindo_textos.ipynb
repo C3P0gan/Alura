{
 "cells": [
  {
   "cell_type": "markdown",
   "id": "ea752448-2a9a-42df-b4f7-421885484892",
   "metadata": {},
   "source": [
    "# NLP: resumindo textos com HuggingFace e Gradio"
   ]
  },
  {
   "cell_type": "markdown",
   "id": "6b645eff-d5d2-4a88-82dc-f7d5a75fdac6",
   "metadata": {
    "jp-MarkdownHeadingCollapsed": true
   },
   "source": [
    "## 01. Conhecendo os modelos"
   ]
  },
  {
   "cell_type": "markdown",
   "id": "8aecb6ac-f1e9-4242-97a9-ce0443f41c2a",
   "metadata": {
    "jp-MarkdownHeadingCollapsed": true
   },
   "source": [
    "### Aplicando o pipeline para resumo"
   ]
  },
  {
   "cell_type": "code",
   "execution_count": 1,
   "id": "e2bbc20d-304a-4cb2-a137-b9b6bdebfdad",
   "metadata": {},
   "outputs": [
    {
     "name": "stderr",
     "output_type": "stream",
     "text": [
      "/home/cristoffer_pogan/Entwicklung/Alura/Formacoes/NLP_com_Python/3_Explorando_modelos_do_HuggingFace/NLP_resumindo_textos_com_HuggingFace_e_Gradio/.venv/lib/python3.12/site-packages/tqdm/auto.py:21: TqdmWarning: IProgress not found. Please update jupyter and ipywidgets. See https://ipywidgets.readthedocs.io/en/stable/user_install.html\n",
      "  from .autonotebook import tqdm as notebook_tqdm\n",
      "2025-05-21 14:05:27.725450: I tensorflow/core/util/port.cc:153] oneDNN custom operations are on. You may see slightly different numerical results due to floating-point round-off errors from different computation orders. To turn them off, set the environment variable `TF_ENABLE_ONEDNN_OPTS=0`.\n",
      "2025-05-21 14:05:27.847102: E external/local_xla/xla/stream_executor/cuda/cuda_fft.cc:467] Unable to register cuFFT factory: Attempting to register factory for plugin cuFFT when one has already been registered\n",
      "WARNING: All log messages before absl::InitializeLog() is called are written to STDERR\n",
      "E0000 00:00:1747847127.889153  537807 cuda_dnn.cc:8579] Unable to register cuDNN factory: Attempting to register factory for plugin cuDNN when one has already been registered\n",
      "E0000 00:00:1747847127.902278  537807 cuda_blas.cc:1407] Unable to register cuBLAS factory: Attempting to register factory for plugin cuBLAS when one has already been registered\n",
      "W0000 00:00:1747847128.001251  537807 computation_placer.cc:177] computation placer already registered. Please check linkage and avoid linking the same target more than once.\n",
      "W0000 00:00:1747847128.001269  537807 computation_placer.cc:177] computation placer already registered. Please check linkage and avoid linking the same target more than once.\n",
      "W0000 00:00:1747847128.001271  537807 computation_placer.cc:177] computation placer already registered. Please check linkage and avoid linking the same target more than once.\n",
      "W0000 00:00:1747847128.001272  537807 computation_placer.cc:177] computation placer already registered. Please check linkage and avoid linking the same target more than once.\n",
      "2025-05-21 14:05:28.013487: I tensorflow/core/platform/cpu_feature_guard.cc:210] This TensorFlow binary is optimized to use available CPU instructions in performance-critical operations.\n",
      "To enable the following instructions: AVX2 AVX512F AVX512_VNNI FMA, in other operations, rebuild TensorFlow with the appropriate compiler flags.\n"
     ]
    }
   ],
   "source": [
    "from transformers import pipeline"
   ]
  },
  {
   "cell_type": "code",
   "execution_count": 2,
   "id": "799d1da1-c5f2-4671-9afc-5f9222dc3d0a",
   "metadata": {},
   "outputs": [
    {
     "name": "stderr",
     "output_type": "stream",
     "text": [
      "No model was supplied, defaulted to sshleifer/distilbart-cnn-12-6 and revision a4f8f3e (https://huggingface.co/sshleifer/distilbart-cnn-12-6).\n",
      "Using a pipeline without specifying a model name and revision in production is not recommended.\n",
      "Device set to use cpu\n"
     ]
    }
   ],
   "source": [
    "resumidor_texto = pipeline('summarization')"
   ]
  },
  {
   "cell_type": "code",
   "execution_count": 3,
   "id": "62bfd434-4b4b-46d2-a36a-f148d596b789",
   "metadata": {},
   "outputs": [],
   "source": [
    "texto_exemplo = \"\"\"\n",
    "A inteligência artificial (IA) é uma área da ciência da computação que enfatiza\n",
    "a criação de máquinas inteligentes que trabalham e reagem como seres humanos.\n",
    "Algumas das atividades que os computadores com inteligência artificial são\n",
    "projetados para fazer incluem: reconhecimento de fala, aprendizado, planejamento\n",
    "e resolução de problemas. A pesquisa associada à inteligência artificial é\n",
    "altamente técnica e especializada. Os principais problemas da inteligência\n",
    "artificial incluem programação de computadores para certos traços como conhecimento,\n",
    "raciocínio, solução de problemas, percepção, aprendizado, planejamento, habilidade\n",
    "de manipular e mover objetos.\n",
    "\"\"\""
   ]
  },
  {
   "cell_type": "code",
   "execution_count": 4,
   "id": "b14f0b5b-2a2f-47bb-8a23-7d6fe1623761",
   "metadata": {},
   "outputs": [],
   "source": [
    "resumo = resumidor_texto(texto_exemplo, max_length=120, min_length=70)"
   ]
  },
  {
   "cell_type": "code",
   "execution_count": 5,
   "id": "c3d62950-98f3-4f4b-845e-aba5b7048347",
   "metadata": {},
   "outputs": [
    {
     "data": {
      "text/plain": [
       "[{'summary_text': ' A pesquisa associada to inteligência artificial isaltamente técnica e especializada . The IAI enfatiza a criação de máquinas inteligentes that trabalham e reagem como seres humanos . Algumas das atividades que computadores com IAI sãoprojetados for fazer incluem: reconhecimento de fala, aprendizado, planejamento, resolução of problemas'}]"
      ]
     },
     "execution_count": 5,
     "metadata": {},
     "output_type": "execute_result"
    }
   ],
   "source": [
    "resumo"
   ]
  },
  {
   "cell_type": "code",
   "execution_count": 6,
   "id": "6f13a2d7-0247-40f9-9318-01c536f90e29",
   "metadata": {},
   "outputs": [
    {
     "name": "stdout",
     "output_type": "stream",
     "text": [
      " A pesquisa associada to inteligência artificial isaltamente técnica e especializada . The IAI enfatiza a criação de máquinas inteligentes that trabalham e reagem como seres humanos . Algumas das atividades que computadores com IAI sãoprojetados for fazer incluem: reconhecimento de fala, aprendizado, planejamento, resolução of problemas\n"
     ]
    }
   ],
   "source": [
    "print(resumo[0]['summary_text'])"
   ]
  },
  {
   "cell_type": "code",
   "execution_count": 7,
   "id": "e256d621-ec3e-4430-b8a0-0f314dc6b850",
   "metadata": {},
   "outputs": [],
   "source": [
    "texto_ingles = \"\"\"\n",
    "Artificial intelligence (AI) is a field of computer science that emphasizes the\n",
    "creation of intelligent machines that work and react like humans. Some of the\n",
    "activities that computers with artificial intelligence are designed to perform\n",
    "include speech recognition, learning, planning, and problem-solving. Research\n",
    "associated with artificial intelligence is highly technical and specialized.\n",
    "The main problems of artificial intelligence include programming computers for\n",
    "certain traits such as knowledge, reasoning, problem-solving, perception,\n",
    "learning, planning, and the ability to manipulate and move objects.\n",
    "\"\"\""
   ]
  },
  {
   "cell_type": "code",
   "execution_count": 8,
   "id": "bc08ac61-5953-459e-b977-bf61d7017486",
   "metadata": {},
   "outputs": [
    {
     "name": "stderr",
     "output_type": "stream",
     "text": [
      "Your max_length is set to 120, but your input_length is only 115. Since this is a summarization task, where outputs shorter than the input are typically wanted, you might consider decreasing max_length manually, e.g. summarizer('...', max_length=57)\n"
     ]
    }
   ],
   "source": [
    "resumo_ingles = resumidor_texto(texto_ingles, max_length=120, min_length=70)"
   ]
  },
  {
   "cell_type": "code",
   "execution_count": 9,
   "id": "1d53eb33-ca65-48bc-af6f-ec1233390cc9",
   "metadata": {},
   "outputs": [
    {
     "data": {
      "text/plain": [
       "' Artificial intelligence (AI) is a field of computer science that emphasizes the creation of intelligent machines that work and react like humans . The main problems of artificial intelligence include programming computers for certain traits such as knowledge, reasoning, problem-solving, perception, learning, planning, and the ability to manipulate and move objects . Research with artificial intelligence is highly technical and specialized .'"
      ]
     },
     "execution_count": 9,
     "metadata": {},
     "output_type": "execute_result"
    }
   ],
   "source": [
    "resumo_ingles[0]['summary_text']"
   ]
  },
  {
   "cell_type": "markdown",
   "id": "9fb7bce3-201a-4c05-9ba1-b3c7bbc3fe49",
   "metadata": {
    "jp-MarkdownHeadingCollapsed": true
   },
   "source": [
    "### Para saber mais: conhecendo o Hugging Face\n",
    "\n",
    "A biblioteca Hugging Face é uma das mais populares na áres de Processamento de Linguagem Natural (NLP). Ela oferece uma grande variedade de modelos pré-treinados que podem ser utilizados para diversas tarefas, como tradução, resumo, classificação de texto, entre outras.\n",
    "\n",
    "#### O que são modelos pré-treinados?\n",
    "\n",
    "Modelos pré-treinados são modelos de machine learning que foram treinados em grandes quantidades de dados antes de serem disponibilizados ao público. Isso significa que eles já aprenderam a identificar padrões e a realizar tarefas específicas de NLP, o que poupa tempo e recursos para quem deseja implementar essas soluções.\n",
    "\n",
    "#### Principais arquiteturas de modelos\n",
    "\n",
    "Entre as várias arquiteturas disponíveis na Hugging Face, algumas das mais utilizadas são:\n",
    "\n",
    "- **BERT (Bidirectional Encoder Representations from Transformers)**: Focado em entender o contexto bidirecional de uma palavra em uma frase. É amplamente utilizado para tarefas de compreensão de linguagem, como classificação de texto e perguntas e respostas.\n",
    "- **GPT (Generative Pre-trained Transformer)**: Projetado pa tarefas de geração de texto. O GPT é conhecido por sua capacidade de produzir texto que parece ter sido escrito por um humano, senfo usado em chatbots e aplicações de geração de conteúdo.\n",
    "- **T5 (Text-To-Text Transfer Transformer)**: Trata todas as tarefas de NLP como problemas de transformação de texto. Isso inclui tradução, resumo, e até mesmo tarefas de preenchimento de lacunas.\n",
    "\n",
    "#### Utilizando a função `pipeline()`\n",
    "\n",
    "Uma das principais funcionalidades da biblioteca Transformers da Hugging Face é a função `pipeline()`. Essa função permite realizar a conexão a modelos pré-treinados e utilizá-los para diversas tarefas de NLP com poucas linhas de código.\n",
    "\n",
    "Por exemplo: para realizar a tarefa de sumarização, basta importar a função `pipeline`, escolher o modelo desejado e aplicar no texto o que você deseja resumir.\n",
    "\n",
    "Como exemplo, podemos conferir o código abaixo:\n",
    "\n",
    "```python\n",
    "from transformers import pipeline\n",
    "\n",
    "# Criando o pipeline de sumarização\n",
    "summarizer = pipeline('summarization')\n",
    "\n",
    "# Texto de exemplo\n",
    "texto = 'A Amanda está focada em aprimorar seus conhecimentos em Ciência de Dados. Como forma de expandir seus conhecimentos, ela tem o hábito de realizar leituras semanais sobre assuntos relacionados à área, seja através de blogs, artigos ou postagens técnicas. Porém, ela não tem muito tempo durante a semana para ler todo esse material por completo.'\n",
    "\n",
    "# Resumindo o texto\n",
    "resumo = summarizer(texto)\n",
    "print(resumo)\n",
    "```\n",
    "\n",
    "A Hugging Face facilita o acesso e a utilização de modelos NLP, tornando possível integrar essas tecnologias em aplicações de forma rápida e eficiente. Os modelos pré-treinados oferecem uma base robusta para diversas tarefas, permitindo que desenvolvedores foquem na solução de problemas específicos sem a necessidade de treinar modelos do zero. Com a função `pipeline()`, é possível experimentar diferentes modelos e escolher aquele que melhor se adequa às suas necessidades."
   ]
  },
  {
   "cell_type": "markdown",
   "id": "4c83e2c2-564d-4ed2-a410-5e923b55de87",
   "metadata": {
    "jp-MarkdownHeadingCollapsed": true
   },
   "source": [
    "### Para saber mais: explorando os Tokens em NLP\n",
    "\n",
    "Durante este curso, será comum ouvirmos a palavra “Tokens”, mas o que isso significa exatamente?\n",
    "\n",
    "Tokens são uma parte fundamental no processamento de linguagem natural (NLP). Eles são as unidades básicas em que os textos são divididos para análise. Vamos explicar com mais detalhes aqui embaixo.\n",
    "\n",
    "#### O que são Tokens?\n",
    "\n",
    "Tokens são segmentos de textos, podendo ser palavras, caracteres, ou subpalavras, dependendo do método de tokenização utilizado. A tokenização é o processo de dividir um texto em tokens. Por exemplo, na frase: “Eu adoro aprender sobre Data Science!”, a tokenização por palavras produziria os tokens: [“Eu”, “adoro”, “aprender”, “sobre”, “Data”, “Science”, “!”].\n",
    "\n",
    "#### Tipos de tokenização\n",
    "\n",
    "1. Tokenização por palavras\n",
    "   - Descrição: a abordagem mais comum, onde o texto é divido em palavras.\n",
    "   - Exemplo: “Estou estudando aprendizado de máquina” seria dividido em [“Estou”, “estudando”, “aprendizado”, “de”, “máquina”].\n",
    "2. Tokenização por caracteres\n",
    "   - Descrição: cada caractere é um token, sendo útil para linguagens com caracteres complexos.\n",
    "   - Exemplo: “Eu” seria dividido em [“E”, “u”].\n",
    "3. Tokenização por subpalavras\n",
    "   - Descrição: técnica usada por modelos como o BERT e GPT, onde palavras são divididas em subpartes. É útil para lidar com palavras raras ou desconhecidas.\n",
    "   - Exemplo: “aprendizado” seria dividido em [“aprendi”, “zado”].\n",
    "\n",
    "#### Importância dos tokens\n",
    "\n",
    "- Pré-processamento: tokens são usados para limpar e preparar textos para análise.\n",
    "- Modelagem: modelos de NLP trabalham diretamente com tokens.\n",
    "- Análise Sintática: tokens ajudam na análise gramatical e na extração de significado de frases.\n",
    "\n",
    "Portanto, o ponto principal é compreender que os Tokens são a **base** sobre a qual construímos nossos modelos de NLP. Entender como eles funcionam e como são utilizados pode melhorar a eficácia dos seus projetos."
   ]
  },
  {
   "cell_type": "markdown",
   "id": "6c55b953-dd2b-4481-8cab-8eecb54506e3",
   "metadata": {
    "jp-MarkdownHeadingCollapsed": true
   },
   "source": [
    "### Aplicando o pipeline para tradução"
   ]
  },
  {
   "cell_type": "code",
   "execution_count": 10,
   "id": "88989c08-599c-4893-ac27-5cece74a61f4",
   "metadata": {},
   "outputs": [
    {
     "name": "stderr",
     "output_type": "stream",
     "text": [
      "No model was supplied, defaulted to google-t5/t5-base and revision a9723ea (https://huggingface.co/google-t5/t5-base).\n",
      "Using a pipeline without specifying a model name and revision in production is not recommended.\n",
      "Device set to use cpu\n"
     ]
    }
   ],
   "source": [
    "tradutor_texto = pipeline('translation_en_to_fr')"
   ]
  },
  {
   "cell_type": "code",
   "execution_count": 11,
   "id": "d480d5e8-3053-40e8-8049-e95df997e96c",
   "metadata": {},
   "outputs": [],
   "source": [
    "texto_ingles = \"\"\"\n",
    "Artificial intelligence (AI) is a field of computer science that emphasizes the\n",
    "creation of intelligent machines that work and react like humans. Some of the\n",
    "activities that computers with artificial intelligence are designed to perform\n",
    "include speech recognition, learning, planning, and problem-solving.\n",
    "\"\"\""
   ]
  },
  {
   "cell_type": "code",
   "execution_count": 12,
   "id": "e7e45aeb-2720-4696-8d7b-9443d396f456",
   "metadata": {},
   "outputs": [
    {
     "name": "stderr",
     "output_type": "stream",
     "text": [
      "Both `max_new_tokens` (=256) and `max_length`(=400) seem to have been set. `max_new_tokens` will take precedence. Please refer to the documentation for more information. (https://huggingface.co/docs/transformers/main/en/main_classes/text_generation)\n"
     ]
    }
   ],
   "source": [
    "traducao = tradutor_texto(texto_ingles, max_length=400, min_length=100)"
   ]
  },
  {
   "cell_type": "code",
   "execution_count": 13,
   "id": "dcc0653e-d1d6-456b-877a-93572864f72f",
   "metadata": {},
   "outputs": [
    {
     "data": {
      "text/plain": [
       "[{'translation_text': \"L'intelligence artificielle (AI) est un domaine d'informatique qui met l'accent sur la création de machines intelligentes qui fonctionnent et réagissent comme les humains. Certaines des activités que les ordinateurs dotés d'une intelligence artificielle sont conçus pour effectuer sont la reconnaissance de la parole, l'apprentissage, la planification et la résolution de problèmes.\"}]"
      ]
     },
     "execution_count": 13,
     "metadata": {},
     "output_type": "execute_result"
    }
   ],
   "source": [
    "traducao"
   ]
  },
  {
   "cell_type": "code",
   "execution_count": 14,
   "id": "2b2b64f9-3a9f-4d36-9cf9-12a5a3e09748",
   "metadata": {},
   "outputs": [
    {
     "name": "stdout",
     "output_type": "stream",
     "text": [
      "L'intelligence artificielle (AI) est un domaine d'informatique qui met l'accent sur la création de machines intelligentes qui fonctionnent et réagissent comme les humains. Certaines des activités que les ordinateurs dotés d'une intelligence artificielle sont conçus pour effectuer sont la reconnaissance de la parole, l'apprentissage, la planification et la résolution de problèmes.\n"
     ]
    }
   ],
   "source": [
    "print(traducao[0]['translation_text'])"
   ]
  },
  {
   "cell_type": "markdown",
   "id": "0b6b64dc-ae2b-4194-a59b-ee1fe946ae4b",
   "metadata": {
    "jp-MarkdownHeadingCollapsed": true
   },
   "source": [
    "### Para saber mais: modelos de resumo e de tradução da Hugging Face\n",
    "\n",
    "A biblioteca Hugging Face oferece uma variedade de modelos pré-treinados para diversas tarefas, incluindo resumo e tradução de textos. Esses modelos são projetados para entender e processar a linguagem humana de maneira eficiente, facilitando a automação de tarefas que antes exigiam intervenção manual intensiva.\n",
    "\n",
    "#### Modelos de Resumo\n",
    "\n",
    "Os modelos de resumo são projetados para reduzir textos longos em versões mais curtas, mantendo as informações mais relevantes. Entre os modelos mais utilizados parar essa tarefa estão:\n",
    "\n",
    "- **BART (Bidirectional and Auto-Regressive Transformers)**: Este modelo combina as características de modelos bidirecionais, como o BERT, com a capacidade de geração de texto de modelos auto-regressivos, como o GPT. BART é eficaz para tarefas de resumo porque pode considerar o contexto completo do texto enquanto gera resumos coerentes.\n",
    "- **T5 (Text-To-Text Transfer Transformer)**: O T5 trata todas as tarefas de NLP como problemas de transformação de texto. Para a tarefa de sumarização, ele é treinado para transformar um texto longo em uma versão resumida, mantendo o significado e a essência do conteúdo original.\n",
    "\n",
    "Exemplo de uso do modelo BART para sumarização:\n",
    "\n",
    "```python\n",
    "from transformers import pipeline\n",
    "\n",
    "# Criando o pipeline de sumarização com BART\n",
    "summarizer = pipeline(\"summarization\", model=\"facebook/bart-large-cnn\")\n",
    "\n",
    "# Texto de exemplo\n",
    "texto = \"Amanda está focada em aprimorar seus conhecimentos em Ciência de Dados. Ela realiza leituras semanais sobre assuntos relacionados à área, seja através de blogs, artigos ou postagens técnicas. Porém, ela não tem muito tempo durante a semana para ler todo esse material por completo.\"\n",
    "\n",
    "# Resumindo o texto\n",
    "resumo = summarizer(texto)\n",
    "print(resumo)\n",
    "```\n",
    "\n",
    "#### Modelos de Tradução\n",
    "\n",
    "Os modelos de tradução são usados para converter texto de um idioma para outro. A Hugging Face disponibiliza modelos treinados para diversas combinações de idiomas, incluindo traduções entre inglês, francês, romeno e alemão. Alguns dos modelos mais comuns são os seguintes:\n",
    "\n",
    "- **mBART (Multilingual BART)**: Este é um modelo variante do BART que foi treinado em dados de múltiplos idiomas. Ele é capaz de realizar traduções e outras tarefas de NLP em vários idiomas, tornando-o muito útil para aplicações multilíngues.\n",
    "- **MarianMT**: Baseado na arquitetura Transformer, MarianMT é um conjunto de modelos de tradução desenvolvidos pela equipe de pesquisa da Microsoft. Estes modelos são altamente eficientes para tradução automática entre muitos pares de idiomas.\n",
    "\n",
    "Exemplo de uso do modelo MarianMT para tradução:\n",
    "\n",
    "```python\n",
    "from transformers import pipeline\n",
    "\n",
    "# Criando o pipeline de tradução com MarianMT\n",
    "translator = pipeline(\"translation_fr_to_en\", model=\"Helsinki-NLP/opus-mt-fr-en\")\n",
    "\n",
    "# Texto de exemplo em francês\n",
    "texto_frances = \"Amanda se concentre sur l'amélioration de ses compétences en science des données. Elle lit chaque semaine des articles sur le sujet, que ce soit des blogs, des articles ou des publications techniques. Cependant, elle n'a pas beaucoup de temps pendant la semaine pour lire tout ce matériel en entier.\"\n",
    "\n",
    "# Traduzindo o texto para inglês\n",
    "traducao = translator(texto_frances)\n",
    "print(traducao)\n",
    "```\n",
    "\n",
    "A Hugging Face simplifica a utilização de modelos avançados de NLP para tarefas de resumo e tradução, tornando essas tecnologias acessíveis a desenvolvedores e pesquisadores. Modelos como BART, T5 e MarianMT oferecem soluções robustas para a condensação e tradução de textos, permitindo que tarefas complexas sejam realizadas de forma eficiente e com alta qualidade. Utilizando a função `pipeline()`, é possível integrar esses modelos em aplicações com facilidade, proporcionando melhorias significativas em produtividae e precisão."
   ]
  },
  {
   "cell_type": "markdown",
   "id": "1a0786a6-c3f5-43cd-bc3f-d4f33fb26c4c",
   "metadata": {
    "jp-MarkdownHeadingCollapsed": true
   },
   "source": [
    "## 02. Resumo de textos"
   ]
  },
  {
   "cell_type": "markdown",
   "id": "9c7c827d-7ae7-4485-aeea-f36b5a178df0",
   "metadata": {
    "jp-MarkdownHeadingCollapsed": true
   },
   "source": [
    "### Escolhendo o modelo"
   ]
  },
  {
   "cell_type": "code",
   "execution_count": 15,
   "id": "e2cc6023-5610-4f51-8f19-e87bebbf777b",
   "metadata": {},
   "outputs": [],
   "source": [
    "modelo_resumo = 'facebook/bart-large-cnn'"
   ]
  },
  {
   "cell_type": "code",
   "execution_count": 16,
   "id": "a6383550-df4b-44aa-9154-134065736b1f",
   "metadata": {},
   "outputs": [
    {
     "name": "stderr",
     "output_type": "stream",
     "text": [
      "Device set to use cpu\n"
     ]
    }
   ],
   "source": [
    "resumidor_eng = pipeline('summarization', model=modelo_resumo)"
   ]
  },
  {
   "cell_type": "code",
   "execution_count": 17,
   "id": "a91f1a0c-f682-4102-8c5a-c9e608958c21",
   "metadata": {},
   "outputs": [],
   "source": [
    "texto_classificacao = \"\"\"\n",
    "Classification in machine learning involves assigning labels to input data based \n",
    "on its features and is fundamental in applications like spam detection, medical \n",
    "diagnosis, and image categorization. The process includes data collection and \n",
    "preparation, feature selection, choosing an algorithm (such as logistic regression, \n",
    "decision trees, SVM, k-NN, or neural networks), trainig, evaluation, hyperparameter \n",
    "tuning, and deployment. Despite its power, classification faces challenges like imbalanced \n",
    "datasets, ensuring model generalization, and handling noisy data. Successful classification \n",
    "models require careful handling of these steps and challenges to effectively solve real-world problems.\n",
    "\"\"\""
   ]
  },
  {
   "cell_type": "code",
   "execution_count": 18,
   "id": "7901ccb8-241f-4ccc-b29a-c824d911bf17",
   "metadata": {},
   "outputs": [],
   "source": [
    "resumo = resumidor_eng(texto_classificacao, max_length=70, min_length=30)"
   ]
  },
  {
   "cell_type": "code",
   "execution_count": 19,
   "id": "63cb711e-cc2f-4f79-b500-718d0a637454",
   "metadata": {},
   "outputs": [
    {
     "data": {
      "text/plain": [
       "[{'summary_text': 'Classification in machine learning involves assigning labels to input data. It is fundamental in applications like spam detection, medical diagnosis, and image categorization. Despite its power, classification faces challenges like imbalanced datasets.'}]"
      ]
     },
     "execution_count": 19,
     "metadata": {},
     "output_type": "execute_result"
    }
   ],
   "source": [
    "resumo"
   ]
  },
  {
   "cell_type": "code",
   "execution_count": 20,
   "id": "a06675fc-f811-4b09-9967-06ea1ff786ef",
   "metadata": {},
   "outputs": [
    {
     "name": "stdout",
     "output_type": "stream",
     "text": [
      "Classification in machine learning involves assigning labels to input data. It is fundamental in applications like spam detection, medical diagnosis, and image categorization. Despite its power, classification faces challenges like imbalanced datasets.\n"
     ]
    }
   ],
   "source": [
    "print(resumo[0]['summary_text'])"
   ]
  },
  {
   "cell_type": "markdown",
   "id": "0f3c1be5-2ac6-4eee-adb0-92157052613e",
   "metadata": {
    "jp-MarkdownHeadingCollapsed": true
   },
   "source": [
    "### Resumindo textos"
   ]
  },
  {
   "cell_type": "code",
   "execution_count": 21,
   "id": "0ae0cc54-1f5b-49b9-93df-28365ef8ab16",
   "metadata": {},
   "outputs": [],
   "source": [
    "texto_powerbi_en = \"\"\"\n",
    "Power BI is a data analysis and reporting tool developed by Microsoft. Its main \n",
    "function is to transform raw data into interactive and understandable visual \n",
    "information. Power BI is widely used by companies of all sizes to improve \n",
    "decision-making and business strategies.\n",
    "\n",
    "One of the main attractions of Power BI is its ability to integrate with a \n",
    "variety of data sources, such as SQL databases, Excel files, cloud services like \n",
    "Azure and Google Analytics, among others. This allows users to centralize all \n",
    "their data on a single platform, facilitating analysis and information sharing.\n",
    "\n",
    "Power BI is composed of three main components: Power BI Desktop, Power BI \n",
    "Service, and Power BI Mobile. Power BI Desktop is a desktop application that \n",
    "allows users to create detailed reports and dashboards. Power BI Service is an \n",
    "online platform where reports and dashboards can be published and shared with \n",
    "other members of the organization. Finally, Power BI Mobile allows users to \n",
    "access their reports and dashboards from anywhere using mobile devices.\n",
    "\n",
    "One of the most powerful features of Power BI is the ability to create \n",
    "interactive visualizations. These visualizations allow users to explore data in \n",
    "various ways, identifying patterns and trends that might go unnoticed in \n",
    "traditional data tables. Additionally, Power BI offers a vast library of \n",
    "customizable visualizations, including bar charts, line charts, geographic maps, \n",
    "scatter plots, and many others.\n",
    "\"\"\""
   ]
  },
  {
   "cell_type": "code",
   "execution_count": 22,
   "id": "fcb22263-3821-4927-b41e-57fed677b874",
   "metadata": {},
   "outputs": [],
   "source": [
    "def carregar_modelo(nome_modelo: str):\n",
    "    return pipeline('summarization', model=nome_modelo)"
   ]
  },
  {
   "cell_type": "code",
   "execution_count": 23,
   "id": "2435407c-fb55-4549-a661-d0b25e8e6022",
   "metadata": {},
   "outputs": [],
   "source": [
    "def resumir_texto(texto: str):\n",
    "    resumidor_texto = carregar_modelo('facebook/bart-large-cnn')\n",
    "    resumo = resumidor_texto(texto, max_length=200, min_length=100)\n",
    "    return resumo[0]['summary_text']"
   ]
  },
  {
   "cell_type": "code",
   "execution_count": 24,
   "id": "54aaa881-8de0-4729-8181-167054bf8201",
   "metadata": {},
   "outputs": [
    {
     "name": "stderr",
     "output_type": "stream",
     "text": [
      "Device set to use cpu\n"
     ]
    },
    {
     "data": {
      "text/plain": [
       "'Power BI is a data analysis and reporting tool developed by Microsoft. Its main function is to transform raw data into interactive and understandable visual information. Power BI is composed of three main components: Power BI Desktop, Power BI Service, and Power BI Mobile. It is widely used by companies of all sizes to improve decision-making and business strategies. It can integrate with a variety of data sources, such as SQL databases, Excel files, cloud services like Google Analytics, among others.'"
      ]
     },
     "execution_count": 24,
     "metadata": {},
     "output_type": "execute_result"
    }
   ],
   "source": [
    "resumir_texto(texto_powerbi_en)"
   ]
  },
  {
   "cell_type": "markdown",
   "id": "8acdac33-629d-4269-b375-acfeaed0d3fe",
   "metadata": {},
   "source": [
    "#### Resumo final:\n",
    "\n",
    "Power BI is a data analysis and reporting tool developed by Microsoft.\n",
    "\n",
    "Its main function is to transform raw data into interactive and understandable visual information.\n",
    "\n",
    "Power BI is composed of three main components: Power BI Desktop, Power BI Service, and Power BI Mobile.\n",
    "\n",
    "It is widely used by companies of all sizes to improve decision-making and business strategies.\n",
    "\n",
    "It can integrate with a variety of data sources, such as SQL databases, Excel files, cloud services like Google Analytics, among others."
   ]
  },
  {
   "cell_type": "markdown",
   "id": "a5d2419c-f76e-4b78-b94e-e0f54b58bcd0",
   "metadata": {
    "jp-MarkdownHeadingCollapsed": true
   },
   "source": [
    "## 03. Tradução de textos"
   ]
  },
  {
   "cell_type": "markdown",
   "id": "46e1f08c-d9dc-4b29-b4f1-f5efbb0af1e0",
   "metadata": {
    "jp-MarkdownHeadingCollapsed": true
   },
   "source": [
    "### Escolhendo o modelo"
   ]
  },
  {
   "cell_type": "code",
   "execution_count": 25,
   "id": "5b884f76-dc02-4bef-8bef-21c729a04250",
   "metadata": {},
   "outputs": [],
   "source": [
    "modelo_traducao = 'facebook/nllb-200-distilled-600M'"
   ]
  },
  {
   "cell_type": "code",
   "execution_count": 26,
   "id": "1d70d1c0-cb74-479f-b973-f565c9cd226b",
   "metadata": {},
   "outputs": [
    {
     "name": "stderr",
     "output_type": "stream",
     "text": [
      "Device set to use cpu\n"
     ]
    }
   ],
   "source": [
    "tradutor = pipeline('translation', model=modelo_traducao, src_lang='eng_Latn', tgt_lang='por_Latn')"
   ]
  },
  {
   "cell_type": "code",
   "execution_count": 27,
   "id": "32f93953-9ffe-4505-98b3-1504b753adb5",
   "metadata": {},
   "outputs": [],
   "source": [
    "texto_ingles_pt = \"\"\"\n",
    "Classification is one of the fundamental tasks in machine learning, where the \n",
    "goal is to predict the category or class of a sample based on its features. This \n",
    "technique is widely used in various applications such as image recognition, \n",
    "medical diagnosis, spam filtering, sentiment analysis, and many others.\n",
    "\"\"\""
   ]
  },
  {
   "cell_type": "code",
   "execution_count": 28,
   "id": "fee5b4dd-e3e7-4c9e-b77d-9aec2b9c28bc",
   "metadata": {},
   "outputs": [],
   "source": [
    "traducao_texto = tradutor(texto_ingles_pt, max_length=200)"
   ]
  },
  {
   "cell_type": "code",
   "execution_count": 29,
   "id": "dcd95804-420e-4010-8009-2e8dbffa098c",
   "metadata": {},
   "outputs": [
    {
     "data": {
      "text/plain": [
       "[{'translation_text': 'A classificação é uma das tarefas fundamentais do aprendizado de máquina, onde o objetivo é prever a categoria ou classe de uma amostra com base em suas características. Esta técnica é amplamente utilizada em várias aplicações, como reconhecimento de imagem, diagnóstico médico, filtragem de spam, análise de sentimentos e muitas outras. '}]"
      ]
     },
     "execution_count": 29,
     "metadata": {},
     "output_type": "execute_result"
    }
   ],
   "source": [
    "traducao_texto"
   ]
  },
  {
   "cell_type": "code",
   "execution_count": 30,
   "id": "b738c55c-0de4-4063-bf9e-8c8089613501",
   "metadata": {},
   "outputs": [
    {
     "name": "stdout",
     "output_type": "stream",
     "text": [
      "A classificação é uma das tarefas fundamentais do aprendizado de máquina, onde o objetivo é prever a categoria ou classe de uma amostra com base em suas características. Esta técnica é amplamente utilizada em várias aplicações, como reconhecimento de imagem, diagnóstico médico, filtragem de spam, análise de sentimentos e muitas outras. \n"
     ]
    }
   ],
   "source": [
    "print(traducao_texto[0]['translation_text'])"
   ]
  },
  {
   "cell_type": "markdown",
   "id": "fe8bf025-c0dd-4770-9fa3-d86bef69d86b",
   "metadata": {
    "jp-MarkdownHeadingCollapsed": true
   },
   "source": [
    "### Explorando outras linguagens"
   ]
  },
  {
   "cell_type": "code",
   "execution_count": 31,
   "id": "589245cc-1b38-4bd2-87c9-74e1165f03d6",
   "metadata": {},
   "outputs": [],
   "source": [
    "def carregar_modelo_trad(nome_modelo: str, ling_origem: str, ling_final: str):\n",
    "    return pipeline('translation', model=nome_modelo, src_lang=ling_origem, tgt_lang=ling_final)"
   ]
  },
  {
   "cell_type": "code",
   "execution_count": 40,
   "id": "aa1b4fba-e743-4bc2-8215-ea502cad5da6",
   "metadata": {},
   "outputs": [],
   "source": [
    "def traduzir_texto(texto: str, ling_origem: str, ling_final: str) -> str:\n",
    "    tradutor_texto = carregar_modelo_trad('facebook/nllb-200-distilled-600M', ling_origem, ling_final)\n",
    "    traducao = tradutor_texto(texto, max_length=400)\n",
    "    return traducao[0]['translation_text']"
   ]
  },
  {
   "cell_type": "code",
   "execution_count": 33,
   "id": "e8afe1de-af0e-4cd2-b033-41f69e681605",
   "metadata": {},
   "outputs": [],
   "source": [
    "texto_espanhol = \"\"\"\n",
    "La regresión lineal es un método estadístico utilizado para modelar la relación \n",
    "entre una variable dependiente y una o más variables independientes. El objetivo \n",
    "es encontrar la mejor línea recta que se ajuste a los datos, de manera que se \n",
    "pueda predecir el valor de la variable dependiente a partir de las variables \n",
    "independientes.\n",
    "\"\"\""
   ]
  },
  {
   "cell_type": "code",
   "execution_count": 34,
   "id": "5b4c9eec-c4b9-4f90-8ec9-e537fa234463",
   "metadata": {},
   "outputs": [],
   "source": [
    "codigos_linguagens = {\n",
    "    'Acehnese (Arabic script)': 'ace_Arab',\n",
    "    'Acehnese (Latin script)': 'ace_Latn',\n",
    "    'Mesopotamian Arabic': 'acm_Arab',\n",
    "    'Ta’izzi-Adeni Arabic': 'acq_Arab',\n",
    "    'Tunisian Arabic': 'aeb_Arab',\n",
    "    'Afrikaans': 'afr_Latn',\n",
    "    'South Levantine Arabic': 'ajp_Arab',\n",
    "    'Akan': 'aka_Latn',\n",
    "    'Amharic': 'amh_Ethi',\n",
    "    'North Levantine Arabic': 'apc_Arab',\n",
    "    'Modern Standard Arabic': 'arb_Arab',\n",
    "    'Modern Standard Arabic (Romanized)': 'arb_Latn',\n",
    "    'Najdi Arabic': 'ars_Arab',\n",
    "    'Moroccan Arabic': 'ary_Arab',\n",
    "    'Egyptian Arabic': 'arz_Arab',\n",
    "    'Assamese': 'asm_Beng',\n",
    "    'Asturian': 'ast_Latn',\n",
    "    'Awadhi': 'awa_Deva',\n",
    "    'Central Aymara': 'ayr_Latn',\n",
    "    'South Azerbaijani': 'azb_Arab',\n",
    "    'North Azerbaijani': 'azj_Latn',\n",
    "    'Bashkir': 'bak_Cyrl',\n",
    "    'Bambara': 'bam_Latn',\n",
    "    'Balinese': 'ban_Latn',\n",
    "    'Belarusian': 'bel_Cyrl',\n",
    "    'Bemba': 'bem_Latn',\n",
    "    'Bengali': 'ben_Beng',\n",
    "    'Bhojpuri': 'bho_Deva',\n",
    "    'Banjar (Arabic script)': 'bjn_Arab',\n",
    "    'Banjar (Latin script)': 'bjn_Latn',\n",
    "    'Standard Tibetan': 'bod_Tibt',\n",
    "    'Bosnian': 'bos_Latn',\n",
    "    'Buginese': 'bug_Latn',\n",
    "    'Bulgarian': 'bul_Cyrl',\n",
    "    'Catalan': 'cat_Latn',\n",
    "    'Cebuano': 'ceb_Latn',\n",
    "    'Czech': 'ces_Latn',\n",
    "    'Chokwe': 'cjk_Latn',\n",
    "    'Central Kurdish': 'ckb_Arab',\n",
    "    'Crimean Tatar': 'crh_Latn',\n",
    "    'Welsh': 'cym_Latn',\n",
    "    'Danish': 'dan_Latn',\n",
    "    'German': 'deu_Latn',\n",
    "    'Southwestern Dinka': 'dik_Latn',\n",
    "    'Dyula': 'dyu_Latn',\n",
    "    'Dzongkha': 'dzo_Tibt',\n",
    "    'Greek': 'ell_Grek',\n",
    "    'English': 'eng_Latn',\n",
    "    'Esperanto': 'epo_Latn',\n",
    "    'Estonian': 'est_Latn',\n",
    "    'Basque': 'eus_Latn',\n",
    "    'Ewe': 'ewe_Latn',\n",
    "    'Faroese': 'fao_Latn',\n",
    "    'Fijian': 'fij_Latn',\n",
    "    'Finnish': 'fin_Latn',\n",
    "    'Fon': 'fon_Latn',\n",
    "    'French': 'fra_Latn',\n",
    "    'Friulian': 'fur_Latn',\n",
    "    'Nigerian Fulfulde': 'fuv_Latn',\n",
    "    'Scottish Gaelic': 'gla_Latn',\n",
    "    'Irish': 'gle_Latn',\n",
    "    'Galician': 'glg_Latn',\n",
    "    'Guarani': 'grn_Latn',\n",
    "    'Gujarati': 'guj_Gujr',\n",
    "    'Haitian Creole': 'hat_Latn',\n",
    "    'Hausa': 'hau_Latn',\n",
    "    'Hebrew': 'heb_Hebr',\n",
    "    'Hindi': 'hin_Deva',\n",
    "    'Chhattisgarhi': 'hne_Deva',\n",
    "    'Croatian': 'hrv_Latn',\n",
    "    'Hungarian': 'hun_Latn',\n",
    "    'Armenian': 'hye_Armn',\n",
    "    'Igbo': 'ibo_Latn',\n",
    "    'Ilocano': 'ilo_Latn',\n",
    "    'Indonesian': 'ind_Latn',\n",
    "    'Icelandic': 'isl_Latn',\n",
    "    'Italian': 'ita_Latn',\n",
    "    'Javanese': 'jav_Latn',\n",
    "    'Japanese': 'jpn_Jpan',\n",
    "    'Kabyle': 'kab_Latn',\n",
    "    'Jingpho': 'kac_Latn',\n",
    "    'Kamba': 'kam_Latn',\n",
    "    'Kannada': 'kan_Knda',\n",
    "    'Kashmiri (Arabic script)': 'kas_Arab',\n",
    "    'Kashmiri (Devanagari script)': 'kas_Deva',\n",
    "    'Georgian': 'kat_Geor',\n",
    "    'Central Kanuri (Arabic script)': 'knc_Arab',\n",
    "    'Central Kanuri (Latin script)': 'knc_Latn',\n",
    "    'Kazakh': 'kaz_Cyrl',\n",
    "    'Kabiyè': 'kbp_Latn',\n",
    "    'Kabuverdianu': 'kea_Latn',\n",
    "    'Khmer': 'khm_Khmr',\n",
    "    'Kikuyu': 'kik_Latn',\n",
    "    'Kinyarwanda': 'kin_Latn',\n",
    "    'Kyrgyz': 'kir_Cyrl',\n",
    "    'Kimbundu': 'kmb_Latn',\n",
    "    'Northern Kurdish': 'kmr_Latn',\n",
    "    'Kikongo': 'kon_Latn',\n",
    "    'Korean': 'kor_Hang',\n",
    "    'Lao': 'lao_Laoo',\n",
    "    'Ligurian': 'lij_Latn',\n",
    "    'Limburgish': 'lim_Latn',\n",
    "    'Lingala': 'lin_Latn',\n",
    "    'Lithuanian': 'lit_Latn',\n",
    "    'Lombard': 'lmo_Latn',\n",
    "    'Latgalian': 'ltg_Latn',\n",
    "    'Luxembourgish': 'ltz_Latn',\n",
    "    'Luba-Kasai': 'lua_Latn',\n",
    "    'Ganda': 'lug_Latn',\n",
    "    'Luo': 'luo_Latn',\n",
    "    'Mizo': 'lus_Latn',\n",
    "    'Standard Latvian': 'lvs_Latn',\n",
    "    'Magahi': 'mag_Deva',\n",
    "    'Maithili': 'mai_Deva',\n",
    "    'Malayalam': 'mal_Mlym',\n",
    "    'Marathi': 'mar_Deva',\n",
    "    'Minangkabau (Arabic script)': 'min_Arab',\n",
    "    'Minangkabau (Latin script)': 'min_Latn',\n",
    "    'Macedonian': 'mkd_Cyrl',\n",
    "    'Plateau Malagasy': 'plt_Latn',\n",
    "    'Maltese': 'mlt_Latn',\n",
    "    'Meitei (Bengali script)': 'mni_Beng',\n",
    "    'Halh Mongolian': 'khk_Cyrl',\n",
    "    'Mossi': 'mos_Latn',\n",
    "    'Maori': 'mri_Latn',\n",
    "    'Burmese': 'mya_Mymr',\n",
    "    'Dutch': 'nld_Latn',\n",
    "    'Norwegian Nynorsk': 'nno_Latn',\n",
    "    'Norwegian Bokmål': 'nob_Latn',\n",
    "    'Nepali': 'npi_Deva',\n",
    "    'Northern Sotho': 'nso_Latn',\n",
    "    'Nuer': 'nus_Latn',\n",
    "    'Nyanja': 'nya_Latn',\n",
    "    'Occitan': 'oci_Latn',\n",
    "    'West Central Oromo': 'gaz_Latn',\n",
    "    'Odia': 'ory_Orya',\n",
    "    'Pangasinan': 'pag_Latn',\n",
    "    'Eastern Panjabi': 'pan_Guru',\n",
    "    'Papiamento': 'pap_Latn',\n",
    "    'Western Persian': 'pes_Arab',\n",
    "    'Polish': 'pol_Latn',\n",
    "    'Portuguese': 'por_Latn',\n",
    "    'Dari': 'prs_Arab',\n",
    "    'Southern Pashto': 'pbt_Arab',\n",
    "    'Ayacucho Quechua': 'quy_Latn',\n",
    "    'Romanian': 'ron_Latn',\n",
    "    'Rundi': 'run_Latn',\n",
    "    'Russian': 'rus_Cyrl',\n",
    "    'Sango': 'sag_Latn',\n",
    "    'Sanskrit': 'san_Deva',\n",
    "    'Santali': 'sat_Olck',\n",
    "    'Sicilian': 'scn_Latn',\n",
    "    'Shan': 'shn_Mymr',\n",
    "    'Sinhala': 'sin_Sinh',\n",
    "    'Slovak': 'slk_Latn',\n",
    "    'Slovenian': 'slv_Latn',\n",
    "    'Samoan': 'smo_Latn',\n",
    "    'Shona': 'sna_Latn',\n",
    "    'Sindhi': 'snd_Arab',\n",
    "    'Somali': 'som_Latn',\n",
    "    'Southern Sotho': 'sot_Latn',\n",
    "    'Spanish': 'spa_Latn',\n",
    "    'Tosk Albanian': 'als_Latn',\n",
    "    'Sardinian': 'srd_Latn',\n",
    "    'Serbian': 'srp_Cyrl',\n",
    "    'Swati': 'ssw_Latn',\n",
    "    'Sundanese': 'sun'\n",
    "}"
   ]
  },
  {
   "cell_type": "code",
   "execution_count": 38,
   "id": "441bf748-ce38-4893-992f-0cc990d348e2",
   "metadata": {},
   "outputs": [
    {
     "name": "stderr",
     "output_type": "stream",
     "text": [
      "Device set to use cpu\n"
     ]
    }
   ],
   "source": [
    "texto_esp_pt = traduzir_texto(texto_espanhol, codigos_linguagens['Spanish'], codigos_linguagens['Portuguese'])"
   ]
  },
  {
   "cell_type": "code",
   "execution_count": 39,
   "id": "dc772868-cded-4d23-bc36-46e2d6ea728b",
   "metadata": {},
   "outputs": [
    {
     "name": "stdout",
     "output_type": "stream",
     "text": [
      "A regressão linear é um método estatístico usado para modelar a relação entre uma variável dependente e uma ou mais variáveis independentes. O objetivo é encontrar a melhor linha reta que se ajuste aos dados, para que se possa prever o valor da variável dependente a partir das variáveis independentes. \n"
     ]
    }
   ],
   "source": [
    "print(texto_esp_pt)"
   ]
  },
  {
   "cell_type": "code",
   "execution_count": 41,
   "id": "ea0f9c48-4257-416b-a9e1-79d614d9f757",
   "metadata": {},
   "outputs": [],
   "source": [
    "texto_frances = \"\"\"\n",
    "La visualisation de données est un processus qui consiste à représenter \n",
    "graphiquement des informations et des données. En utilisant des éléments visuels \n",
    "tels que des graphiques, des cartes, des diagrammes et des tableaux, la \n",
    "visualisation de données permet aux individus de comprendre rapidement des \n",
    "tendances, des anomalies et des modèles dans les données. Elle est essentielle \n",
    "dans le domaine de l'analyse de données, car elle transforme des données \n",
    "complexes et volumineuses en représentations visuelles plus faciles à \n",
    "interpréter.\n",
    "\"\"\""
   ]
  },
  {
   "cell_type": "code",
   "execution_count": 42,
   "id": "e8be4099-a100-4c11-b188-8f13d0e670e8",
   "metadata": {},
   "outputs": [
    {
     "name": "stderr",
     "output_type": "stream",
     "text": [
      "Device set to use cpu\n"
     ]
    }
   ],
   "source": [
    "texto_fr_pt = traduzir_texto(texto_frances, codigos_linguagens['French'], codigos_linguagens['Portuguese'])"
   ]
  },
  {
   "cell_type": "code",
   "execution_count": 43,
   "id": "fe366298-e0e0-4e1f-968c-7cb1b2d0f7dc",
   "metadata": {},
   "outputs": [
    {
     "name": "stdout",
     "output_type": "stream",
     "text": [
      "A visualização de dados é um processo que consiste em representar gráficamente informações e dados. Usando elementos visuais como gráficos, mapas, diagramas e tabelas, a visualização de dados permite que os indivíduos compreendam rapidamente tendências, anomalias e padrões nos dados. É essencial no campo da análise de dados, pois transforma dados complexos e volumosos em representações visuais mais fáceis de interpretar. \n"
     ]
    }
   ],
   "source": [
    "print(texto_fr_pt)"
   ]
  },
  {
   "cell_type": "markdown",
   "id": "c2313668-de69-46b4-9019-8a748d81ad49",
   "metadata": {
    "jp-MarkdownHeadingCollapsed": true
   },
   "source": [
    "### Unindo os modelos"
   ]
  },
  {
   "cell_type": "code",
   "execution_count": 45,
   "id": "c2f9a293-3f8d-4e67-a2d6-4cdc342ed7a8",
   "metadata": {},
   "outputs": [],
   "source": [
    "def carregar_modelos_trad_resumo(modelo_resumo, modelo_trad, ling_origem, ling_final):\n",
    "    resumidor = pipeline('summarization', model=modelo_resumo)\n",
    "    tradutor = pipeline('translation', model=modelo_trad, src_lang=ling_origem, tgt_lang=ling_final)\n",
    "    return resumidor, tradutor"
   ]
  },
  {
   "cell_type": "code",
   "execution_count": 46,
   "id": "0f8a68d8-4bb3-43d9-a559-151da7539c32",
   "metadata": {},
   "outputs": [],
   "source": [
    "def resumir_traduzir_texto_en_pt(texto: str):\n",
    "    ling_origem = 'eng_Latn'\n",
    "    ling_final = 'por_Latn'\n",
    "\n",
    "    modelo_resumo = 'facebook/bart-large-cnn'\n",
    "    modelo_trad = 'facebook/nllb-200-distilled-600M'\n",
    "\n",
    "    resumidor, tradutor = carregar_modelos_trad_resumo(modelo_resumo, modelo_trad, ling_origem, ling_final)\n",
    "\n",
    "    # Resumo\n",
    "    resumo = resumidor(texto, max_length=200, min_length=100)\n",
    "    resumo_texto = resumo[0]['summary_text']\n",
    "\n",
    "    # Tradução\n",
    "    traducao = tradutor(resumo_texto, max_length=400)\n",
    "    return traducao[0]['translation_text']"
   ]
  },
  {
   "cell_type": "code",
   "execution_count": 47,
   "id": "21c3f9c8-713c-4444-8f2f-dc54716a564b",
   "metadata": {},
   "outputs": [],
   "source": [
    "texto_nlp_eng = \"\"\"\n",
    "Natural Language Processing (NLP) is a field of artificial intelligence that \n",
    "focuses on the interaction between computers and human language. It involves \n",
    "the development of algorithms and models that enable machines to understand, \n",
    "interpret, and generate human language. NLP combines concepts from computer science, \n",
    "linguistics, and machine learning to process and analyze large amounts of natural \n",
    "language data.\n",
    "\n",
    "The ability to process and understand human language is crucial for many applications \n",
    "in today's digital world. NLP powers a wide range of technologies that we use daily, including:\n",
    "Search Engines: Understanding and processing user queries to return relevant search results.\n",
    "Voice Assistants: Enabling devices like Siri, Alexa, and Google Assistant to understand spoken \n",
    "commands and respond appropriately.\n",
    "Translation Services: Providing accurate translations between different languages, as seen in \n",
    "tools like Google Translate.\n",
    "Customer Support: Automating responses in chatbots and virtual assistants to handle customer \n",
    "inquiries efficiently.\n",
    "Text Analysis: Analyzing sentiments, extracting key information, and summarizing documents for \n",
    "better insights.\n",
    "\n",
    "NLP has a wide array of applications across various industries:\n",
    "Healthcare: NLP is used to process and analyze medical records, extract relevant information, \n",
    "and assist in clinical decision-making.\n",
    "Finance: Analyzing financial documents, news, and reports to provide insights and make informed decisions.\n",
    "Marketing: Understanding customer sentiments and feedback to tailor marketing strategies and improve \n",
    "customer experience.\n",
    "Legal: Automating the review of legal documents, contracts, and compliance reports to save time and \n",
    "reduce errors.\n",
    "Education: Enhancing educational tools, grading systems, and providing personalized learning experiences.\n",
    "\"\"\""
   ]
  },
  {
   "cell_type": "code",
   "execution_count": 48,
   "id": "114612ea-2dcf-4412-911f-4ad81754380d",
   "metadata": {},
   "outputs": [
    {
     "name": "stderr",
     "output_type": "stream",
     "text": [
      "Device set to use cpu\n",
      "Device set to use cpu\n"
     ]
    }
   ],
   "source": [
    "resultado = resumir_traduzir_texto_en_pt(texto_nlp_eng)"
   ]
  },
  {
   "cell_type": "code",
   "execution_count": 49,
   "id": "6e6e7088-7aeb-474d-9c09-076fb8aad64d",
   "metadata": {},
   "outputs": [
    {
     "name": "stdout",
     "output_type": "stream",
     "text": [
      "Natural Language Processing (NLP) é um campo de inteligência artificial que se concentra na interação entre computadores e linguagem humana. NLP combina conceitos de ciência da computação, aprendizado de máquina e linguística para processar e analisar grandes quantidades de dados de linguagem natural. Ele alimenta uma ampla gama de tecnologias que usamos diariamente, incluindo Siri, Alexa e Google Translate. NLP tem uma ampla gama de aplicações em várias indústrias, incluindo saúde, finanças, marketing, educação, suporte ao cliente e jurídico.\n"
     ]
    }
   ],
   "source": [
    "print(resultado)"
   ]
  },
  {
   "cell_type": "markdown",
   "id": "c1f80f41-c109-435e-a0f4-a77540c72ad9",
   "metadata": {
    "jp-MarkdownHeadingCollapsed": true
   },
   "source": [
    "## 04. Construindo a aplicação"
   ]
  },
  {
   "cell_type": "markdown",
   "id": "756dd4a0-0618-4f69-8fc2-f41a9454e17b",
   "metadata": {
    "jp-MarkdownHeadingCollapsed": true
   },
   "source": [
    "### Conhecendo o Gradio"
   ]
  },
  {
   "cell_type": "code",
   "execution_count": 51,
   "id": "65685b41-b390-428b-82ff-0757abbabfbe",
   "metadata": {},
   "outputs": [],
   "source": [
    "import gradio as gr"
   ]
  },
  {
   "cell_type": "code",
   "execution_count": 52,
   "id": "362065f5-4ac7-42b9-ade7-234842d5fa6b",
   "metadata": {},
   "outputs": [
    {
     "name": "stderr",
     "output_type": "stream",
     "text": [
      "Device set to use cpu\n"
     ]
    }
   ],
   "source": [
    "tradutor = pipeline('translation', model='facebook/nllb-200-distilled-600M', src_lang='en_Latn', tgt_lang='por_Latn')"
   ]
  },
  {
   "cell_type": "code",
   "execution_count": 53,
   "id": "57b5525c-cefc-4631-aa11-c4683a796671",
   "metadata": {},
   "outputs": [],
   "source": [
    "def traducao_eng_por(texto: str):\n",
    "    texto_traduzido = tradutor(texto, max_length=400)\n",
    "    return texto_traduzido[0]['translation_text']"
   ]
  },
  {
   "cell_type": "code",
   "execution_count": 55,
   "id": "771385ba-8506-493a-9fd5-0f4a939ff377",
   "metadata": {},
   "outputs": [
    {
     "name": "stdout",
     "output_type": "stream",
     "text": [
      "* Running on local URL:  http://127.0.0.1:7860\n",
      "* To create a public link, set `share=True` in `launch()`.\n"
     ]
    },
    {
     "data": {
      "text/html": [
       "<div><iframe src=\"http://127.0.0.1:7860/\" width=\"100%\" height=\"500\" allow=\"autoplay; camera; microphone; clipboard-read; clipboard-write;\" frameborder=\"0\" allowfullscreen></iframe></div>"
      ],
      "text/plain": [
       "<IPython.core.display.HTML object>"
      ]
     },
     "metadata": {},
     "output_type": "display_data"
    },
    {
     "data": {
      "text/plain": []
     },
     "execution_count": 55,
     "metadata": {},
     "output_type": "execute_result"
    }
   ],
   "source": [
    "app = gr.Interface(\n",
    "    fn=traducao_eng_por,\n",
    "    inputs=gr.Textbox(lines=5, label='Texto original'),\n",
    "    outputs=gr.Textbox(lines=5, label='Texto traduzido'),\n",
    "    title='Tradutor de texto',\n",
    "    description='Envie o texto em inglês para traduzir para português'\n",
    ")\n",
    "app.launch()"
   ]
  },
  {
   "cell_type": "code",
   "execution_count": 63,
   "id": "a35f111e-c731-4393-9cc6-6c2fb99704e6",
   "metadata": {},
   "outputs": [],
   "source": [
    "def traduzir_resumir_textos(texto: str, ling_origem: str, ling_final: str) -> str:\n",
    "    nome_modelo_traducao = 'facebook/nllb-200-distilled-600M'\n",
    "    nome_modelo_resumo = 'facebook/bart-large-cnn'\n",
    "\n",
    "    idioma_origem = codigos_linguagens[ling_origem]\n",
    "    idioma_final = codigos_linguagens[ling_final]\n",
    "\n",
    "    resumidor = pipeline('summarization', model=nome_modelo_resumo)\n",
    "\n",
    "    if idioma_origem == 'eng_Latn':\n",
    "        resumo = resumidor(texto, max_length=200, min_length=100)[0]['translation_text']\n",
    "    else:\n",
    "        tradutor = pipeline('translation', model=nome_modelo_traducao, src_lang=idioma_origem, tgt_lang='eng_Latn')\n",
    "        texto_traduzido = tradutor(texto, max_length=512)[0]['translation_text']\n",
    "        resumo = resumidor(texto_traduzido, max_length=200, min_length=100)[0]['summary_text']\n",
    "\n",
    "    tradutor = pipeline('translation', model=nome_modelo_traducao, src_lang='eng_Latn', tgt_lang=idioma_final)\n",
    "    return tradutor(texto, max_length=512)[0]['translation_text']"
   ]
  },
  {
   "cell_type": "markdown",
   "id": "9d06f760-e090-426c-90cd-54958e3924f7",
   "metadata": {
    "jp-MarkdownHeadingCollapsed": true
   },
   "source": [
    "### Construindo a aplicação"
   ]
  },
  {
   "cell_type": "code",
   "execution_count": 60,
   "id": "d618dfb6-ffe1-4059-bb33-20c785fcacc2",
   "metadata": {},
   "outputs": [],
   "source": [
    "cod_idiomas = list(codigos_linguagens.keys())"
   ]
  },
  {
   "cell_type": "code",
   "execution_count": 61,
   "id": "632470b1-e99f-41aa-aa1d-1e4540e891a5",
   "metadata": {},
   "outputs": [],
   "source": [
    "entradas = [\n",
    "    gr.Textbox(lines=5, label='Insira o texto'),\n",
    "    gr.Dropdown(cod_idiomas, value='English', label='Texto original'),\n",
    "    gr.Dropdown(cod_idiomas, value='Portuguese', label='Texto final')\n",
    "]"
   ]
  },
  {
   "cell_type": "code",
   "execution_count": 62,
   "id": "df96efcf-96e0-4e33-8dbe-2bc3c4df8296",
   "metadata": {},
   "outputs": [],
   "source": [
    "saidas = gr.Textbox(lines=5, label='Texto final')"
   ]
  },
  {
   "cell_type": "code",
   "execution_count": 64,
   "id": "386fd561-7658-4255-9e2a-02d5b8e85bcc",
   "metadata": {},
   "outputs": [],
   "source": [
    "titulo = 'Tradução de Resumo'\n",
    "descr = 'Esta aplicação resume e traduz o texto inserido. Modelo de tradução: facebook/nllb-200-distilled-600M. Modelo de sumarização: facebook/bart-large-cnn.'"
   ]
  },
  {
   "cell_type": "code",
   "execution_count": 65,
   "id": "b8befeb5-a7e3-49a8-9927-4c7d9e4da72a",
   "metadata": {},
   "outputs": [],
   "source": [
    "aplicacao = gr.Interface(\n",
    "    fn=traduzir_resumir_textos,\n",
    "    inputs=entradas,\n",
    "    outputs=saidas,\n",
    "    title=titulo,\n",
    "    description=descr\n",
    ")"
   ]
  },
  {
   "cell_type": "code",
   "execution_count": 68,
   "id": "1ae42b1d-ddbe-4a93-8357-45451b3f7074",
   "metadata": {},
   "outputs": [],
   "source": [
    "# aplicacao.launch()"
   ]
  },
  {
   "cell_type": "markdown",
   "id": "51b4c6c0-959a-4b9c-9920-c46b20ff507f",
   "metadata": {
    "jp-MarkdownHeadingCollapsed": true
   },
   "source": [
    "## 05. Estilizando o Gradio"
   ]
  },
  {
   "cell_type": "code",
   "execution_count": 72,
   "id": "b72b69e0-950c-4eea-8419-26888d612c1f",
   "metadata": {},
   "outputs": [
    {
     "name": "stdout",
     "output_type": "stream",
     "text": [
      "* Running on local URL:  http://127.0.0.1:7861\n",
      "* To create a public link, set `share=True` in `launch()`.\n"
     ]
    },
    {
     "data": {
      "text/html": [
       "<div><iframe src=\"http://127.0.0.1:7861/\" width=\"100%\" height=\"500\" allow=\"autoplay; camera; microphone; clipboard-read; clipboard-write;\" frameborder=\"0\" allowfullscreen></iframe></div>"
      ],
      "text/plain": [
       "<IPython.core.display.HTML object>"
      ]
     },
     "metadata": {},
     "output_type": "display_data"
    },
    {
     "data": {
      "text/plain": []
     },
     "execution_count": 72,
     "metadata": {},
     "output_type": "execute_result"
    }
   ],
   "source": [
    "with gr.Blocks() as app:\n",
    "    gr.Markdown('# Tradução e Resumo')\n",
    "    gr.Markdown(descr)\n",
    "    with gr.Row():\n",
    "        with gr.Column():\n",
    "            texto = gr.Textbox(lines=5, label='Insira o texto')\n",
    "            origem = gr.Dropdown(cod_idiomas, value='English', label='Texto original')\n",
    "            destino = gr.Dropdown(cod_idiomas, value='Portuguese', label='Texto final')\n",
    "        with gr.Column():\n",
    "            resumo = gr.Textbox(lines=5, label='Texto final')\n",
    "    botao = gr.Button('Gerar resumo')\n",
    "    botao.click(fn=traduzir_resumir_textos, inputs=[texto, origem, destino], outputs=resumo)\n",
    "# app.launch()"
   ]
  },
  {
   "cell_type": "markdown",
   "id": "327c7474-cc0a-4aa0-9137-e5756425c047",
   "metadata": {
    "jp-MarkdownHeadingCollapsed": true
   },
   "source": [
    "### Aplicando temas"
   ]
  },
  {
   "cell_type": "code",
   "execution_count": 73,
   "id": "fc6c3fe4-edc1-43f8-a375-695e1751bb9b",
   "metadata": {},
   "outputs": [
    {
     "name": "stderr",
     "output_type": "stream",
     "text": [
      "/home/cristoffer_pogan/Entwicklung/Alura/Formacoes/NLP_com_Python/3_Explorando_modelos_do_HuggingFace/NLP_resumindo_textos_com_HuggingFace_e_Gradio/.venv/lib/python3.12/site-packages/gradio/themes/builder_app.py:443: UserWarning: You have not specified a value for the `type` parameter. Defaulting to the 'tuples' format for chatbot messages, but this is deprecated and will be removed in a future version of Gradio. Please set type='messages' instead, which uses openai-style dictionaries with 'role' and 'content' keys.\n",
      "  chatbot = gr.Chatbot([(\"Hello\", \"Hi\")], label=\"Chatbot\")\n"
     ]
    },
    {
     "name": "stdout",
     "output_type": "stream",
     "text": [
      "* Running on local URL:  http://127.0.0.1:7862\n",
      "* To create a public link, set `share=True` in `launch()`.\n"
     ]
    },
    {
     "data": {
      "text/html": [
       "<div><iframe src=\"http://127.0.0.1:7862/\" width=\"100%\" height=\"500\" allow=\"autoplay; camera; microphone; clipboard-read; clipboard-write;\" frameborder=\"0\" allowfullscreen></iframe></div>"
      ],
      "text/plain": [
       "<IPython.core.display.HTML object>"
      ]
     },
     "metadata": {},
     "output_type": "display_data"
    },
    {
     "data": {
      "text/plain": []
     },
     "execution_count": 73,
     "metadata": {},
     "output_type": "execute_result"
    }
   ],
   "source": [
    "# gr.themes.builder()"
   ]
  },
  {
   "cell_type": "markdown",
   "id": "7460b270-e7f7-472d-b0e7-e69ccbf01666",
   "metadata": {
    "jp-MarkdownHeadingCollapsed": true
   },
   "source": [
    "## Para ir mais a fundo\n",
    "\n",
    "[Gradio Documentation](https://gradio.app/docs/)\n",
    "\n",
    "[Gradio GitHub Repository](https://github.com/gradio-app/gradio)\n",
    "\n",
    "[HuggingFace - NLP Course](https://huggingface.co/course/chapter1)"
   ]
  }
 ],
 "metadata": {
  "kernelspec": {
   "display_name": "Resumindo Textos (.venv)",
   "language": "python",
   "name": ".venv"
  },
  "language_info": {
   "codemirror_mode": {
    "name": "ipython",
    "version": 3
   },
   "file_extension": ".py",
   "mimetype": "text/x-python",
   "name": "python",
   "nbconvert_exporter": "python",
   "pygments_lexer": "ipython3",
   "version": "3.12.2"
  }
 },
 "nbformat": 4,
 "nbformat_minor": 5
}
