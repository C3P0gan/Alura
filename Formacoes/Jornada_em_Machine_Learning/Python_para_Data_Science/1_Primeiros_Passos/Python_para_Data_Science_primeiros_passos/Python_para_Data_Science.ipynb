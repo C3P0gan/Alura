{
 "cells": [
  {
   "cell_type": "markdown",
   "id": "19ab0f43-0439-43bc-9cea-0c20c72de4ea",
   "metadata": {},
   "source": [
    "# Python para Data Science: primeiros passos"
   ]
  },
  {
   "cell_type": "markdown",
   "id": "9ae9ec9d-0b6c-4951-bceb-1a885ff95757",
   "metadata": {
    "jp-MarkdownHeadingCollapsed": true
   },
   "source": [
    "## 01. Começando com Python"
   ]
  },
  {
   "cell_type": "markdown",
   "id": "d7412d7c-dd24-48ee-8538-25457cfe9533",
   "metadata": {
    "jp-MarkdownHeadingCollapsed": true
   },
   "source": [
    "### Para saber mais: o que é Python?\n",
    "\n",
    "**Python** é uma linguagem de programação de **alto nível**, **interpretada** e **orientada a objetos**. Foi criada no final de 1989 pelo programador holandês [Guido van Rossum](https://twitter.com/gvanrossum). O nome “Python” foi inspirado na série de televisão britânica *Monty Python's Flying Circus* e tem como símbolo a imagem mostrada abaixo:\n",
    "\n",
    "![Python Logo](https://media0.giphy.com/media/v1.Y2lkPTc5MGI3NjExbG1tcmhmd2RjMXlndzVkazIzY2pqbjNlejFqYnE0aGFuNjd2emFyMSZlcD12MV9pbnRlcm5hbF9naWZfYnlfaWQmY3Q9Zw/KAq5w47R9rmTuvWOWa/giphy.gif)\n",
    "\n",
    "Python é utilizado em várias áreas como desenvolvimento de **aplicações web**, **ciência de dados**, **machine learning**, **automação de tarefas**, **análise de dados** e muitas outras. É uma linguagem de programação versátil que pode ser usada para criar praticamente qualquer tipo de programa.\n",
    "\n",
    "Por ter uma **sintaxe simples e fácil de ler**, se torna uma boa escolha para iniciantes na programação. Além disso, Python é uma das linguagens mais usadas no mundo, possuindo uma grande comunidade ativa e muitas bibliotecas e frameworks disponíveis, o que facilita a realização de diversas tarefas.\n",
    "\n",
    "Ele é compatível com diversos sistemas operacionais, como: Windows, Linux e macOS. Por ser uma linguagem popular e em constante evolução, Python é utilizado em muitas empresas e organizações em todo o mundo. Também é amplamente utilizado em aplicações científicas, devido à sua capacidade de lidar com grandes conjuntos de dados e com operações matemáticas complexas.\n",
    "\n",
    "As informações e documentações sobre Python podem ser encontradas no site oficial [python.org](https://www.python.org/). Caso queira mais motivos para aprender essa linguagem, bem como se aprofundar nos conceitos destacados aqui, indico a leitura do artigo [O que é Python? - um guia completo para iniciar nessa linguagem de programação](https://www.alura.com.br/artigos/python?srsltid=AfmBOopEUbGpj_aK68p7YUTyp4NLNGC4-Sp6WxiHwHxZpFj3UCEcMqPi)."
   ]
  },
  {
   "cell_type": "markdown",
   "id": "2400bbea-210b-46a7-b908-2b260f842f48",
   "metadata": {
    "jp-MarkdownHeadingCollapsed": true
   },
   "source": [
    "### Olá mundo!"
   ]
  },
  {
   "cell_type": "code",
   "execution_count": 1,
   "id": "e4495cb4-7518-4780-bebc-f8fddc799050",
   "metadata": {},
   "outputs": [
    {
     "name": "stdout",
     "output_type": "stream",
     "text": [
      "Olá mundo!\n"
     ]
    }
   ],
   "source": [
    "print('Olá mundo!')"
   ]
  },
  {
   "cell_type": "markdown",
   "id": "2bfe91ac-62b4-4a9a-a2bf-2adc8810baba",
   "metadata": {
    "jp-MarkdownHeadingCollapsed": true
   },
   "source": [
    "## 02. Manipulando dados no Python"
   ]
  },
  {
   "cell_type": "markdown",
   "id": "10143404-c3db-46c3-a4f8-ac141f4a70d6",
   "metadata": {
    "jp-MarkdownHeadingCollapsed": true
   },
   "source": [
    "### Variáveis"
   ]
  },
  {
   "cell_type": "code",
   "execution_count": 2,
   "id": "e2b0d853-e7cf-4c1a-86c4-8bd73274e135",
   "metadata": {},
   "outputs": [],
   "source": [
    "idade = 5"
   ]
  },
  {
   "cell_type": "code",
   "execution_count": 3,
   "id": "16993f0f-054c-4234-9c10-9f8dc858f205",
   "metadata": {},
   "outputs": [
    {
     "name": "stdout",
     "output_type": "stream",
     "text": [
      "idade=5\n"
     ]
    }
   ],
   "source": [
    "print(f\"{idade=}\")"
   ]
  },
  {
   "cell_type": "code",
   "execution_count": 4,
   "id": "443aadcf-aae2-404e-9ba1-29a3d94350e5",
   "metadata": {},
   "outputs": [
    {
     "name": "stdout",
     "output_type": "stream",
     "text": [
      "idade=10\n"
     ]
    }
   ],
   "source": [
    "idade = 10\n",
    "print (f\"{idade=}\")"
   ]
  },
  {
   "cell_type": "code",
   "execution_count": 5,
   "id": "75af9733-cf64-4773-afa5-a456e7fd4b83",
   "metadata": {},
   "outputs": [
    {
     "data": {
      "text/plain": [
       "15"
      ]
     },
     "execution_count": 5,
     "metadata": {},
     "output_type": "execute_result"
    }
   ],
   "source": [
    "idade = 15\n",
    "idade"
   ]
  },
  {
   "cell_type": "code",
   "execution_count": 6,
   "id": "cadf54e2-2695-4b0a-84c2-d7e656f8860e",
   "metadata": {},
   "outputs": [
    {
     "data": {
      "text/plain": [
       "'Gabriel'"
      ]
     },
     "execution_count": 6,
     "metadata": {},
     "output_type": "execute_result"
    }
   ],
   "source": [
    "nome = 'Gabriel'\n",
    "nome"
   ]
  },
  {
   "cell_type": "markdown",
   "id": "aafd28bb-860d-4cd7-8147-76d775a55628",
   "metadata": {
    "jp-MarkdownHeadingCollapsed": true
   },
   "source": [
    "### Tipos de variáveis"
   ]
  },
  {
   "cell_type": "markdown",
   "id": "04e11de2-9a5f-4400-879a-1a95cb4f7189",
   "metadata": {},
   "source": [
    "| Classe | Descrição | Exemplo |\n",
    "| :----: | :-------: | :-----: |\n",
    "| int | Armazena números inteiros | 3, 100 ou -5 |\n",
    "| float | Armazena números com ponto flutuante, ou seja, números que possuem uma parte fracionária ou reais | 3.14, 100.0 ou -0.5 |\n",
    "| str | Armazena strings, ou seja, um texto ou sequências de caracteres. As strings são geralmente usadas para armazenar texto e são delimitadas po aspas simples ou duplas | \"Olá!\", 'Alura' ou \"1234\" |\n",
    "| bool | Armazena valores lógicos, verdadeiro ou falso | True e False |"
   ]
  },
  {
   "cell_type": "code",
   "execution_count": 7,
   "id": "5aa38347-4b57-4a1c-8209-56470953b16a",
   "metadata": {},
   "outputs": [
    {
     "data": {
      "text/plain": [
       "int"
      ]
     },
     "execution_count": 7,
     "metadata": {},
     "output_type": "execute_result"
    }
   ],
   "source": [
    "i = 5\n",
    "type(i)"
   ]
  },
  {
   "cell_type": "code",
   "execution_count": 8,
   "id": "0c861af4-5803-4623-8ac7-7d6479a2f266",
   "metadata": {},
   "outputs": [
    {
     "data": {
      "text/plain": [
       "float"
      ]
     },
     "execution_count": 8,
     "metadata": {},
     "output_type": "execute_result"
    }
   ],
   "source": [
    "f = 9.8\n",
    "type(f)"
   ]
  },
  {
   "cell_type": "code",
   "execution_count": 9,
   "id": "97ef40a6-00a2-4cb8-b25a-2a30e3d5a1fe",
   "metadata": {},
   "outputs": [
    {
     "data": {
      "text/plain": [
       "str"
      ]
     },
     "execution_count": 9,
     "metadata": {},
     "output_type": "execute_result"
    }
   ],
   "source": [
    "s = 'Cristoffer'\n",
    "type(s)"
   ]
  },
  {
   "cell_type": "code",
   "execution_count": 10,
   "id": "56882962-9219-465e-93cb-a429fa9baeeb",
   "metadata": {},
   "outputs": [
    {
     "data": {
      "text/plain": [
       "bool"
      ]
     },
     "execution_count": 10,
     "metadata": {},
     "output_type": "execute_result"
    }
   ],
   "source": [
    "b = True\n",
    "type(b)"
   ]
  },
  {
   "cell_type": "code",
   "execution_count": 11,
   "id": "ebfccf0e-9dc4-445b-aaef-a2aa6c050e1e",
   "metadata": {},
   "outputs": [
    {
     "name": "stdout",
     "output_type": "stream",
     "text": [
      "Fabricio Daniel 15 8.45 True\n"
     ]
    }
   ],
   "source": [
    "nome_aluno = 'Fabricio Daniel'\n",
    "idade_aluno = 15\n",
    "media_aluno = 8.45\n",
    "situacao_aprovado = True\n",
    "print(nome_aluno, idade_aluno, media_aluno, situacao_aprovado)"
   ]
  },
  {
   "cell_type": "markdown",
   "id": "7b7609f1-ee9d-4af5-abd7-0497cbd5589a",
   "metadata": {
    "jp-MarkdownHeadingCollapsed": true
   },
   "source": [
    "### Variáveis numéricas"
   ]
  },
  {
   "cell_type": "markdown",
   "id": "f0c29a4a-0114-4d01-b3cb-6756f04c0df2",
   "metadata": {},
   "source": [
    "| Cargo | Quantidade | Salário |\n",
    "| :---- | :--------- | :------ |\n",
    "| Segurança | 5 | 3000 |\n",
    "| Docente | 16 | 6000 |\n",
    "| Diretoria | 1 | 12500 |\n",
    "\n",
    "Precisamos trabalhar com esses dados fornecendo:\n",
    "- A quantidade total de empregados;\n",
    "- A diferença entre o salário mais baixo e mais alto; e\n",
    "- A média ponderada da faixa salarial da escola"
   ]
  },
  {
   "cell_type": "code",
   "execution_count": 12,
   "id": "d7bd3077-6e36-41be-bff6-6a91eee3f055",
   "metadata": {},
   "outputs": [],
   "source": [
    "q_seguranca = 5\n",
    "s_seguranca = 3000\n",
    "\n",
    "q_docente = 16\n",
    "s_docente = 6000\n",
    "\n",
    "q_diretoria = 1\n",
    "s_diretoria = 12500"
   ]
  },
  {
   "cell_type": "code",
   "execution_count": 15,
   "id": "127dc92b-5a28-415e-8a16-feec45b7f9ea",
   "metadata": {},
   "outputs": [
    {
     "data": {
      "text/plain": [
       "22"
      ]
     },
     "execution_count": 15,
     "metadata": {},
     "output_type": "execute_result"
    }
   ],
   "source": [
    "total_empregados = q_seguranca + q_docente + q_diretoria\n",
    "total_empregados"
   ]
  },
  {
   "cell_type": "code",
   "execution_count": 16,
   "id": "46fe7932-9cc7-4689-9ee6-88236563b37c",
   "metadata": {},
   "outputs": [
    {
     "data": {
      "text/plain": [
       "9500"
      ]
     },
     "execution_count": 16,
     "metadata": {},
     "output_type": "execute_result"
    }
   ],
   "source": [
    "diferenca_salario = s_diretoria - s_seguranca\n",
    "diferenca_salario"
   ]
  },
  {
   "cell_type": "code",
   "execution_count": 17,
   "id": "4c14e3c2-c536-410e-a920-25a5361c1bb9",
   "metadata": {},
   "outputs": [
    {
     "data": {
      "text/plain": [
       "5613.636363636364"
      ]
     },
     "execution_count": 17,
     "metadata": {},
     "output_type": "execute_result"
    }
   ],
   "source": [
    "media_salario = (q_seguranca * s_seguranca + q_docente * s_docente + q_diretoria * s_diretoria) / total_empregados\n",
    "media_salario"
   ]
  },
  {
   "cell_type": "markdown",
   "id": "1411f41e-c28d-4ca7-976a-ec936252535b",
   "metadata": {
    "jp-MarkdownHeadingCollapsed": true
   },
   "source": [
    "### Strings"
   ]
  },
  {
   "cell_type": "code",
   "execution_count": 18,
   "id": "1421ab7d-bd21-49ba-bb05-18584c9dacfc",
   "metadata": {},
   "outputs": [
    {
     "name": "stdout",
     "output_type": "stream",
     "text": [
      "<class 'str'> <class 'str'>\n"
     ]
    }
   ],
   "source": [
    "s1 = 'Alura'\n",
    "s2 = \"Alura\"\n",
    "print(type(s1), type(s2))"
   ]
  },
  {
   "cell_type": "code",
   "execution_count": 19,
   "id": "3253c28e-eac3-4003-b9f0-40c3a2443d66",
   "metadata": {},
   "outputs": [
    {
     "data": {
      "text/plain": [
       "['__add__',\n",
       " '__class__',\n",
       " '__contains__',\n",
       " '__delattr__',\n",
       " '__dir__',\n",
       " '__doc__',\n",
       " '__eq__',\n",
       " '__format__',\n",
       " '__ge__',\n",
       " '__getattribute__',\n",
       " '__getitem__',\n",
       " '__getnewargs__',\n",
       " '__getstate__',\n",
       " '__gt__',\n",
       " '__hash__',\n",
       " '__init__',\n",
       " '__init_subclass__',\n",
       " '__iter__',\n",
       " '__le__',\n",
       " '__len__',\n",
       " '__lt__',\n",
       " '__mod__',\n",
       " '__mul__',\n",
       " '__ne__',\n",
       " '__new__',\n",
       " '__reduce__',\n",
       " '__reduce_ex__',\n",
       " '__repr__',\n",
       " '__rmod__',\n",
       " '__rmul__',\n",
       " '__setattr__',\n",
       " '__sizeof__',\n",
       " '__str__',\n",
       " '__subclasshook__',\n",
       " 'capitalize',\n",
       " 'casefold',\n",
       " 'center',\n",
       " 'count',\n",
       " 'encode',\n",
       " 'endswith',\n",
       " 'expandtabs',\n",
       " 'find',\n",
       " 'format',\n",
       " 'format_map',\n",
       " 'index',\n",
       " 'isalnum',\n",
       " 'isalpha',\n",
       " 'isascii',\n",
       " 'isdecimal',\n",
       " 'isdigit',\n",
       " 'isidentifier',\n",
       " 'islower',\n",
       " 'isnumeric',\n",
       " 'isprintable',\n",
       " 'isspace',\n",
       " 'istitle',\n",
       " 'isupper',\n",
       " 'join',\n",
       " 'ljust',\n",
       " 'lower',\n",
       " 'lstrip',\n",
       " 'maketrans',\n",
       " 'partition',\n",
       " 'removeprefix',\n",
       " 'removesuffix',\n",
       " 'replace',\n",
       " 'rfind',\n",
       " 'rindex',\n",
       " 'rjust',\n",
       " 'rpartition',\n",
       " 'rsplit',\n",
       " 'rstrip',\n",
       " 'split',\n",
       " 'splitlines',\n",
       " 'startswith',\n",
       " 'strip',\n",
       " 'swapcase',\n",
       " 'title',\n",
       " 'translate',\n",
       " 'upper',\n",
       " 'zfill']"
      ]
     },
     "execution_count": 19,
     "metadata": {},
     "output_type": "execute_result"
    }
   ],
   "source": [
    "dir(s1)"
   ]
  },
  {
   "cell_type": "code",
   "execution_count": 20,
   "id": "d19bcf98-46ad-4e25-babb-df451bba3e38",
   "metadata": {},
   "outputs": [],
   "source": [
    "texto = '  Geovana Alessandra dias Sanyos '"
   ]
  },
  {
   "cell_type": "code",
   "execution_count": 21,
   "id": "8e00f718-4c53-4ed9-8fee-27bbf058b1d1",
   "metadata": {},
   "outputs": [
    {
     "name": "stdout",
     "output_type": "stream",
     "text": [
      "Geovana Alessandra Dias Santos "
     ]
    },
    {
     "data": {
      "text/plain": [
       "[None, None, None, None]"
      ]
     },
     "execution_count": 21,
     "metadata": {},
     "output_type": "execute_result"
    }
   ],
   "source": [
    "[print(p.capitalize().strip(), end=' ') for p in texto.replace('y', 't').split()]"
   ]
  },
  {
   "cell_type": "code",
   "execution_count": 23,
   "id": "677d40d3-449d-4c35-b298-06450b9c82a6",
   "metadata": {},
   "outputs": [
    {
     "data": {
      "text/plain": [
       "'Geovana Alessandra Dias Santos'"
      ]
     },
     "execution_count": 23,
     "metadata": {},
     "output_type": "execute_result"
    }
   ],
   "source": [
    "texto = ' '.join([p.capitalize().strip() for p in texto.replace('y', 't').split()])\n",
    "texto"
   ]
  },
  {
   "cell_type": "markdown",
   "id": "00fe6ee8-ae93-48a3-9306-b91b91bb5581",
   "metadata": {
    "jp-MarkdownHeadingCollapsed": true
   },
   "source": [
    "### Para saber mais: tabela Unicode\n",
    "\n",
    "Python é uma linguagem de programação caracterizada por usar o padrão unicode de caracteres. Esse padrão permite que pessoas desenvolvedoras de todo o mundo consigam trabalhar com textos e caracteres em diferentes idiomas de forma muito fácil, sem precisar se preocupar com problemas de compatibilidade.\n",
    "\n",
    "Isso só foi possível graças ao desenvolvimento da **tabela Unicode**, uma tabela de codificação de caracteres, que associa códigos numéricos a caracteres específicos. O objetivo de sua criação foi incluir os caracteres existentes em todas as línguas e sistemas escritos do mundo. Até a versão 15.0, o padrão já agrupa mais de 140 mil caracteres, incluindo letras, números, símbolos e emojis. Podemos ver as estatísticas de cada versão e a quantidade de caracteres por versão nesse [link](https://www.unicode.org/versions/stats/).\n",
    "\n",
    "Além disso, ela veio como uma alternativa às outras tabelas de caracteres criadas como a ASCII, que só suporta caracteres do alfabeto inglês e alguns símbolos. Por conta disso, ela é muito importante, já que permite a representação de caracteres de diferentes idiomas (como o ç no Português, o ñ no Espanhol ou o П em Russo) e scripts de forma consistente e independentemente do dispositivo ou plataforma, o que é fundamental para a globalização e representação correta de textos em diferentes línguas.\n",
    "\n",
    "Vale lembrar que a tabela Unicode é constantemente atualizada e ampliadam incluindo novos caracteres e scripts. Isso garante que ela continue sendo relevante e útil para suportar a representação de todos os idiomas e scripts do mundo. Você pode acompanhar as atualizações no site [unicode.org](https://home.unicode.org/) e acessar as codificações de cada caractere desse padrão na [wikipedia](https://en.wikipedia.org/wiki/List_of_Unicode_characters) ou por [PDFs oficiais](http://unicode.org/charts/).\n",
    "\n",
    "Podemos imprimir um elemento da tabela Unicode em nosso notebook através da função `chr`, que é uma função que retorna uma string com o caractere especificado. Sua sintaxe de uso é dada da seguinte forma: `chr(numero_do_caractere)`. Como exemplo, vamos imprimir o caractere “@” com `chr()`. Segundo a [tabela](https://en.wikipedia.org/wiki/List_of_Unicode_characters#:~:text=U%2B0040-,%40,-64), sabemos que o `@` corresponde ao número `64`, então reproduzimos:\n",
    "\n",
    "```python\n",
    "chr(64)\n",
    "```\n",
    "> '@'\n",
    "\n",
    "Várias outras combinações de números podem ser testadas e observadas nas saídas. Sinta-se livre para testar várias combinações e até mesmo criar frases!\n",
    "\n",
    "Também é possível **concatenar strings** com o operador `+`. Sabendo disso, se nós unirmos vários caracteres, conseguimos obter uma palavra. Como exemplo, vamos construir a palavra `Olá` (`'O' + 'l' + 'á'`):\n",
    "\n",
    "```python\n",
    "chr(79) + chr(108) + chr(225)\n",
    "```\n",
    "> 'Olá'"
   ]
  },
  {
   "cell_type": "markdown",
   "id": "03b2bb8e-8e6b-43f9-815c-63b285c3a63f",
   "metadata": {
    "jp-MarkdownHeadingCollapsed": true
   },
   "source": [
    "### Coletando dados"
   ]
  },
  {
   "cell_type": "code",
   "execution_count": 25,
   "id": "ce9caef0-7b42-4944-b83a-176c411832fc",
   "metadata": {},
   "outputs": [
    {
     "name": "stdin",
     "output_type": "stream",
     "text": [
      "Escreva seu nome:  Cristoffer\n"
     ]
    }
   ],
   "source": [
    "nome = input('Escreva seu nome: ')"
   ]
  },
  {
   "cell_type": "code",
   "execution_count": 26,
   "id": "256cf3ae-8de5-4d29-9c28-7621d55f66b7",
   "metadata": {},
   "outputs": [
    {
     "data": {
      "text/plain": [
       "'Cristoffer'"
      ]
     },
     "execution_count": 26,
     "metadata": {},
     "output_type": "execute_result"
    }
   ],
   "source": [
    "nome"
   ]
  },
  {
   "cell_type": "code",
   "execution_count": 27,
   "id": "7c0c2e37-c981-448d-bde2-4e8db89d11fd",
   "metadata": {},
   "outputs": [
    {
     "name": "stdin",
     "output_type": "stream",
     "text": [
      "Escreva o ano de ingresso do(a) estudante:  2023\n"
     ]
    }
   ],
   "source": [
    "ano_entrada = input('Escreva o ano de ingresso do(a) estudante: ')"
   ]
  },
  {
   "cell_type": "code",
   "execution_count": 28,
   "id": "6a1ccf37-7be2-43e0-aa51-1ff1bd99f0bc",
   "metadata": {},
   "outputs": [
    {
     "data": {
      "text/plain": [
       "str"
      ]
     },
     "execution_count": 28,
     "metadata": {},
     "output_type": "execute_result"
    }
   ],
   "source": [
    "type(ano_entrada)"
   ]
  },
  {
   "cell_type": "code",
   "execution_count": 29,
   "id": "63b69ded-4906-4b8f-b481-b006ffccc6b1",
   "metadata": {},
   "outputs": [
    {
     "name": "stdin",
     "output_type": "stream",
     "text": [
      "Escreva o ano de ingresso do(a) estudante:  2023\n"
     ]
    }
   ],
   "source": [
    "ano_entrada = int(input('Escreva o ano de ingresso do(a) estudante: '))"
   ]
  },
  {
   "cell_type": "code",
   "execution_count": 30,
   "id": "84dcc8e7-1369-4757-a236-e906f1d9b7bc",
   "metadata": {},
   "outputs": [
    {
     "data": {
      "text/plain": [
       "int"
      ]
     },
     "execution_count": 30,
     "metadata": {},
     "output_type": "execute_result"
    }
   ],
   "source": [
    "type(ano_entrada)"
   ]
  },
  {
   "cell_type": "code",
   "execution_count": 31,
   "id": "a0acb6ef-de94-4fe8-9949-0e5071e03ab6",
   "metadata": {},
   "outputs": [
    {
     "name": "stdin",
     "output_type": "stream",
     "text": [
      "Digite a nota do teste de ingresso:  8.5\n"
     ]
    },
    {
     "name": "stdout",
     "output_type": "stream",
     "text": [
      "Ano de entrada 2023 - nota do teste de ingresso 8.5\n"
     ]
    }
   ],
   "source": [
    "nota_entrada = float(input('Digite a nota do teste de ingresso: '))\n",
    "print(f\"Ano de entrada {ano_entrada} - nota do teste de ingresso {nota_entrada}\")"
   ]
  },
  {
   "cell_type": "markdown",
   "id": "2ebbd64c-0863-4af4-85a2-e28a0ce7fccd",
   "metadata": {
    "jp-MarkdownHeadingCollapsed": true
   },
   "source": [
    "### Para saber mais: formatações do print()\n",
    "\n",
    "Conseguimos visualizar o resultado de variáveis dentro de strings, como como imprimir o texto final em um print. Durante a aula, aprendemos a utilizar a formatação ***f-string*** (ou formatação de string), na qual colocamos um `f` antes da criação da strinf e as variáveis entre chaves `{}`. Exemplo:\n",
    "\n",
    "```python\n",
    "nome = 'Ana Maria'\n",
    "idade = 17\n",
    "print(f\"O nome da aluna é {nome} e sua idade é {idade} anos.\")\n",
    "```\n",
    "> 'O nome da aluna é Ana Maria e sua idade é 17 anos'\n",
    "\n",
    "Mas existem outras formatações, como o uso do operador de formatação de string ou da função `.format()`.\n",
    "\n",
    "#### Operador de formatação\n",
    "\n",
    "Esse operador de formatação permite a inserção de váriáveis em pontos específicos na string com o operador `%`. Esse operador funciona como um marcador, informando onde o valor da variável vai ser exposto na string.\n",
    "\n",
    "O `%` precisa ser acompanhado de uma palavra-chave para cada tipo de variável que se deseja adicionar. Seguindo a tabela abaixo:\n",
    "\n",
    "| Tipo de variável | Palavra-chave |\n",
    "| :--------------- | :------------ |\n",
    "| string | `%s` |\n",
    "| int | `%d` |\n",
    "| float | `%f` |\n",
    "| chr | `%c` |\n",
    "\n",
    "Desse modo, para inserirmos uma variável, podemos adicionar o operador pela string no ponto desejado. Após o fim da string, adicionamos novamente o `%`, mas agora especificando a variável entre parênteses. Podemos observar essa estrutura no exemplo abaixo:\n",
    "\n",
    "```python\n",
    "nome_aluno = 'Fabricio Daniel'\n",
    "print('Nome do aluno: %s' %(nome_aluno))\n",
    "```\n",
    "> 'Nome do aluno: Fabricio Daniel'\n",
    "\n",
    "Caso tenha mais de uma variável, devemos ordená-las conforme seu surgimento no texto e separá-las por vírgula.\n",
    "\n",
    "```python\n",
    "nome_aluno = 'Fabricio Daniel'\n",
    "idade_aluno = 15\n",
    "media_aluno = 8.45\n",
    "print('Nome do aluno é %s, ele tem %d anos e sua média é %f.' %(nome_aluno, idade_aluno, media_aluno))\n",
    "```\n",
    "> 'Nome do aluno é Farbricio Daniel, ele tem 15 anos e sua média é 8.4500000.'\n",
    "\n",
    "Quando trabalhamos com pontos flutuantes (`float`), podemos determinar a quantidade de casas decimais após a vírgula usando a sintaxe `%.xf`, na qual o `x` é o número de casas desejadas. Utilizando as mesmas variáveis do exemplo anterior, o código com `%.xf` fica da seguinte maneira:\n",
    "\n",
    "```python\n",
    "print('Nome do aluno é %s, ele tem %d anos e sua média é %.2f.' %(nome_aluno, idade_aluno, media_aluno))\n",
    "```\n",
    "> 'Nome do aluno é Farbricio Daniel, ele tem 15 anos e sua média é 8.45.'\n",
    "\n",
    "Uma observação: os operadores de formatação de strings com `%` não funcionam diretamente com valores booleanos. Uma maneira de lidar com isso é convertendo o valor booleano para uma string antes de usá-lo na formatação com a função `str()`. Por exemplo:\n",
    "\n",
    "```python\n",
    "x = True\n",
    "print('Valor de x: %s' % str(x))\n",
    "```\n",
    "\n",
    "Isso não acontece com a formatação *f-string* ou *.format*.\n",
    "\n",
    "#### `format`\n",
    "\n",
    "É possível também usar o método `format()` para fazer a formatação de strings. Ele é mais flexível e permite passar as variáveis diretamente dentro da string, sem a necessidade dos operadores `%`. Seus marcadores são apenas as `{}`. Exemplo:\n",
    "\n",
    "```python\n",
    "nome_aluno = 'Fabricio Daniel'\n",
    "print('Nome do aluno {}'.format(nome_aluno))\n",
    "```\n",
    "> 'Nome do aluno Fabricio Daniel'\n",
    "\n",
    "Do mesmo modo que é feito com o operador, conseguimos aplicar com mais variáveis:\n",
    "\n",
    "```python\n",
    "nome_aluno = 'Fabricio Daniel'\n",
    "idade_aluno = 15\n",
    "media_aluno = 8.45\n",
    "print('Nome do aluno é {}, ele tem {} anos e sua média é {}'.format(nome_aluno, idade_aluno, media_aluno))\n",
    "```\n",
    "> 'Nome do aluno é Fabricio Daniel, ele tem 15 anos e sua média é 8.45.'\n",
    "\n",
    "Note que, com o `format`, não temos o problema das casas decimais do ponto flutuante. Esse problema também não é presente no formato f-string.\n",
    "\n",
    "Em resumo, cada uma dessas formas tem suas vantagens e desvantagens. Indico utilizar a forma f-string, pois é mais legível e fácil de usar. Mesmo assim, cada pessoa desenvolvedora pode escolher a forma que achar mais apropriada.\n",
    "\n",
    "#### Caracteres especiais\n",
    "\n",
    "Além da formatação de inserção de variáveis dentro de uma string, também existem os **caracteres especiais**. Eles são usados parar representar ações especiais ou caracteres que não podem ser digitados diretamente, como o Enter e a tabulação. Vamos conhecer alguns deles? Busque reproduzir todos os exemplos e visualizar o resultado final.\n",
    "\n",
    "- `\\n` é o caractere de nova linha e é usado para pular uma linha no texto (função do Enter). Exemplo:\n",
    "\n",
    "```python\n",
    "print(\"Estudar é um esforço constante,\\nÉ como cultivar uma planta,\\nPrecisamos de dedicação e paciência,\\nPara ver o fruto amadurecer.\")\n",
    "```\n",
    "\n",
    "- `\\t` é o caractere de tabulação usado para adicionar um espaço de tabulação no texto. Exemplo:\n",
    "\n",
    "```python\n",
    "print('Quantidade\\tQualidade\\n5 amostras\\tAlta\\n3 amostras\\tBaixa')\n",
    "```\n",
    "\n",
    "- `\\\\` é usado para imprimir uma única barra invertida. Caso não seja usada a dupla barra invertida, o código poderá resultar em erro ou em um resultado inesperado, pois o Python considera a `\\` um chamado para um caractere especial. Usamos esta sintaxe para garantir que não ocorram erros. Exemplo:\n",
    "\n",
    "```python\n",
    "print(\"Caminho do arquivo: C:\\\\arquivos\\\\documento.csv\")\n",
    "```\n",
    "\n",
    "- `\\\"` é usado para imprimir aspas duplas quando estamos trabalhando com uma string criada a partir de aspas duplas `\"`. Porém, isso não é necessário caso seja uma string criada por aspas simples `'`. Como exemplo, temos:\n",
    "\n",
    "```python\n",
    "print(\"Ouvi uma vez \\\"Os frutos do conhecimento são os mais doces e duradouros de todos.\\\"\")\n",
    "```\n",
    "\n",
    "- `\\'` é usado para imprimir aspas simples quando estamos trabalhando com uma string criada a partir de aspas simples `'`. Caso seja uma string criada por aspas dulpas `\"`, isso não é necessário. Exemplo:\n",
    "\n",
    "```python\n",
    "print('Minha professora uma vez disse \\'Estudar é a chave do sucesso.\\' ')\n",
    "```"
   ]
  },
  {
   "cell_type": "markdown",
   "id": "969c08be-2697-4be6-a560-f4cee2d31209",
   "metadata": {
    "jp-MarkdownHeadingCollapsed": true
   },
   "source": [
    "## 03. Estruturas condicionais"
   ]
  },
  {
   "cell_type": "markdown",
   "id": "46ecd171-8b5c-438a-86c8-0ebe73f9ebad",
   "metadata": {
    "jp-MarkdownHeadingCollapsed": true
   },
   "source": [
    "### Conhecendo o if e o else"
   ]
  },
  {
   "cell_type": "code",
   "execution_count": 32,
   "id": "88ad94af-4a02-45fb-9dc9-af8b5f24474e",
   "metadata": {},
   "outputs": [
    {
     "name": "stdout",
     "output_type": "stream",
     "text": [
      "condição verdadeira\n"
     ]
    }
   ],
   "source": [
    "if 2 < 7:\n",
    "    print('condição verdadeira')"
   ]
  },
  {
   "cell_type": "markdown",
   "id": "7ef6fcea-9ec2-4c45-84c3-4cbf0b4d95ad",
   "metadata": {
    "jp-MarkdownHeadingCollapsed": true
   },
   "source": [
    "### Para saber mais: operadores relacionais\n",
    "\n",
    "Uma condição nada mais é que uma comparação entre dados, a partir da qual nó podemos obter o resultado verdadeiro ou falso de uma condicional. A comparação pode ser feita por operadores relacionais que tem a missão de comparar valores e determinar se uma expressão é verdadeira ou falsa. Vamos conhecer os comparadores lógicos e como podemos usá-los.\n",
    "\n",
    "#### *Maior que* (`>`)\n",
    "\n",
    "Retorna verdadeiro se o valor à esquerda do símbolo for **maior** que o da direita. Sua sintaxe, `valor_1 > valor_2`, representa uma comparação que só retornará verdadeiro se valor_1 for maior que valor_2. Com esse comparador lógico, podemos verificar se uma pessoa é mais velha que outra ao comparar suas idades como mostrado no exemplo a seguir:\n",
    "\n",
    "```python\n",
    "idade_maria = int(input('Digite a idade da Maria: '))\n",
    "idade_beatriz = int(input('Digite a idade da Beatriz: '))\n",
    "\n",
    "if idade_maria > idade_beatriz:\n",
    "  print('Maria é mais velha que Beatriz.')\n",
    "```\n",
    "> Digite a idade da Maria: 12\n",
    "> Digite a idade da Beatriz: 10\n",
    "> 'Maria é mais velha que Beatriz'\n",
    "\n",
    "O comparador maior que (`>`) retorna um valor falso caso os valores comparados sejam iguais ou o valor à esquerda do símbolo for inferior ao da direita.\n",
    "\n",
    "#### *Menor que* (`<`)\n",
    "\n",
    "Retorna verdadeiro se o valor à esquerda do símbolo for **menor** que o da direita e sua sintaxe é a seguinte: `valor_1 < valor_2`. Essa comparação só retornará verdadeiro se valor_1 for menor que valor_2. Com esse operador relacional, também podemo verificar se uma pessoa é mais velha que outra comparando suas idades:\n",
    "\n",
    "```python\n",
    "idade_maria = int(input('Digite a idade da Maria: '))\n",
    "idade_beatriz = int(input('Digite a idade da Beatriz: '))\n",
    "\n",
    "if idade_maria < idade_beatriz:\n",
    "  print('Maria é mais nova que Beatriz.')\n",
    "```\n",
    "> Digite a idade da Maria: 30\n",
    "> Digite a idade da Beatriz: 34\n",
    "> 'Maria é mais nova que Beatriz'\n",
    "\n",
    "Esse comparador também retorna um valor falso caso os comparados sejam iguais ou se o valor à esquerda do símbolo for superior ao da direita.\n",
    "\n",
    "#### *Maior ou igual* (`>=`)\n",
    "\n",
    "Retorna verdadeiro se o valor à esquerda do símbolo for **maior ou igual** ao valor da direita. Sua sintaxe é a seguinte: `valor_1 >= valor_2`. Essa comparação só retornará verdadeiro se valor_1 for maior ou igual ao valor_2. Com esse operador relacional podemos, por exemplo, verificar se uma empresa tem uma quantidade maior ou igual à outra:\n",
    "\n",
    "```python\n",
    "empregados_empresa_1 = int(input('Digite a quantidade de empregados da empresa 1: '))\n",
    "empregados_empresa_2 = int(input('Digite a quantidade de empregados da empresa 2: '))\n",
    "\n",
    "if empregados_empresa_1 >= empregados_empresa_2:\n",
    "  print('Empresa 1 tem uma quantidade de empregados maior ou igual à empresa 2.')\n",
    "```\n",
    "> Digite a quantidade de empregados da empresa 1: 300\n",
    "> Digite a quantidade de empregados da empresa 2: 150\n",
    "> 'Empresa 1 tem uma quantidade de empregados maior ou igual à empresa 2.'\n",
    "\n",
    "#### *Menor ou igual* (`<=`)\n",
    "\n",
    "Retorna verdadeiro se o valor à esquerda do símbolo for **menor ou igual** ao valor à direita. Sua sintaxe é a seguinte: `valor_1 <= valor_2`. Essa comparação só retornará verdadeiro se valor_1 for menor ou igual ao valor_2. Com esse operador relacional, verificamos se uma empresa tem uma quantidade menor ou igual à outra, como mostrado a seguir:\n",
    "\n",
    "```python\n",
    "empregados_empresa_1 = int(input('Digite a quantidade de empregados da empresa 1: '))\n",
    "empregados_empresa_2 = int(input('Digite a quantidade de empregados da empresa 2: '))\n",
    "\n",
    "if empregados_empresa_1 <= empregados_empresa_2:\n",
    "  print('Empresa 1 tem uma quantidade de empregados menor ou igual à empresa 2.')\n",
    "```\n",
    "> Digite a quantidade de empregados da empresa 1: 200\n",
    "> Digite a quantidade de empregados da empresa 2: 200\n",
    "> 'Empresa 1 tem uma quantidade de empregados menor ou igual à empresa 2.'\n",
    "\n",
    "#### *Igual a* (`==`)\n",
    "\n",
    "Retorna verdadeiro se o valor à esquerda do símbolo for **igual** ao valor à direita. Sua sintaxe, `valor_1 == valor_2`, representa uma comparação que só retornará verdadeiro se valor_1 for igual ao valor_2. Com esse operador relacional, podemos verificar, por exemplo, se dois livros têm o mesmo nome através de uma comparação de strings:\n",
    "\n",
    "```python\n",
    "livro_1 = input('Digite o título do 1º livro: ')\n",
    "livro_2 = input('Digite o título do 2º livro: ')\n",
    "\n",
    "if livro_1 == livro_2:\n",
    "  print('Os livros têm o mesmo título')\n",
    "```\n",
    "> Digite o título do 1º livro: Verso e Código: A poética da programação\n",
    "> Digite o título do 2º livro: Verso e Código: A poética da programação\n",
    "> 'Os livros têm o mesmo título'\n",
    "\n",
    "Também é possível fazer essa comparação com valores numéricos.\n",
    "\n",
    "#### *Diferente de* (`!=`)\n",
    "\n",
    "Retorna verdadeiro se o valor à esquerda do símbolo for **diferente** do valor à direita. Sua sintaxe, `valor_1 != valor_2`, representa uma comparação que só retornará verdadeiro se valor_1 for diferente do valor_2. Esse operador é o inverso do `==`. Com ele, podemos verificar se dois livros têm títulos diferentes através de uma comparação de strings:\n",
    "\n",
    "```python\n",
    "livro_1 = input('Digite o título do 1º livro: ')\n",
    "livro_2 = input('Digite o título do 2º livro: ')\n",
    "\n",
    "if livro_1 != livro_2:\n",
    "  print('Os livros têm títulos diferentes')\n",
    "```\n",
    "> Digite o título do 1º livro: Verso e Código: A poética da programação\n",
    "> Digite o título do 2º livro: Programar com versos: A poesia do código\n",
    "> 'Os livros têm títulos diferentes'\n",
    "\n",
    "Também é possível fazer essa comparação com valores numéricos."
   ]
  },
  {
   "cell_type": "markdown",
   "id": "6d36a0a5-4625-4d89-9591-ec9b7d39c814",
   "metadata": {
    "jp-MarkdownHeadingCollapsed": true
   },
   "source": [
    "### Utilizando if e else"
   ]
  },
  {
   "cell_type": "code",
   "execution_count": 34,
   "id": "c1425615-a8b4-4403-acad-27b67bde3b7d",
   "metadata": {},
   "outputs": [
    {
     "name": "stdin",
     "output_type": "stream",
     "text": [
      "Digite a média:  5.0\n"
     ]
    },
    {
     "name": "stdout",
     "output_type": "stream",
     "text": [
      "Reprovado(a)\n"
     ]
    }
   ],
   "source": [
    "media = float(input('Digite a média: '))\n",
    "\n",
    "if media >= 6.0:\n",
    "    print('Aprovado(a)')\n",
    "else:\n",
    "    print('Reprovado(a)')"
   ]
  },
  {
   "cell_type": "code",
   "execution_count": 36,
   "id": "c5330b57-ad5f-4cc9-9d3c-9d3fcbd77847",
   "metadata": {},
   "outputs": [
    {
     "name": "stdin",
     "output_type": "stream",
     "text": [
      "Digite a média:  5.0\n"
     ]
    },
    {
     "name": "stdout",
     "output_type": "stream",
     "text": [
      "Recuperação\n"
     ]
    }
   ],
   "source": [
    "media = float(input('Digite a média: '))\n",
    "\n",
    "if media >= 6.0:\n",
    "    print('Aprovado(a)')\n",
    "elif 6.0 > media >= 4.0:\n",
    "    print('Recuperação')\n",
    "else:\n",
    "    print('Reprovado(a)')"
   ]
  },
  {
   "cell_type": "code",
   "execution_count": 37,
   "id": "f37d7d36-a47e-470e-85f0-569cbf204423",
   "metadata": {},
   "outputs": [
    {
     "name": "stdin",
     "output_type": "stream",
     "text": [
      "Digite a média:  7.0\n"
     ]
    },
    {
     "name": "stdout",
     "output_type": "stream",
     "text": [
      "Aprovado(a)\n",
      "Reprovado(a)\n"
     ]
    }
   ],
   "source": [
    "media = float(input('Digite a média: '))\n",
    "\n",
    "if media >= 6.0:\n",
    "    print('Aprovado(a)')\n",
    "if 6.0 > media >= 4.0:\n",
    "    print('Recuperação')\n",
    "else:\n",
    "    print('Reprovado(a)')"
   ]
  },
  {
   "cell_type": "markdown",
   "id": "5e2a8ff3-827a-4b2c-819e-e145cf2fd9a9",
   "metadata": {
    "jp-MarkdownHeadingCollapsed": true
   },
   "source": [
    "### Outras alternativas com elif"
   ]
  },
  {
   "cell_type": "code",
   "execution_count": 38,
   "id": "59d64cd9-3944-4865-b326-a1533d8c790f",
   "metadata": {},
   "outputs": [
    {
     "name": "stdin",
     "output_type": "stream",
     "text": [
      "Digite a média:  5.0\n"
     ]
    },
    {
     "name": "stdout",
     "output_type": "stream",
     "text": [
      "Recuperação\n"
     ]
    }
   ],
   "source": [
    "media = float(input('Digite a média: '))\n",
    "\n",
    "if media >= 6.0:\n",
    "    print('Aprovado(a)')\n",
    "elif 6.0 > media >= 4.0:\n",
    "    print('Recuperação')\n",
    "else:\n",
    "    print('Reprovado(a)')"
   ]
  },
  {
   "cell_type": "markdown",
   "id": "c9daaa86-ebe0-4e24-acc2-7ecf1600656b",
   "metadata": {
    "jp-MarkdownHeadingCollapsed": true
   },
   "source": [
    "### Operadores lógicos"
   ]
  },
  {
   "cell_type": "code",
   "execution_count": 39,
   "id": "fa8beaf8-f451-4825-be5b-0a05a1547cb6",
   "metadata": {},
   "outputs": [],
   "source": [
    "t1 = t2 = True\n",
    "f1 = f2 = False"
   ]
  },
  {
   "cell_type": "code",
   "execution_count": 42,
   "id": "5376bf61-ff27-4af2-b278-84a2c34832ed",
   "metadata": {},
   "outputs": [
    {
     "name": "stdout",
     "output_type": "stream",
     "text": [
      "expressão verdadeira\n"
     ]
    }
   ],
   "source": [
    "if t1 and t2:\n",
    "    print('expressão verdadeira')\n",
    "else:\n",
    "    print('expressão falsa')"
   ]
  },
  {
   "cell_type": "code",
   "execution_count": 43,
   "id": "d0b97b87-f665-401a-978d-8ecfdbe8089c",
   "metadata": {},
   "outputs": [
    {
     "name": "stdout",
     "output_type": "stream",
     "text": [
      "expressão falsa\n"
     ]
    }
   ],
   "source": [
    "if t1 and f2:\n",
    "    print('expressão verdadeira')\n",
    "else:\n",
    "    print('expressão falsa')"
   ]
  },
  {
   "cell_type": "code",
   "execution_count": 44,
   "id": "2b1174fc-6830-4ccf-8bed-ee56a5c5c888",
   "metadata": {},
   "outputs": [
    {
     "name": "stdout",
     "output_type": "stream",
     "text": [
      "expressão falsa\n"
     ]
    }
   ],
   "source": [
    "if f1 or f2:\n",
    "    print('expressão verdadeira')\n",
    "else:\n",
    "    print('expressão falsa')"
   ]
  },
  {
   "cell_type": "code",
   "execution_count": 45,
   "id": "9aa603b5-2c02-44df-a909-ddc5b8b33cf0",
   "metadata": {},
   "outputs": [
    {
     "name": "stdout",
     "output_type": "stream",
     "text": [
      "expressão verdadeira\n"
     ]
    }
   ],
   "source": [
    "if t1 or f2:\n",
    "    print('expressão verdadeira')\n",
    "else:\n",
    "    print('expressão falsa')"
   ]
  },
  {
   "cell_type": "code",
   "execution_count": 46,
   "id": "695fb640-68ad-4c50-bca8-4ba2e1ce2449",
   "metadata": {},
   "outputs": [
    {
     "name": "stdout",
     "output_type": "stream",
     "text": [
      "expressão falsa\n"
     ]
    }
   ],
   "source": [
    "if not t1:\n",
    "    print('expressão verdadeira')\n",
    "else:\n",
    "    print('expressão falsa')"
   ]
  },
  {
   "cell_type": "code",
   "execution_count": 47,
   "id": "1d0d2d0d-1fc7-4a54-a959-302f2f3ea4c8",
   "metadata": {},
   "outputs": [
    {
     "name": "stdout",
     "output_type": "stream",
     "text": [
      "expressão verdadeira\n"
     ]
    }
   ],
   "source": [
    "if not f1:\n",
    "    print('expressão verdadeira')\n",
    "else:\n",
    "    print('expressão falsa')"
   ]
  },
  {
   "cell_type": "code",
   "execution_count": 49,
   "id": "5f0846b5-5015-4c4c-bc95-0f2308ae6f11",
   "metadata": {},
   "outputs": [
    {
     "data": {
      "text/plain": [
       "'José da Silva, Maria Oliveira, Pedro Martins, Ana Souza, Carlos Rodrigues, Juliana Santos, Bruno Gomes, Beatriz Costa, Felipe Almeida, Mariana Fernandes, João Pinto, Luísa Nascimento, Gabriel Souza, Manuela Santos, Thiago Oliveira, Sofia Ferreira, Rafael Albuquerque, Isabella Gomes, Bruno Costa, Maria Martins, Rafaela Souza, Matheus Fernandes, Luísa Almeida, Beatriz Pinto, Mariana Rodrigues, Gabriel Nascimento, João Ferreira, Maria Albuquerque, Felipe Oliveira'"
      ]
     },
     "execution_count": 49,
     "metadata": {},
     "output_type": "execute_result"
    }
   ],
   "source": [
    "lista = 'José da Silva, Maria Oliveira, Pedro Martins, Ana Souza, Carlos Rodrigues, Juliana Santos, Bruno Gomes, Beatriz Costa, Felipe Almeida, Mariana Fernandes, João Pinto, Luísa Nascimento, Gabriel Souza, Manuela Santos, Thiago Oliveira, Sofia Ferreira, Rafael Albuquerque, Isabella Gomes, Bruno Costa, Maria Martins, Rafaela Souza, Matheus Fernandes, Luísa Almeida, Beatriz Pinto, Mariana Rodrigues, Gabriel Nascimento, João Ferreira, Maria Albuquerque, Felipe Oliveira'\n",
    "lista"
   ]
  },
  {
   "cell_type": "code",
   "execution_count": 51,
   "id": "0eada308-584b-4eb1-932f-cf536114bae8",
   "metadata": {},
   "outputs": [],
   "source": [
    "nome_1 = 'Mariana Rodrigues'\n",
    "nome_2 = 'Marcelo Nogueira'"
   ]
  },
  {
   "cell_type": "code",
   "execution_count": 52,
   "id": "c3fe9c03-2eb4-4bad-aa82-418fec277acd",
   "metadata": {},
   "outputs": [
    {
     "name": "stdout",
     "output_type": "stream",
     "text": [
      "Mariana Rodrigues está na lista\n"
     ]
    }
   ],
   "source": [
    "if nome_1 in lista:\n",
    "    print(f\"{nome_1} está na lista\")\n",
    "else:\n",
    "    print(f\"{nome_1} não está na lista\")"
   ]
  },
  {
   "cell_type": "code",
   "execution_count": 53,
   "id": "6052c261-3b74-46bb-b56b-2ae0253456f5",
   "metadata": {},
   "outputs": [
    {
     "name": "stdout",
     "output_type": "stream",
     "text": [
      "Marcelo Nogueira não está na lista\n"
     ]
    }
   ],
   "source": [
    "if nome_2 in lista:\n",
    "    print(f\"{nome_2} está na lista\")\n",
    "else:\n",
    "    print(f\"{nome_2} não está na lista\")"
   ]
  },
  {
   "cell_type": "markdown",
   "id": "cefcb9ed-da1d-4db6-936c-5588479d800f",
   "metadata": {
    "jp-MarkdownHeadingCollapsed": true
   },
   "source": [
    "### Para saber mais: tabela verdade\n",
    "\n",
    "Quando desejamos criar uma expressão lógica com operadores lógicos, precisamos saber como funciona a **tabela verdade** de cada um deles para conseguirmos construir um código que resulte no que esperamos. Essas tabelas ajudam a entender e a analisar expressões lógicas, como as encontradas em algoritmos de programação e para verificar a validade de uma dada expressão lógica. A tabela auxilis na verificação dos resultados para todas as possíveis combinações de valores lógicos de uma dada expressão lógica.\n",
    "\n",
    "Vamos conhecer a tabela verdade dos operadores lógicos `and`, `or` e `not`.\n",
    "\n",
    "#### Operador `and`\n",
    "\n",
    "A tabela verdade do operador `and` nos mostra que a saída somente retorna Verdade (`True`) se ambos os operandos são Verdade. Caso contrário, retorna Falso (`False`), como mostrado na tabela abaixo:\n",
    "\n",
    "| `operando_1` | `operando_2` | `operando_1 and operando_2` |\n",
    "| :----------- | :----------- | :-------------------------- |\n",
    "| False | False | False |\n",
    "| False | True | False |\n",
    "| True | False | False |\n",
    "| True | True | True |\n",
    "\n",
    "#### Operador `or`\n",
    "\n",
    "A tabela verdade do operador `or` nos mostra que a saída somente retorna Falso (`False`) se ambos os operandos são Falsos, caso contrário, retorna Verdade (`True`). Ou seja, será retornado `True` se pelo menos um dos operandos for `True`, como mostrado abaixo:\n",
    "\n",
    "| `operando_1` | `operando_2` | `operando_1 and operando_2` |\n",
    "| :----------- | :----------- | :-------------------------- |\n",
    "| False | False | False |\n",
    "| False | True | True |\n",
    "| True | False | True |\n",
    "| True | True | True |\n",
    "\n",
    "O operador `not` tem uma tabela verdade menor, uma vez que ele apenas inverte o valor do operando. Se o operando for Verdadeiro, retorna Falso; se for Falso, retorna Verdadeiro.\n",
    "\n",
    "#### Operador `not`\n",
    "\n",
    "| `operando` | `not operando` |\n",
    "| :--------- | :------------- |\n",
    "| True | False |\n",
    "| False | True |"
   ]
  },
  {
   "cell_type": "markdown",
   "id": "06489619-d6f3-4288-93f0-2803d50d099e",
   "metadata": {
    "jp-MarkdownHeadingCollapsed": true
   },
   "source": [
    "## 04. Estruturas de repetição"
   ]
  },
  {
   "cell_type": "markdown",
   "id": "ca025a07-1f0a-4901-8871-4c6c4bbee89c",
   "metadata": {
    "jp-MarkdownHeadingCollapsed": true
   },
   "source": [
    "### Laço while"
   ]
  },
  {
   "cell_type": "code",
   "execution_count": 55,
   "id": "9a731891-54f7-4189-b9e9-8893ff42b1ec",
   "metadata": {},
   "outputs": [
    {
     "name": "stdout",
     "output_type": "stream",
     "text": [
      "1\n",
      "2\n",
      "3\n",
      "4\n",
      "5\n",
      "6\n",
      "7\n",
      "8\n",
      "9\n",
      "10\n"
     ]
    }
   ],
   "source": [
    "contador = 1\n",
    "while contador <= 10:\n",
    "    print(contador)\n",
    "    contador += 1"
   ]
  },
  {
   "cell_type": "markdown",
   "id": "22f2044f-2e47-48f7-bed6-7e99d0052223",
   "metadata": {
    "jp-MarkdownHeadingCollapsed": true
   },
   "source": [
    "### Para saber mais: operadores de atribuição\n",
    "\n",
    "**Operadores de atribuição** permitem atribuir um dado a uma variável. Já trabalhamos bastante com o principal deles no Python, o `=`, que faz a atribuição literal de um valor a uma dada variável, como `idade = 20`, `escolaridade = 'superior'`, etc.\n",
    "\n",
    "Também conhecemos o operador de soma `+=` que adiciona um valor especificado na variável, como consta no exemplo a seguir:\n",
    "\n",
    "```python\n",
    "preco = 2.00\n",
    "preco += 3\n",
    "print(preco)\n",
    "```\n",
    "> 5.0\n",
    "\n",
    "Além desses, existem outros operadores de atribuição que permitem alterar os valores das variáveis. As informações de operadores, descrição e exemplo podem ser encontradas na tabela abaixo.\n",
    "\n",
    "| Operador | Descrição | Exemplo |\n",
    "| :------- | :-------: | ------: |\n",
    "| `-=` | Subtrai um valor na variável | `preco -= 5` |\n",
    "| `*=` | Multiplica um valor pela variável | `preco *= 3` |\n",
    "| `/=` | Divide a variável por um valor | `preco /= 2` |\n",
    "| `//=` | Realiza a divisão inteira da variável por um valor | `preco //= 6` |\n",
    "| `%=` | Calcula o resto da divisão do valor na variável e atribui o resultado à variável | `preco %= 5` |"
   ]
  },
  {
   "cell_type": "markdown",
   "id": "433aed1c-3754-4fd4-8d75-4a5f878eaee8",
   "metadata": {
    "jp-MarkdownHeadingCollapsed": true
   },
   "source": [
    "### Laço for"
   ]
  },
  {
   "cell_type": "code",
   "execution_count": 56,
   "id": "7eceaf60-1588-47ed-9541-7761232b4db6",
   "metadata": {},
   "outputs": [
    {
     "name": "stdout",
     "output_type": "stream",
     "text": [
      "1\n",
      "2\n",
      "3\n",
      "4\n",
      "5\n",
      "6\n",
      "7\n",
      "8\n",
      "9\n",
      "10\n"
     ]
    }
   ],
   "source": [
    "for i in range(1, 11):\n",
    "    print(i)"
   ]
  },
  {
   "cell_type": "markdown",
   "id": "c8821fd0-0b38-4660-bc62-6230658f0801",
   "metadata": {
    "jp-MarkdownHeadingCollapsed": true
   },
   "source": [
    "### Para saber mais: comandos de controle\n",
    "\n",
    "Ao trabalharmos com laços, conseguimos controlar o fluxo de execuções dentro do bloco de código, permitindo manipular a execução dos laços. O `continue` e o `break` são os comandos de controle que podemos executar com `for` e `while`.\n",
    "\n",
    "O `continue` interrompe a iteração atual do laço e salta para a próxima, ou seja, retorna ao início do código. Como exemplo, temos um código de contagem de `1` a `5` com `for`:\n",
    "\n",
    "```python\n",
    "for i in range(1, 6):\n",
    "    if i == 4:\n",
    "        continue\n",
    "    print(i)\n",
    "```\n",
    "\n",
    "Esse código imprime todos os números de 1 a 5, exceto o 4. Quando o valor de `i` for 4, o `continue` salta para a próxima iteração, ignorando o comando `print` abaixo da condicional na iteração atual.\n",
    "\n",
    "Já o `break` interrompe a execução do laço completamente, saindo do bloco de código. Vamos usar o mesmo exemplo de contagem, mas agora colocaremos o `break`:\n",
    "\n",
    "```python\n",
    "for i in range(1, 6):\n",
    "    if i == 4:\n",
    "        break\n",
    "    print(i)\n",
    "```\n",
    "\n",
    "Nesse caso, o código imprime todos os números de 1 a 3. Quando o valor de `i` for 4, o `break` interrompe a execução do laço e sai dele, ignorando qualquer outra iteração que esteja dentro da estrutura.\n",
    "\n",
    "Em resumo, o `continue` permite pular uma iteração específica do laço, enquanto o `break` permite finalizar o laço e continuar a execução dos comandos fora dele, como mostrado abaixo:\n",
    "\n",
    "![`continue` and `break`](https://cdn3.gnarususercontent.com.br/2922-python-data-science/aula4/aula4-img1.png)"
   ]
  },
  {
   "cell_type": "markdown",
   "id": "7ee747c5-d867-4355-b66b-22f192ac9da4",
   "metadata": {
    "jp-MarkdownHeadingCollapsed": true
   },
   "source": [
    "## 05. Estruturas de dados"
   ]
  },
  {
   "cell_type": "markdown",
   "id": "7449f56f-c19a-4677-a880-8d3b7dd9c9c1",
   "metadata": {
    "jp-MarkdownHeadingCollapsed": true
   },
   "source": [
    "### Listas"
   ]
  },
  {
   "cell_type": "code",
   "execution_count": 57,
   "id": "8b51eaab-cb40-4421-8adc-e6f0f7c88e2a",
   "metadata": {},
   "outputs": [
    {
     "data": {
      "text/plain": [
       "['Fabricio Daniel', 9.5, 9.0, 8.0, True]"
      ]
     },
     "execution_count": 57,
     "metadata": {},
     "output_type": "execute_result"
    }
   ],
   "source": [
    "lista = ['Fabricio Daniel', 9.5, 9.0, 8.0, True]\n",
    "lista"
   ]
  },
  {
   "cell_type": "markdown",
   "id": "ac84a988-ca3a-40cc-8c32-22812ae49687",
   "metadata": {},
   "source": [
    "                    [0]         [1]  [2]  [3]  [4]\n",
    "```python\n",
    "lista = ['Fabricio Daniel', 9.5, 9.0, 8.0, True]\n",
    "```"
   ]
  },
  {
   "cell_type": "markdown",
   "id": "1321177e-05c3-40f9-87a3-a5dee054b810",
   "metadata": {},
   "source": [
    "                    [-5]        [-4] [-3] [-2] [-1]\n",
    "```python\n",
    "lista = ['Fabricio Daniel', 9.5, 9.0, 8.0, True]\n",
    "```"
   ]
  },
  {
   "cell_type": "code",
   "execution_count": 59,
   "id": "068533e6-06f0-4d8c-a642-8821d1c20313",
   "metadata": {},
   "outputs": [
    {
     "name": "stdout",
     "output_type": "stream",
     "text": [
      "Fabricio Daniel\n",
      "9.5\n",
      "9.0\n",
      "8.0\n",
      "True\n"
     ]
    }
   ],
   "source": [
    "for elemento in lista:\n",
    "    print(elemento)"
   ]
  },
  {
   "cell_type": "code",
   "execution_count": 60,
   "id": "4a0834e4-ea26-446b-a074-255b44118f4c",
   "metadata": {},
   "outputs": [
    {
     "data": {
      "text/plain": [
       "['Fabricio Daniel', 9.5, 9.0, 10.0, True]"
      ]
     },
     "execution_count": 60,
     "metadata": {},
     "output_type": "execute_result"
    }
   ],
   "source": [
    "lista[3] += 2.0\n",
    "lista"
   ]
  },
  {
   "cell_type": "code",
   "execution_count": 63,
   "id": "a635d225-54fb-41d7-83c0-753b04251a58",
   "metadata": {},
   "outputs": [
    {
     "data": {
      "text/plain": [
       "9.5"
      ]
     },
     "execution_count": 63,
     "metadata": {},
     "output_type": "execute_result"
    }
   ],
   "source": [
    "media = (lista[1] + lista[2] + lista[3]) / 3\n",
    "media"
   ]
  },
  {
   "cell_type": "markdown",
   "id": "743a3e26-b8da-4689-b3e5-8eacd74789dc",
   "metadata": {
    "jp-MarkdownHeadingCollapsed": true
   },
   "source": [
    "### Para saber mais: String - uma sequência de caracteres\n",
    "\n",
    "Como visto em aulas passadas, string é um tipo de dado que corresponde a um dado textual. Quando criamos uma string, estamos agrupando vários caracteres (números, letras e até símbolos) e cada um deles tem seus índices. Como exemplo, vamos criar uma string com o nome *Python*:\n",
    "\n",
    "```python\n",
    "linguagem = 'Python'\n",
    "```\n",
    "\n",
    "Cada caractere da string `linguagem` pode ser acessado através de seu índice que inicia em `0` e vai até a quantidade de caracteres da string menos 1, incluindo os índices negativos. Conseguimos acessar eles do mesmo modo que fazemos nas listas:\n",
    "\n",
    "```python\n",
    "print(linguagem[0], linguagem[1], linguagem[2], linguagem[-3], linguagem[-2], linguagem[-1])\n",
    "```\n",
    "> P y t h o n\n",
    "\n",
    "No entanto, **os índices servem apenas para acessar os dados**, não sendo possível alterar o caractere presente em um índice definido através de uma simples atribuição, como nas listas. Por exemplo, o código `linguagem[0] = 'p'` gera um erro na compilação.\n",
    "\n",
    "Com isso, podemos pensar que a string é uma estrutura de dados da mesma forma que as listas, certo? Na verdade, não. A string é uma sequência de caracteres (letras, números, símbolos, etc.) representada por uma única variável. Já uma estrutura de dados armazena uma coleção de itens (podendo ser de tipos diferentes) em uma única variável.\n",
    "\n",
    "Mesmo assim, é possível transformar uma string em uma lista através do método `split()`. Esse método separa a string em uma lista de strings, usando um delimitador especificado entre parênteses. Esse delimitador precisa ser uma string. Como exemplo, vamos transformar a string em lista separando-a cada vez que aparece o ponto de interrogação `?`:\n",
    "\n",
    "```python\n",
    "duvida = 'Quem veio antes? O ovo? Ou foi a serpente?'\n",
    "lista_palavras = duvida.split('?')\n",
    "print(lista_palavras)\n",
    "```\n",
    "> ['Quem veio antes', 'O ovo', 'Ou foi a serpente', '']\n",
    "\n",
    "O delimitador não aparece na separação. Caso ele não seja definido, a string será segregada por todos os espaços em branco no texto.\n",
    "\n",
    "```python\n",
    "duvida = 'Quem veio antes? O ovo? Ou foi a serpente?'\n",
    "lista_palavras = duvida.split()\n",
    "print(lista_palavras)\n",
    "```\n",
    "> ['Quem', 'veio', 'antes?', 'O', 'ovo?', 'Ou', 'foi', 'a', 'serpente?']\n",
    "\n",
    "O contrário também acontece, pois podemos transformar uma lista em uma string através do método `join()`. Para usar a função, precisamos definir o caractere unificador que será utilizado para unir os elementos da lista, formando a string. Em seguida, usamos o método `join` passando a lista como argumento. Vamos fazer um exemplo com uma lista contendo o resultado de algumas misturas de cores primárias em tintas:\n",
    "\n",
    "```python\n",
    "misturas = ['Tintas: vermelho, azul e amarelo',\n",
    "            'Verde: mistura de azul e amarelo',\n",
    "            'Laranja: mistura de vermelho e amarelo',\n",
    "            'Roxo: mistura de vermelho e azul']\n",
    "unificador = '. '\n",
    "string_misturas = unificador.join(misturas)\n",
    "print(string_misturas)\n",
    "```\n",
    "> Tintas: vermelho, azul e amarelo. Verde: mistura de azul e amarelo. Laranja: mistura de vermelho e amarelo. Roxo: mistura de vermelho e azul"
   ]
  },
  {
   "cell_type": "markdown",
   "id": "f794c78c-f3a6-41db-9eb6-bace2cd3ab69",
   "metadata": {
    "jp-MarkdownHeadingCollapsed": true
   },
   "source": [
    "### Manipulaçao de listas"
   ]
  },
  {
   "cell_type": "markdown",
   "id": "9365f9e0-4e8b-4e7a-a605-5b608266a853",
   "metadata": {},
   "source": [
    "##### Quantidade de elementos\n",
    "Usamos a função `len()` para descobrirmos a quantidade de elementos de um conjunto"
   ]
  },
  {
   "cell_type": "code",
   "execution_count": 65,
   "id": "edc3a6a8-9c74-4c02-b5aa-63acbbd7a4cc",
   "metadata": {},
   "outputs": [
    {
     "data": {
      "text/plain": [
       "5"
      ]
     },
     "execution_count": 65,
     "metadata": {},
     "output_type": "execute_result"
    }
   ],
   "source": [
    "len(lista)"
   ]
  },
  {
   "cell_type": "markdown",
   "id": "ceade9a0-0cd3-435e-b4d5-fc64cf65e7dd",
   "metadata": {},
   "source": [
    "##### Partição\n",
    "A partição de listas por indexação em Python é uma técnica muito útil para selecionar um subconjunto de elementos de uma lista. Ela é feita usando a sintaxe `lista[início:fim]`, onde `inicio` é o índice do primeiro elemento a ser incluído na partição e `fim` é o índice do primeiro elemento a ser excluído da partição."
   ]
  },
  {
   "cell_type": "code",
   "execution_count": 67,
   "id": "fcd780a4-d24c-4799-8e98-220c78ed1766",
   "metadata": {},
   "outputs": [
    {
     "data": {
      "text/plain": [
       "[9.5, 9.0, 10.0]"
      ]
     },
     "execution_count": 67,
     "metadata": {},
     "output_type": "execute_result"
    }
   ],
   "source": [
    "lista[1:4]"
   ]
  },
  {
   "cell_type": "code",
   "execution_count": 68,
   "id": "1fae1b31-bf18-432d-ba64-5ebc3d07420e",
   "metadata": {},
   "outputs": [
    {
     "data": {
      "text/plain": [
       "[10.0, True]"
      ]
     },
     "execution_count": 68,
     "metadata": {},
     "output_type": "execute_result"
    }
   ],
   "source": [
    "lista[3:]"
   ]
  },
  {
   "cell_type": "markdown",
   "id": "e9141d39-eb60-4208-a596-09d95341e072",
   "metadata": {},
   "source": [
    "##### `append()`\n",
    "\n",
    "Adiciona um elemento ao final da lista."
   ]
  },
  {
   "cell_type": "code",
   "execution_count": 69,
   "id": "64c6a51a-6099-44aa-9a03-8da55f415241",
   "metadata": {},
   "outputs": [
    {
     "data": {
      "text/plain": [
       "['Fabricio Daniel', 9.5, 9.0, 10.0, True, 9.5]"
      ]
     },
     "execution_count": 69,
     "metadata": {},
     "output_type": "execute_result"
    }
   ],
   "source": [
    "lista.append(media)\n",
    "lista"
   ]
  },
  {
   "cell_type": "markdown",
   "id": "f81b4b98-04c2-4faa-956b-67372a3bce97",
   "metadata": {},
   "source": [
    "##### `extend()`\n",
    "Adiciona vários elementos ao final da lista.\n",
    "Adicionaremos as notas `[10.0, 8.0, 9.0]` na lista do Fabricio Daniel"
   ]
  },
  {
   "cell_type": "code",
   "execution_count": 70,
   "id": "645b0f8f-754f-4777-8adc-47aa82cb68fc",
   "metadata": {},
   "outputs": [
    {
     "data": {
      "text/plain": [
       "['Fabricio Daniel', 9.5, 9.0, 10.0, True, 9.5, 10.0, 8.0, 9.0]"
      ]
     },
     "execution_count": 70,
     "metadata": {},
     "output_type": "execute_result"
    }
   ],
   "source": [
    "lista.extend([10.0, 8.0, 9.0])\n",
    "lista"
   ]
  },
  {
   "cell_type": "markdown",
   "id": "1916eaac-52af-4b83-a693-cbc90907935d",
   "metadata": {},
   "source": [
    "*Isso não é possível ser feito com o* `append`."
   ]
  },
  {
   "cell_type": "code",
   "execution_count": 71,
   "id": "61201483-517b-4918-a765-f5c9b47b7b23",
   "metadata": {},
   "outputs": [
    {
     "data": {
      "text/plain": [
       "['Fabricio Daniel',\n",
       " 9.5,\n",
       " 9.0,\n",
       " 10.0,\n",
       " True,\n",
       " 9.5,\n",
       " 10.0,\n",
       " 8.0,\n",
       " 9.0,\n",
       " [10.0, 8.0, 9.0]]"
      ]
     },
     "execution_count": 71,
     "metadata": {},
     "output_type": "execute_result"
    }
   ],
   "source": [
    "lista.append([10.0, 8.0, 9.0])\n",
    "lista"
   ]
  },
  {
   "cell_type": "markdown",
   "id": "5ba99e9d-17b4-4b19-b582-5ca6c068b448",
   "metadata": {},
   "source": [
    "##### `remove()`\n",
    "Remove um elemento específico da lista."
   ]
  },
  {
   "cell_type": "code",
   "execution_count": 72,
   "id": "2a07b1e8-6154-419b-921c-a952cedee77f",
   "metadata": {},
   "outputs": [
    {
     "data": {
      "text/plain": [
       "['Fabricio Daniel', 9.5, 9.0, 10.0, True, 9.5, 10.0, 8.0, 9.0]"
      ]
     },
     "execution_count": 72,
     "metadata": {},
     "output_type": "execute_result"
    }
   ],
   "source": [
    "lista.remove([10.0, 8.0, 9.0])\n",
    "lista"
   ]
  },
  {
   "cell_type": "markdown",
   "id": "0605eeb8-a67f-4038-8abf-a50d61343f62",
   "metadata": {
    "jp-MarkdownHeadingCollapsed": true
   },
   "source": [
    "### Para saber mais: outras manipulações para listas\n",
    "\n",
    "Estudamos alguns métodos em aula e, além deles, podemos usar outros para manipular listas em Python. Vamos conhecê-los e ver exemplos de sua construção. Para todos os casos usaremos a lista `raca_caes` a seguir:\n",
    "\n",
    "```python\n",
    "raca_caes = ['Labrador Retriever',\n",
    "             'Bulldog Francês',\n",
    "             'Pastor Alemão',\n",
    "             'Poodle']\n",
    "```\n",
    "\n",
    "O primeiro método é o **`insert()`** que insere o elemento em uma determinada posição da lista. Para isso, seguimos a sintaxe `lista.insert(índice, elemento)`, na qual `lista` é a lista que vai receber o novo elemento, `índice` é o índice onde será inserido o novo elemento e `elemento` é o novo elemento a ser inserido.\n",
    "\n",
    "```python\n",
    "raca_caes.insert(1, 'Golden Retriever')\n",
    "raca_caes\n",
    "```\n",
    "> ['Labrador Retriever', 'Golden Retriever', 'Bulldog Francês', 'Pastor Alemão', 'Poodle']\n",
    "\n",
    "Seguindo esse pensamento, a estrutura `lista.insert(len(lista), elemento)` corresponde ao uso do método `append`, como vimos no vídeo anterior intitulado [Manipulação de listas](https://cursos.alura.com.br/course/python-data-science-primeiros-passos/task/122399).\n",
    "\n",
    "O método **`pop()`** remove o elemento de uma determinada posição da lista e o retorna como saída na execução do método. Nele só precisamos especificar, nos parênteses, qual o índice do elemento que queremos remover e ele será apagado da lista. Portanto, vamos remover a raça `Golden Retriever` que adicionamos no método anterior.\n",
    "\n",
    "```python\n",
    "raca_caes.pop(1)\n",
    "```\n",
    "> 'Golden Retriever'\n",
    "\n",
    "O método **`index()`** retorna o índice de um elemento específico na lista. Para isso, especificamos o elemento entre parênteses. Para identificar o índice da raça *Pastor Alemão* na lista, fazemos:\n",
    "\n",
    "```python\n",
    "raca_caes.index('Pastor Alemão')\n",
    "```\n",
    "> 2\n",
    "\n",
    "O método **`sort()`** organiza os elementos da lista em ordem crescente ou decrescente. Caso sejam palavras, a ordem é dada por sequência alfabética ou inversa à ela. Para ordenar os valores, podemos apenas declarar o método `sort` que a lista será organizada em ordem. Para ordenar alfabéticamente a lista `raca_caes` temos o seguinte código:\n",
    "\n",
    "```python\n",
    "raca_caes.sort()\n",
    "raca_caes\n",
    "```\n",
    "> ['Bulldog Francês', 'Labrador Retriever', 'Pastor Alemão', 'Poodle']\n",
    "\n",
    "Para mais opções e descrições de métodos, acesse a [documentação do Python](https://docs.python.org/3/tutorial/datastructures.html#more-on-lists)."
   ]
  },
  {
   "cell_type": "markdown",
   "id": "bfb34ef5-42cb-4d3a-bc07-d3ff130ec03d",
   "metadata": {
    "jp-MarkdownHeadingCollapsed": true
   },
   "source": [
    "### Dicionário"
   ]
  },
  {
   "cell_type": "code",
   "execution_count": 73,
   "id": "64a05e5d-0e93-4958-b4d6-a5f717dbb256",
   "metadata": {},
   "outputs": [
    {
     "data": {
      "text/plain": [
       "{'chave_1': 1, 'chave_2': 2}"
      ]
     },
     "execution_count": 73,
     "metadata": {},
     "output_type": "execute_result"
    }
   ],
   "source": [
    "dicionario = {'chave_1': 1,\n",
    "              'chave_2': 2}\n",
    "dicionario"
   ]
  },
  {
   "cell_type": "code",
   "execution_count": 74,
   "id": "195ee890-2496-4123-9cd9-a1d0008a1136",
   "metadata": {},
   "outputs": [
    {
     "data": {
      "text/plain": [
       "{'matricula': 2000168933,\n",
       " 'dia_cadastro': 25,\n",
       " 'mes_cadastro': 10,\n",
       " 'turma': '2E'}"
      ]
     },
     "execution_count": 74,
     "metadata": {},
     "output_type": "execute_result"
    }
   ],
   "source": [
    "cadastro = {'matricula': 2000168933,\n",
    "            'dia_cadastro': 25,\n",
    "            'mes_cadastro': 10,\n",
    "            'turma': '2E'}\n",
    "cadastro"
   ]
  },
  {
   "cell_type": "code",
   "execution_count": 75,
   "id": "9a49dcc6-4a8f-469b-9422-c157ae20e6cd",
   "metadata": {},
   "outputs": [
    {
     "data": {
      "text/plain": [
       "2000168933"
      ]
     },
     "execution_count": 75,
     "metadata": {},
     "output_type": "execute_result"
    }
   ],
   "source": [
    "cadastro.get('matricula', None)"
   ]
  },
  {
   "cell_type": "code",
   "execution_count": 76,
   "id": "43720ccd-aafc-4ddd-adb7-92a8c2404cd7",
   "metadata": {},
   "outputs": [
    {
     "data": {
      "text/plain": [
       "{'matricula': 2000168933,\n",
       " 'dia_cadastro': 25,\n",
       " 'mes_cadastro': 10,\n",
       " 'turma': '2G'}"
      ]
     },
     "execution_count": 76,
     "metadata": {},
     "output_type": "execute_result"
    }
   ],
   "source": [
    "cadastro['turma'] = '2G'\n",
    "cadastro"
   ]
  },
  {
   "cell_type": "code",
   "execution_count": 77,
   "id": "4f046224-6806-44df-9365-884bcc94316e",
   "metadata": {},
   "outputs": [
    {
     "data": {
      "text/plain": [
       "{'matricula': 2000168933,\n",
       " 'dia_cadastro': 25,\n",
       " 'mes_cadastro': 10,\n",
       " 'turma': '2G',\n",
       " 'modalidade': 'EAD'}"
      ]
     },
     "execution_count": 77,
     "metadata": {},
     "output_type": "execute_result"
    }
   ],
   "source": [
    "cadastro['modalidade'] = 'EAD'\n",
    "cadastro"
   ]
  },
  {
   "cell_type": "markdown",
   "id": "fa0ea4b7-5410-4188-8158-08e9943bac2b",
   "metadata": {
    "jp-MarkdownHeadingCollapsed": true
   },
   "source": [
    "### Aprofundando em dicionários"
   ]
  },
  {
   "cell_type": "markdown",
   "id": "a9f155a7-c2ea-45ab-9ff8-e2d5abfe3289",
   "metadata": {},
   "source": [
    "##### `pop()`\n",
    "Remove um item de um dicionário e o retorna."
   ]
  },
  {
   "cell_type": "code",
   "execution_count": 78,
   "id": "fb7dc553-ad91-4309-bd36-3eaa16a96aff",
   "metadata": {},
   "outputs": [
    {
     "data": {
      "text/plain": [
       "'2G'"
      ]
     },
     "execution_count": 78,
     "metadata": {},
     "output_type": "execute_result"
    }
   ],
   "source": [
    "cadastro.pop('turma')"
   ]
  },
  {
   "cell_type": "code",
   "execution_count": 79,
   "id": "bf3fd5e8-45cf-498a-92d1-684cff53cefe",
   "metadata": {},
   "outputs": [
    {
     "data": {
      "text/plain": [
       "{'matricula': 2000168933,\n",
       " 'dia_cadastro': 25,\n",
       " 'mes_cadastro': 10,\n",
       " 'modalidade': 'EAD'}"
      ]
     },
     "execution_count": 79,
     "metadata": {},
     "output_type": "execute_result"
    }
   ],
   "source": [
    "cadastro"
   ]
  },
  {
   "cell_type": "markdown",
   "id": "fa5917ff-a105-48fd-8b6e-863424382d8f",
   "metadata": {},
   "source": [
    "##### `items()`\n",
    "Retorna uma lista de pares de chave-valor do dicionário."
   ]
  },
  {
   "cell_type": "code",
   "execution_count": 80,
   "id": "b7487fe4-4b43-4af8-aea6-f5d468f2a74d",
   "metadata": {},
   "outputs": [
    {
     "data": {
      "text/plain": [
       "dict_items([('matricula', 2000168933), ('dia_cadastro', 25), ('mes_cadastro', 10), ('modalidade', 'EAD')])"
      ]
     },
     "execution_count": 80,
     "metadata": {},
     "output_type": "execute_result"
    }
   ],
   "source": [
    "cadastro.items()"
   ]
  },
  {
   "cell_type": "markdown",
   "id": "fb5060da-4fd8-4e48-877a-d527aa66f9ce",
   "metadata": {},
   "source": [
    "##### `keys()`\n",
    "Retorna uma lista das chaves do dicionário."
   ]
  },
  {
   "cell_type": "code",
   "execution_count": 81,
   "id": "7daa9c57-6053-47e9-857a-8b75e527376c",
   "metadata": {},
   "outputs": [
    {
     "data": {
      "text/plain": [
       "dict_keys(['matricula', 'dia_cadastro', 'mes_cadastro', 'modalidade'])"
      ]
     },
     "execution_count": 81,
     "metadata": {},
     "output_type": "execute_result"
    }
   ],
   "source": [
    "cadastro.keys()"
   ]
  },
  {
   "cell_type": "markdown",
   "id": "645fb451-c0a3-4b72-ad3b-e1a662a0dca4",
   "metadata": {},
   "source": [
    "##### `values()`\n",
    "Retorna uma lista dos valores do dicionário."
   ]
  },
  {
   "cell_type": "code",
   "execution_count": 82,
   "id": "e6880fc1-869e-4c34-b1ae-62b8aee416da",
   "metadata": {},
   "outputs": [
    {
     "data": {
      "text/plain": [
       "dict_values([2000168933, 25, 10, 'EAD'])"
      ]
     },
     "execution_count": 82,
     "metadata": {},
     "output_type": "execute_result"
    }
   ],
   "source": [
    "cadastro.values()"
   ]
  },
  {
   "cell_type": "code",
   "execution_count": 83,
   "id": "aa1f5090-1bce-4a73-a227-18e1e3f35f75",
   "metadata": {},
   "outputs": [
    {
     "name": "stdout",
     "output_type": "stream",
     "text": [
      "2000168933\n",
      "25\n",
      "10\n",
      "EAD\n"
     ]
    }
   ],
   "source": [
    "for k in cadastro.keys():\n",
    "    print(cadastro[k])"
   ]
  },
  {
   "cell_type": "code",
   "execution_count": 84,
   "id": "12260d13-ee0f-4a46-9301-1cd5aed8eabc",
   "metadata": {},
   "outputs": [
    {
     "name": "stdout",
     "output_type": "stream",
     "text": [
      "2000168933\n",
      "25\n",
      "10\n",
      "EAD\n"
     ]
    }
   ],
   "source": [
    "for v in cadastro.values():\n",
    "    print(v)"
   ]
  },
  {
   "cell_type": "code",
   "execution_count": 85,
   "id": "424af424-a426-46a4-8826-effdf90302af",
   "metadata": {},
   "outputs": [
    {
     "name": "stdout",
     "output_type": "stream",
     "text": [
      "matricula 2000168933\n",
      "dia_cadastro 25\n",
      "mes_cadastro 10\n",
      "modalidade EAD\n"
     ]
    }
   ],
   "source": [
    "for k, v in cadastro.items():\n",
    "    print(k, v)"
   ]
  },
  {
   "cell_type": "markdown",
   "id": "d721fffc-300c-4d49-b85d-cce43b59132f",
   "metadata": {
    "jp-MarkdownHeadingCollapsed": true
   },
   "source": [
    "### Para saber mais: listas em dicionários\n",
    "\n",
    "Podemos associar estruturas de dados a outras estruturas de dados, como acontece com as listas dentro de dicionários. Nesse caso, as listas podem ser armazenadas nos valores de um dicionário de forma que cada chave pode ter uma lista associada a ela. Isso é útil quando precisamos armazenar vários valores relacionados a uma única chave. Por exemplo: podemos construir um conjunto de dados de uma loja de forma que contenha uma chave com os nomes de cada produto e outra chave contendo os preços correspondentes, como consta no código a seguir:\n",
    "\n",
    "```python\n",
    "loja = {'nomes': ['televisão', 'celular', 'notebook', 'geladeira', 'fogão'],\n",
    "        'precos': [2000, 1500, 3500, 4000, 1500]}\n",
    "```\n",
    "\n",
    "Para acessar os valores, podemos usar um agrupamento de laços `for`:\n",
    "\n",
    "```python\n",
    "for chave, elementos in loja.items():\n",
    "  print(f'Chave: {chave}\\nElementos:')\n",
    "  for dado in elementos:\n",
    "    print(dado)\n",
    "```\n",
    "\n",
    "O primeiro laço, o mais externo, faz a leitura dos itens dentro do dicionário (chaves e elementos). Sabendo que os elementos são *listas*, podemos acessar os dados das listas com outro laço de repetição que está dentro do primeiro laço. O laço mais interno lê os elementos de cada lista por vez e imprime os valores dentro deles.\n",
    "\n",
    "Além disso, podemos realizar operações comuns em listas, como: adicionar, remover ou contar itens na lista associada a uma chave do dicionário."
   ]
  },
  {
   "cell_type": "markdown",
   "id": "606e703b-0049-4d02-bb9f-76418acb8516",
   "metadata": {
    "jp-MarkdownHeadingCollapsed": true
   },
   "source": [
    "### Para saber mais: funções built-in\n",
    "\n",
    "Durante as aulas, nós trabalhamos diretamente com várias funções built-in que são aquelas pré-definidas e disponíveis por padrão no Python. Elas funcionam como ferramentas úteis para realizar tarefas comuns, como conversões de tipo, operações matemáticas, manipulação de strings e muito mais, sem a necessidade de escrever código adicional.\n",
    "\n",
    "Algumas funções built-in que já conhecemos são: `print()`, `input()`, `len()`, `int()`, `str()`, `float()`, `range()`, `chr()`, etc. Mas existem outras funções além dessas que também são muito úteis, como: `sum()`, `help()` e `dir()`. Vamos conhecê-las?\n",
    "\n",
    "#### `sum()`\n",
    "\n",
    "A função `sum()` permite somar os elementos de uma sequência ou estrutura de dados. No exemplo a seguir, vamos somar os preços de produtos:\n",
    "\n",
    "```python\n",
    "precos = [100.0, 400.0, 200.0]\n",
    "soma = sum(precos)\n",
    "soma\n",
    "```\n",
    "> 700.0\n",
    "\n",
    "\n",
    "#### `help()`\n",
    "\n",
    "A função `help()` é usada para acessar a documentação de funções, métodos e outros elementos do Python. Ela exibe informações em inglês sobre a funcionalidade, sintaxe e uso de um objeto específico. Para usar essa função, basta passar o elemento desejado entre parênteses. Por exemplo, vamos verificar a documentação da função `print`:\n",
    "\n",
    "```python\n",
    "help(print)\n",
    "```\n",
    ">  Help on built-in function print in module builtins:\n",
    "\n",
    "> print(...)\n",
    ">    print(value, ..., sep=' ', end='\\n', file=sys.stdout, flush=False)\n",
    "\n",
    ">    Prints the values to a stream, or to sys.stdout by default.\n",
    ">    Optional keyword arguments:\n",
    ">    file:  a file-like object (stream); defaults to the current sys.stdout.\n",
    ">    sep:   string inserted between values, default a space.\n",
    ">    end:   string appended after the last value, default a newline.\n",
    ">    flush: whether to forcibly flush the stream.\n",
    "\n",
    "#### `dir()`\n",
    "\n",
    "Por fim, a função `dir()` é usada para exibir uma lista de atributos e métodos associados a um elemento. Por exemplo, vamos descobrir todos os atributos e métodos de uma lista:\n",
    "\n",
    "```python\n",
    "lista = [1, 2, 3]\n",
    "dir(lista)\n",
    "```\n",
    "> `['__add__', '__class__', '__contains__', '__delattr__', '__delitem__', '__dir__', '__doc__', '__eq__', '__format__', '__ge__', '__getattribute__', '__getitem__', '__gt__', '__hash__', '__iadd__', '__imul__', '__init__', '__init_subclass__', '__iter__', '__le__', '__len__', '__lt__', '__mul__', '__ne__', '__new__', '__reduce__', '__reduce_ex__', '__repr__', '__reversed__', '__rmul__', '__setattr__', '__setitem__', '__sizeof__', '__str__', '__subclasshook__', 'append', 'clear', 'copy', 'count', 'extend', 'index', 'insert', 'pop', 'remove', 'reverse', 'sort']`\n",
    "\n",
    "É interessante conhecer várias funções do built-in e como funcionam, pois elas auxiliam bastante na criação de códigos. Para saber mais sobre funções, você pode acessar a [documentação do Python](https://docs.python.org/3/library/functions.html)."
   ]
  }
 ],
 "metadata": {
  "kernelspec": {
   "display_name": "Python para Data Science (.venv)",
   "language": "python",
   "name": ".venv"
  },
  "language_info": {
   "codemirror_mode": {
    "name": "ipython",
    "version": 3
   },
   "file_extension": ".py",
   "mimetype": "text/x-python",
   "name": "python",
   "nbconvert_exporter": "python",
   "pygments_lexer": "ipython3",
   "version": "3.12.2"
  }
 },
 "nbformat": 4,
 "nbformat_minor": 5
}
