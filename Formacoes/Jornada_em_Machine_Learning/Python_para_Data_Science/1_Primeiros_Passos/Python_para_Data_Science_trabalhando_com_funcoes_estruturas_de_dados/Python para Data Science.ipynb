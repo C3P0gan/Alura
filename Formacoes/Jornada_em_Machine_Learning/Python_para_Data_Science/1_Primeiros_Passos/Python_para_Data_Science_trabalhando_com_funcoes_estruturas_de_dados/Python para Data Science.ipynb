{
 "cells": [
  {
   "cell_type": "markdown",
   "id": "3a0cdc0d-d0fa-4122-bb80-04a4d5f28807",
   "metadata": {},
   "source": [
    "# Python para Data Science: trabalhando com funções, estruturas de dados e exceções"
   ]
  },
  {
   "cell_type": "markdown",
   "id": "a0c6e1cf-b2c9-43f9-8dd3-af8cc57538d3",
   "metadata": {
    "jp-MarkdownHeadingCollapsed": true
   },
   "source": [
    "## 01. Bibliotecas"
   ]
  },
  {
   "cell_type": "markdown",
   "id": "8f86161b-12b8-4323-a316-6673a517da9c",
   "metadata": {
    "jp-MarkdownHeadingCollapsed": true
   },
   "source": [
    "### Importando bibliotecas"
   ]
  },
  {
   "cell_type": "code",
   "execution_count": 1,
   "id": "a10c347b-95e9-4195-bdc0-3f2be7d181b2",
   "metadata": {},
   "outputs": [
    {
     "data": {
      "text/plain": [
       "'3.10.3'"
      ]
     },
     "execution_count": 1,
     "metadata": {},
     "output_type": "execute_result"
    }
   ],
   "source": [
    "import matplotlib\n",
    "matplotlib.__version__"
   ]
  },
  {
   "cell_type": "code",
   "execution_count": 2,
   "id": "355a7f2c-2082-42d0-a51e-a5ba6635dda9",
   "metadata": {},
   "outputs": [],
   "source": [
    "import matplotlib.pyplot as plt\n",
    "import numpy as np"
   ]
  },
  {
   "cell_type": "code",
   "execution_count": 3,
   "id": "2b7d8f20-8928-406a-8a34-23049a7f87e0",
   "metadata": {},
   "outputs": [],
   "source": [
    "plt.show()"
   ]
  },
  {
   "cell_type": "code",
   "execution_count": 4,
   "id": "839c8871-b93e-417c-b98d-a8801e166f54",
   "metadata": {},
   "outputs": [
    {
     "data": {
      "text/plain": [
       "'2.2.6'"
      ]
     },
     "execution_count": 4,
     "metadata": {},
     "output_type": "execute_result"
    }
   ],
   "source": [
    "np.__version__"
   ]
  },
  {
   "cell_type": "markdown",
   "id": "0a8a5d65-d4cd-4e27-a7cc-cfde56fc3a64",
   "metadata": {
    "jp-MarkdownHeadingCollapsed": true
   },
   "source": [
    "### Utilizando pacotes/bibliotecas"
   ]
  },
  {
   "cell_type": "code",
   "execution_count": 5,
   "id": "8f0874be-dba8-4768-aada-01ccec855715",
   "metadata": {},
   "outputs": [],
   "source": [
    "estudantes = ['João', 'Maria', 'José']\n",
    "notas = [8.5, 9.0, 6.5]"
   ]
  },
  {
   "cell_type": "code",
   "execution_count": 6,
   "id": "66c6e25d-2c7b-49d0-b5f9-fe293fde63e8",
   "metadata": {},
   "outputs": [
    {
     "data": {
      "text/plain": [
       "<BarContainer object of 3 artists>"
      ]
     },
     "execution_count": 6,
     "metadata": {},
     "output_type": "execute_result"
    },
    {
     "data": {
      "image/png": "[encoded data removed]",
      "text/plain": [
       "<Figure size 640x480 with 1 Axes>"
      ]
     },
     "metadata": {},
     "output_type": "display_data"
    }
   ],
   "source": [
    "plt.bar(x=estudantes, height=notas)"
   ]
  },
  {
   "cell_type": "code",
   "execution_count": 7,
   "id": "f41e7d64-86b2-4409-a8d7-7cf94b5c85a2",
   "metadata": {},
   "outputs": [],
   "source": [
    "estudantes_2 = ['João', 'Maria', 'José', 'Ana']"
   ]
  },
  {
   "cell_type": "code",
   "execution_count": 8,
   "id": "671749d9-b244-46de-9938-e10d8150be9b",
   "metadata": {},
   "outputs": [],
   "source": [
    "from random import choice"
   ]
  },
  {
   "cell_type": "code",
   "execution_count": 9,
   "id": "17f33897-9d17-4d3f-b1f7-e70b7639429b",
   "metadata": {},
   "outputs": [
    {
     "name": "stdout",
     "output_type": "stream",
     "text": [
      "Help on method choice in module random:\n",
      "\n",
      "choice(seq) method of random.Random instance\n",
      "    Choose a random element from a non-empty sequence.\n",
      "\n"
     ]
    }
   ],
   "source": [
    "help(choice)"
   ]
  },
  {
   "cell_type": "code",
   "execution_count": 10,
   "id": "2e3ec806-1837-4ccf-bdf6-b1528913555c",
   "metadata": {},
   "outputs": [
    {
     "data": {
      "text/plain": [
       "'Maria'"
      ]
     },
     "execution_count": 10,
     "metadata": {},
     "output_type": "execute_result"
    }
   ],
   "source": [
    "estudante = choice(estudantes_2)\n",
    "estudante"
   ]
  },
  {
   "cell_type": "markdown",
   "id": "47c7024a-3084-4dc8-8caa-ca290fbe09a1",
   "metadata": {
    "jp-MarkdownHeadingCollapsed": true
   },
   "source": [
    "### Para saber mais: outras formas de importação\n",
    "\n",
    "Já trabalhamos com duas formas de importação de pacotes: o `import nome_biblioteca` para todo o pacote; e o `from nome_biblioteca import metodo` para apenas um método de uma dada biblioteca.\n",
    "\n",
    "A importação de métodos específicos de uma biblioteca pode trazer algumas vantagens para o nosso projeto, como:\n",
    "\n",
    "- **Maior clareza no código**: importar apenas os métodos que vamos usar torna o código mais claro e fácil de entender.\n",
    "- **Redução de conflitos de nome**: quando importamos uma biblioteca inteira, podemos acabar tendo conflitos de nome com outras variáveis ou funções em nosso código.\n",
    "\n",
    "Além de formas vistas anteriormente, podemos citar mais dois exemplos que podemos encontrar ao longo de suas práticas e estudos da liguagem Python:\n",
    "\n",
    "#### `from nome_biblioteca import met_1, met_2`\n",
    "\n",
    "Este código resulta na importação de 2 ou mais métodos de uma biblioteca, não necessitando repetir a importação desta a cada método desejado. Podemos por exemplo, importar 2 métodos da biblioteca *random* para colher uma amostra de 5 valores de uma lista de 20 valores gerada aleatoriamente com números de 0 a 99.\n",
    "\n",
    "```python\n",
    "from random import randrange, sample\n",
    "\n",
    "lista = []\n",
    "for i in range(20):\n",
    "    lista.append(randrange(100))\n",
    "sample(lista, 5)\n",
    "```\n",
    "> [28, 66, 53, 81, 85]\n",
    "\n",
    "#### `from nome_biblioteca import *`\n",
    "\n",
    "Esta forma é utilizada para importar todos os métodos de uma dada biblioteca. A diferença desta para o `import nome_biblioteca` é que, neste caso, não precisamos usar o nome da biblioteca para chamar o método. Podemos passar apenas o nome dele. Por exemplo, se formos calcular a raiz quadrada de certo número poderíamos seguir por uma das duas formas:\n",
    "\n",
    "##### Usando `import nome_biblioteca`\n",
    "\n",
    "```python\n",
    "import math\n",
    "\n",
    "n = int(input(\"Digite um número positivo para calcular sua raiz quadrada:\"))\n",
    "print(f\"\\nA raiz quadrada de {n} é igual a {math.sqrt(n)}\")\n",
    "```\n",
    "\n",
    "##### Usando `from nome_biblioteca import *`\n",
    "\n",
    "```python\n",
    "from math import *\n",
    "\n",
    "n = int(input(\"Digite um número positivo para calcular sua raiz quadrada:\"))\n",
    "print(f\"\\nA raiz quadrada de {n} é igual a {sqrt(n)}\")\n",
    "```\n",
    "\n",
    "Note que, no segundo exemplo, suprimimos o nome `math` utilizando o método desejado e escrevendo o código com menos caracteres.\n",
    "\n",
    "> **Atenção**: A importação nesse sentido precisa de alguns cuidados:\n",
    "> - Podemos ter choque de nomes entre as variáveis. Por exemplo: no caso de termos uma função chamada `sqrt` antes de importar a da biblioteca `math`.\n",
    "> - Não fica explícito de onde aquela variável, método ou classe veio."
   ]
  },
  {
   "cell_type": "markdown",
   "id": "511678c0-01f0-4965-a192-5468e6820364",
   "metadata": {
    "jp-MarkdownHeadingCollapsed": true
   },
   "source": [
    "## 02. Funções"
   ]
  },
  {
   "cell_type": "markdown",
   "id": "4b39f6fa-7ba8-4516-af0d-ab0d23e6e7fd",
   "metadata": {
    "jp-MarkdownHeadingCollapsed": true
   },
   "source": [
    "### Built-in function"
   ]
  },
  {
   "cell_type": "code",
   "execution_count": 11,
   "id": "1215f117-0ce7-475c-86ed-b4f2b884de36",
   "metadata": {},
   "outputs": [
    {
     "data": {
      "text/plain": [
       "{'1º Trimestre': 8.5, '2º Trimestre': 9.5, '3º Trimestre': 7.0}"
      ]
     },
     "execution_count": 11,
     "metadata": {},
     "output_type": "execute_result"
    }
   ],
   "source": [
    "notas = {'1º Trimestre': 8.5, '2º Trimestre': 9.5, '3º Trimestre': 7.0}\n",
    "notas"
   ]
  },
  {
   "cell_type": "code",
   "execution_count": 12,
   "id": "5c9dba1a-0c8c-47b6-b4ba-e9e6d9c147b1",
   "metadata": {},
   "outputs": [
    {
     "data": {
      "text/plain": [
       "25.0"
      ]
     },
     "execution_count": 12,
     "metadata": {},
     "output_type": "execute_result"
    }
   ],
   "source": [
    "soma = 0\n",
    "for nota in notas.values():\n",
    "    soma += nota\n",
    "soma"
   ]
  },
  {
   "cell_type": "code",
   "execution_count": 13,
   "id": "c2a9e4b0-8283-43a4-a44a-d38d48f8de83",
   "metadata": {},
   "outputs": [
    {
     "data": {
      "text/plain": [
       "25.0"
      ]
     },
     "execution_count": 13,
     "metadata": {},
     "output_type": "execute_result"
    }
   ],
   "source": [
    "somatorio = sum(notas.values())\n",
    "somatorio"
   ]
  },
  {
   "cell_type": "code",
   "execution_count": 14,
   "id": "10d6aaa6-4c11-4423-87d9-b587add1011d",
   "metadata": {},
   "outputs": [
    {
     "data": {
      "text/plain": [
       "3"
      ]
     },
     "execution_count": 14,
     "metadata": {},
     "output_type": "execute_result"
    }
   ],
   "source": [
    "qtd_notas = len(notas)\n",
    "qtd_notas"
   ]
  },
  {
   "cell_type": "code",
   "execution_count": 15,
   "id": "bc1eba53-2d27-4ad5-8fe3-76ac41371ef7",
   "metadata": {},
   "outputs": [
    {
     "data": {
      "text/plain": [
       "8.333333333333334"
      ]
     },
     "execution_count": 15,
     "metadata": {},
     "output_type": "execute_result"
    }
   ],
   "source": [
    "media = somatorio / qtd_notas\n",
    "media"
   ]
  },
  {
   "cell_type": "code",
   "execution_count": 16,
   "id": "4ddbdb6f-df65-43c2-ad88-1ce6bd5611d8",
   "metadata": {},
   "outputs": [
    {
     "data": {
      "text/plain": [
       "\u001b[31mSignature:\u001b[39m round(number, ndigits=\u001b[38;5;28;01mNone\u001b[39;00m)\n",
       "\u001b[31mDocstring:\u001b[39m\n",
       "Round a number to a given precision in decimal digits.\n",
       "\n",
       "The return value is an integer if ndigits is omitted or None.  Otherwise\n",
       "the return value has the same type as the number.  ndigits may be negative.\n",
       "\u001b[31mType:\u001b[39m      builtin_function_or_method"
      ]
     },
     "metadata": {},
     "output_type": "display_data"
    }
   ],
   "source": [
    "round?"
   ]
  },
  {
   "cell_type": "code",
   "execution_count": 17,
   "id": "be9c0f3e-d9e7-4670-bb00-3ec355dbb23a",
   "metadata": {},
   "outputs": [
    {
     "data": {
      "text/plain": [
       "8.3"
      ]
     },
     "execution_count": 17,
     "metadata": {},
     "output_type": "execute_result"
    }
   ],
   "source": [
    "media = round(media, 1)\n",
    "media"
   ]
  },
  {
   "cell_type": "markdown",
   "id": "93b28921-ca19-48d1-a595-ffb93f7c2df6",
   "metadata": {
    "jp-MarkdownHeadingCollapsed": true
   },
   "source": [
    "### Criando funções"
   ]
  },
  {
   "cell_type": "code",
   "execution_count": 18,
   "id": "5dacea9b-7d0b-499a-9505-cbf26297df27",
   "metadata": {},
   "outputs": [],
   "source": [
    "def media() -> None:\n",
    "    calculo = (10 + 9 + 8) / 3\n",
    "    print(calculo)"
   ]
  },
  {
   "cell_type": "code",
   "execution_count": 19,
   "id": "c79ca567-072a-414d-9bb9-fea9ed99d9cd",
   "metadata": {},
   "outputs": [
    {
     "name": "stdout",
     "output_type": "stream",
     "text": [
      "9.0\n"
     ]
    }
   ],
   "source": [
    "media()"
   ]
  },
  {
   "cell_type": "code",
   "execution_count": 20,
   "id": "4358d94d-a1d6-4d27-99f6-8f8d5f074af3",
   "metadata": {},
   "outputs": [],
   "source": [
    "def media(*args) -> None:\n",
    "    calculo = sum(args) / len(args)\n",
    "    print(calculo)"
   ]
  },
  {
   "cell_type": "code",
   "execution_count": 21,
   "id": "4676db30-9126-4f15-9092-0e8b56a8b136",
   "metadata": {},
   "outputs": [
    {
     "name": "stdout",
     "output_type": "stream",
     "text": [
      "6.0\n"
     ]
    }
   ],
   "source": [
    "media(3, 6, 9)"
   ]
  },
  {
   "cell_type": "code",
   "execution_count": 22,
   "id": "85b54e99-0ae9-4ad7-b27d-c7a54fbfcf28",
   "metadata": {},
   "outputs": [],
   "source": [
    "notas = [8.5, 9.0, 6.0, 10.0]"
   ]
  },
  {
   "cell_type": "code",
   "execution_count": 23,
   "id": "47b02324-4aa3-4d0b-a6b9-6ba066d560ab",
   "metadata": {},
   "outputs": [
    {
     "name": "stdout",
     "output_type": "stream",
     "text": [
      "8.375\n"
     ]
    }
   ],
   "source": [
    "media(*notas)"
   ]
  },
  {
   "cell_type": "code",
   "execution_count": 24,
   "id": "eb3ac732-3ebd-4f1a-b3cd-7ae3e586285a",
   "metadata": {},
   "outputs": [
    {
     "name": "stdout",
     "output_type": "stream",
     "text": [
      "8.375\n"
     ]
    }
   ],
   "source": [
    "resultado = media(*notas)"
   ]
  },
  {
   "cell_type": "code",
   "execution_count": 25,
   "id": "7386c086-6706-494f-b867-4b65f98e30e7",
   "metadata": {},
   "outputs": [],
   "source": [
    "resultado"
   ]
  },
  {
   "cell_type": "code",
   "execution_count": 26,
   "id": "ef29ef2c-e46e-4bfc-81e5-2b51f5cf77f1",
   "metadata": {},
   "outputs": [
    {
     "data": {
      "text/plain": [
       "NoneType"
      ]
     },
     "execution_count": 26,
     "metadata": {},
     "output_type": "execute_result"
    }
   ],
   "source": [
    "type(resultado)"
   ]
  },
  {
   "cell_type": "markdown",
   "id": "06133c02-8d59-431d-95ef-10f0e527037e",
   "metadata": {},
   "source": [
    "### Para saber mais: escopo de uma variável\n",
    "\n",
    "Em Python, o escopo de uma variável é definido pela região do código onde ela pode ser acessada. No caso de uma função, o escopo pode ser dividido em duas categorias: **escopo global** e **escopo local**.\n",
    "\n",
    "O escopo global é o espaço no qual uma variável pode ser acessada por qualquer função ou código que esteja sendo executado no programa. Já o escopo local é o espaço no qual a variável pode ser acessada apenas pela função em que foi definida.\n",
    "\n",
    "O problema de escopo ocorre quando uma variável é definida dentro do escopo de uma função e, em seguida, é referenciada fora do escopo da função. Nesse caso, o Python gera uma mensagem de erro, indicando que a variável não foi definida (`NameError`).\n",
    "\n",
    "Abaixo segue um exemplo que ilustra esse comportamento. Inicialmente, vamos criar uma variável `x` externa a função `soma()`, na qual definimos uma outra variável y e, por fim, imprimimos a soma das duas variáveis.\n",
    "\n",
    "```python\n",
    "x = 7\n",
    "\n",
    "def soma():\n",
    "  y = 9\n",
    "  print(x + y)\n",
    "```\n",
    "\n",
    "Note que o `x` é a nossa variável definida no escopo global e o `y` a variável definida no escopo local da função `soma()`. Quando tentamos executar a nossa função, a soma é realizada normalmente:\n",
    "\n",
    "```python\n",
    "soma()\n",
    "```\n",
    "> 16\n",
    "\n",
    "No entanto, o Python gera um erro quando tentamos imprimir a soma de `x` e `y` fora do escopo da função, pois a variável `y` existe apenas dentro da função `soma()`.\n",
    "\n",
    "```python\n",
    "print(x + y)\n",
    "```\n",
    "> ---------------------------------------------------------------------------\n",
    ">\n",
    "> NameError                                 Traceback (most recent call last)\n",
    "> <ipython-input-4-f09a7b03ddbf> in <module>\n",
    "> ----> 1 print(x + y)\n",
    ">\n",
    "> NameError: name 'y' is not defined\n",
    "\n",
    "\n",
    "Para corrigir esse erro, podemos tornar `y` uma variável global ou retornar seu valor na função e atribuí-lo a uma variável externa. No próximo vídeo, vamos aprender como proceder nesse tipo de situação."
   ]
  },
  {
   "cell_type": "markdown",
   "id": "9a1e1fb8-b14e-4847-9113-8a9c3cd51c6f",
   "metadata": {
    "jp-MarkdownHeadingCollapsed": true
   },
   "source": [
    "### Funções com retorno"
   ]
  },
  {
   "cell_type": "code",
   "execution_count": 42,
   "id": "70a2cd39-1344-4f72-9659-455f474517d0",
   "metadata": {},
   "outputs": [],
   "source": [
    "def media(lista: list[int | float]) -> float:\n",
    "    return sum(lista) / len(lista)"
   ]
  },
  {
   "cell_type": "code",
   "execution_count": 44,
   "id": "1ba210f0-2333-441f-8827-17ab5c9755b2",
   "metadata": {},
   "outputs": [
    {
     "data": {
      "text/plain": [
       "8.375"
      ]
     },
     "execution_count": 44,
     "metadata": {},
     "output_type": "execute_result"
    }
   ],
   "source": [
    "resultado = media(notas)\n",
    "resultado"
   ]
  },
  {
   "cell_type": "code",
   "execution_count": 45,
   "id": "41b5db17-90c1-4c1c-81d3-9386d3613ae7",
   "metadata": {},
   "outputs": [],
   "source": [
    "def boletim(lista: list[int | float]) -> tuple[float, str]:\n",
    "    media = sum(lista) / len(lista)\n",
    "\n",
    "    if media >= 6:\n",
    "        situacao = 'Aprovado(a)'\n",
    "    else:\n",
    "        situacao = 'Reprovado(a)'\n",
    "\n",
    "    return media, situacao"
   ]
  },
  {
   "cell_type": "code",
   "execution_count": 46,
   "id": "0d7ea8c7-0e28-430c-9456-29cbe570fceb",
   "metadata": {},
   "outputs": [
    {
     "data": {
      "text/plain": [
       "(8.375, 'Aprovado(a)')"
      ]
     },
     "execution_count": 46,
     "metadata": {},
     "output_type": "execute_result"
    }
   ],
   "source": [
    "boletim(notas)"
   ]
  },
  {
   "cell_type": "code",
   "execution_count": 47,
   "id": "0fe3d1b6-69a6-44d9-adb4-d21ac86c3b70",
   "metadata": {},
   "outputs": [],
   "source": [
    "media, situacao = boletim = boletim(notas)"
   ]
  },
  {
   "cell_type": "code",
   "execution_count": 48,
   "id": "bccf9c22-7722-4fae-8c8f-b4e4dc6d556f",
   "metadata": {},
   "outputs": [
    {
     "data": {
      "text/plain": [
       "8.375"
      ]
     },
     "execution_count": 48,
     "metadata": {},
     "output_type": "execute_result"
    }
   ],
   "source": [
    "media"
   ]
  },
  {
   "cell_type": "code",
   "execution_count": 49,
   "id": "90301b40-6fab-4838-8858-4ba618346777",
   "metadata": {},
   "outputs": [
    {
     "data": {
      "text/plain": [
       "'Aprovado(a)'"
      ]
     },
     "execution_count": 49,
     "metadata": {},
     "output_type": "execute_result"
    }
   ],
   "source": [
    "situacao"
   ]
  },
  {
   "cell_type": "markdown",
   "id": "373d9f45-2c4a-40af-a609-b9c00c20e349",
   "metadata": {
    "jp-MarkdownHeadingCollapsed": true
   },
   "source": [
    "### Funções lambda"
   ]
  },
  {
   "cell_type": "code",
   "execution_count": 52,
   "id": "a0b9608c-48f5-4c73-b5ec-2f525a7c02f5",
   "metadata": {},
   "outputs": [
    {
     "name": "stdin",
     "output_type": "stream",
     "text": [
      "Digite a 1ª nota do(a) estudante:  8\n",
      "Digite a 3ª nota do(a) estudante:  5\n",
      "Digite a 3ª nota do(a) estudante:  9\n"
     ]
    },
    {
     "data": {
      "text/plain": [
       "7.9"
      ]
     },
     "execution_count": 52,
     "metadata": {},
     "output_type": "execute_result"
    }
   ],
   "source": [
    "n1 = float(input('Digite a 1ª nota do(a) estudante: '))\n",
    "n2 = float(input('Digite a 3ª nota do(a) estudante: '))\n",
    "n3 = float(input('Digite a 3ª nota do(a) estudante: '))\n",
    "\n",
    "media_poderada = lambda x, y, z: (x * 3 + y * 2 + z * 5) / 10\n",
    "media_estudante = media_poderada(n1, n2, n3)\n",
    "media_estudante"
   ]
  },
  {
   "cell_type": "code",
   "execution_count": 53,
   "id": "5f4e7f40-8eaa-4eb1-9d08-2b0a271436af",
   "metadata": {},
   "outputs": [],
   "source": [
    "notas = [6.0, 7.0, 9.0, 5.5, 8.0]\n",
    "qualitativo = 0.5"
   ]
  },
  {
   "cell_type": "code",
   "execution_count": 54,
   "id": "62a99087-0c7b-4b60-8a82-311b0638aee3",
   "metadata": {},
   "outputs": [
    {
     "ename": "TypeError",
     "evalue": "can only concatenate list (not \"float\") to list",
     "output_type": "error",
     "traceback": [
      "\u001b[31m---------------------------------------------------------------------------\u001b[39m",
      "\u001b[31mTypeError\u001b[39m                                 Traceback (most recent call last)",
      "\u001b[36mCell\u001b[39m\u001b[36m \u001b[39m\u001b[32mIn[54]\u001b[39m\u001b[32m, line 2\u001b[39m\n\u001b[32m      1\u001b[39m notas_atualizadas = \u001b[38;5;28;01mlambda\u001b[39;00m x: x + qualitativo\n\u001b[32m----> \u001b[39m\u001b[32m2\u001b[39m \u001b[43mnotas_atualizadas\u001b[49m\u001b[43m(\u001b[49m\u001b[43mnotas\u001b[49m\u001b[43m)\u001b[49m\n",
      "\u001b[36mCell\u001b[39m\u001b[36m \u001b[39m\u001b[32mIn[54]\u001b[39m\u001b[32m, line 1\u001b[39m, in \u001b[36m<lambda>\u001b[39m\u001b[34m(x)\u001b[39m\n\u001b[32m----> \u001b[39m\u001b[32m1\u001b[39m notas_atualizadas = \u001b[38;5;28;01mlambda\u001b[39;00m x: \u001b[43mx\u001b[49m\u001b[43m \u001b[49m\u001b[43m+\u001b[49m\u001b[43m \u001b[49m\u001b[43mqualitativo\u001b[49m\n\u001b[32m      2\u001b[39m notas_atualizadas(notas)\n",
      "\u001b[31mTypeError\u001b[39m: can only concatenate list (not \"float\") to list"
     ]
    }
   ],
   "source": [
    "notas_atualizadas = lambda x: x + qualitativo\n",
    "notas_atualizadas(notas)"
   ]
  },
  {
   "cell_type": "code",
   "execution_count": 55,
   "id": "89992c83-3066-464a-9e9b-983343034f39",
   "metadata": {},
   "outputs": [
    {
     "data": {
      "text/plain": [
       "<map at 0x7c7711a225c0>"
      ]
     },
     "execution_count": 55,
     "metadata": {},
     "output_type": "execute_result"
    }
   ],
   "source": [
    "notas_atualizadas = map(lambda x: x + qualitativo, notas)\n",
    "notas_atualizadas"
   ]
  },
  {
   "cell_type": "code",
   "execution_count": 56,
   "id": "b6f21e59-e914-471c-98cc-5e5fb4b334dc",
   "metadata": {},
   "outputs": [
    {
     "data": {
      "text/plain": [
       "[6.5, 7.5, 9.5, 6.0, 8.5]"
      ]
     },
     "execution_count": 56,
     "metadata": {},
     "output_type": "execute_result"
    }
   ],
   "source": [
    "notas_atualizadas = list(notas_atualizadas)\n",
    "notas_atualizadas"
   ]
  },
  {
   "cell_type": "code",
   "execution_count": 57,
   "id": "24aa9cfc-1335-4afd-9564-d03cf306d764",
   "metadata": {},
   "outputs": [
    {
     "data": {
      "text/plain": [
       "[6.0, 7.0, 9.0, 5.5, 8.0]"
      ]
     },
     "execution_count": 57,
     "metadata": {},
     "output_type": "execute_result"
    }
   ],
   "source": [
    "notas"
   ]
  },
  {
   "cell_type": "markdown",
   "id": "4813304e-a823-4c2c-b5d6-d11d06074ce3",
   "metadata": {
    "jp-MarkdownHeadingCollapsed": true
   },
   "source": [
    "## 03. Estruturas de dados"
   ]
  },
  {
   "cell_type": "markdown",
   "id": "fd632a5f-6044-47eb-9229-2bb3417de976",
   "metadata": {
    "jp-MarkdownHeadingCollapsed": true
   },
   "source": [
    "### Lista de listas"
   ]
  },
  {
   "cell_type": "code",
   "execution_count": 58,
   "id": "3451bb27-522b-427c-be12-9df34589dec6",
   "metadata": {},
   "outputs": [],
   "source": [
    "notas_turma = ['João', 8.0, 9.0, 10.0, 'Maria', 9.0, 7.0, 6.0, 'José', 3.4, 7.0, 7.0, 'Cláudia', 5.5, 6.6, 8.0, 'Ana', 6.0, 10.0, 9.5]"
   ]
  },
  {
   "cell_type": "code",
   "execution_count": 59,
   "id": "bf3b5a89-a233-4e39-b8fa-083ccce804b1",
   "metadata": {},
   "outputs": [],
   "source": [
    "nomes = []\n",
    "notas_juntas = []\n",
    "\n",
    "for i in range(len(notas_turma)):\n",
    "    if i % 4 == 0:\n",
    "        nomes.append(notas_turma[i])\n",
    "    else:\n",
    "        notas_juntas.append(notas_turma[i])"
   ]
  },
  {
   "cell_type": "code",
   "execution_count": 60,
   "id": "3a183d27-27e9-4b3f-8864-170b4a1c20be",
   "metadata": {},
   "outputs": [
    {
     "data": {
      "text/plain": [
       "['João', 'Maria', 'José', 'Cláudia', 'Ana']"
      ]
     },
     "execution_count": 60,
     "metadata": {},
     "output_type": "execute_result"
    }
   ],
   "source": [
    "nomes"
   ]
  },
  {
   "cell_type": "code",
   "execution_count": 64,
   "id": "69da8d53-2822-4ce8-9904-6c5297149ab0",
   "metadata": {},
   "outputs": [
    {
     "data": {
      "text/plain": [
       "[8.0, 9.0, 10.0, 9.0, 7.0, 6.0, 3.4, 7.0, 7.0, 5.5, 6.6, 8.0, 6.0, 10.0, 9.5]"
      ]
     },
     "execution_count": 64,
     "metadata": {},
     "output_type": "execute_result"
    }
   ],
   "source": [
    "notas_juntas"
   ]
  },
  {
   "cell_type": "code",
   "execution_count": 66,
   "id": "09ea5fec-d4b6-452b-9cbc-0196eb4dd60f",
   "metadata": {},
   "outputs": [
    {
     "data": {
      "text/plain": [
       "[[8.0, 9.0, 10.0],\n",
       " [9.0, 7.0, 6.0],\n",
       " [3.4, 7.0, 7.0],\n",
       " [5.5, 6.6, 8.0],\n",
       " [6.0, 10.0, 9.5]]"
      ]
     },
     "execution_count": 66,
     "metadata": {},
     "output_type": "execute_result"
    }
   ],
   "source": [
    "notas = []\n",
    "for i in range(0, len(notas_juntas), 3):\n",
    "    notas.append([notas_juntas[i], notas_juntas[i + 1], notas_juntas[i + 2]])\n",
    "notas"
   ]
  },
  {
   "cell_type": "code",
   "execution_count": 67,
   "id": "0e9e3dc6-bb36-4378-acb7-ae6048d627fe",
   "metadata": {},
   "outputs": [
    {
     "data": {
      "text/plain": [
       "[8.0, 9.0, 10.0]"
      ]
     },
     "execution_count": 67,
     "metadata": {},
     "output_type": "execute_result"
    }
   ],
   "source": [
    "notas[0]"
   ]
  },
  {
   "cell_type": "code",
   "execution_count": 68,
   "id": "9250e05f-b2ca-4815-ae57-ac754a21095d",
   "metadata": {},
   "outputs": [
    {
     "data": {
      "text/plain": [
       "10.0"
      ]
     },
     "execution_count": 68,
     "metadata": {},
     "output_type": "execute_result"
    }
   ],
   "source": [
    "notas[0][2]"
   ]
  },
  {
   "cell_type": "markdown",
   "id": "32c9b0b6-d991-4df4-936c-7be13f3da634",
   "metadata": {
    "jp-MarkdownHeadingCollapsed": true
   },
   "source": [
    "### Para saber mais: trabalhando com tuplas\n",
    "\n",
    "As **tuplas** são estruturas de dados imutáveis da linguagem Python que são utilizadas para armazenar conjuntos de mútiplos itens e frequentemente são aplicadas para agrupar dados que não devem ser modificados. Ou seja, não é possível adicionar, alterar ou remover seus elementos depois de criadas. Vamos explorar um pouco mais desse tipo de estrutura voltada à aplicação em ciência de dados.\n",
    "\n",
    "Tuplsa são especialmente úteis em situações nas quais precisamos garantir que os dados não sejam alterados acidental ou intencionalmente. Por exemplo, em um conjunto de dados que representa o cadastro de estudantes, podemos utilizar uma tupla para representar aquele(a) estudante em específico e manter no banco de dados de uma instituição de ensino. Dessa forma, garantimos que as informações de cada estudante não sejam alteradas inadvertidamente.\n",
    "\n",
    "Para criar uma tupla, basta separar seus elementos por vírgulas. Por exemplo, podemos criar uma tupla com um registro de uma estudante da seguinte maneira:\n",
    "\n",
    "```python\n",
    "cadastro = ('Júlia', 23, 'São Paulo', 'SP', 'Python para DS 1')\n",
    "```\n",
    "\n",
    "Para acessar os elementos de uma tupla, podemos usar o índice entre colchetes. Por exemplo:\n",
    "\n",
    "```python\n",
    "print(cadastro[0])  # imprime 'Júlia'\n",
    "print(cadastro[-1])  # imprime 'Python para DS 1'\n",
    "```\n",
    "\n",
    "Além disso, por também ser um iterável, podemos desempacotar os dados de uma tupla passando cada valor para uma variável. Por exemplo:\n",
    "\n",
    "```python\n",
    "nome, idade, cidade, estado, turma = cadastro\n",
    "```\n",
    "\n",
    "E exibir os dados cadastrais da estudante:\n",
    "\n",
    "```python\n",
    "print(f\"A estudante {nome} tem {idade} anos e mora em {cidade}-{estado}. Ela está matriculada na turma de {turma}.\")\n",
    "```\n",
    "> 'A estudante Júlia tem 23 anos e mora em São Paulo-SP. Ela está matriculada na turma de Python para DS 1.'"
   ]
  },
  {
   "cell_type": "markdown",
   "id": "ea4ba4b2-023e-4b62-a0f4-17713915a2de",
   "metadata": {
    "jp-MarkdownHeadingCollapsed": true
   },
   "source": [
    "### Lista de tuplas"
   ]
  },
  {
   "cell_type": "code",
   "execution_count": 72,
   "id": "2f97f077-3b5f-4119-9fd7-fd2d2e550737",
   "metadata": {},
   "outputs": [
    {
     "data": {
      "text/plain": [
       "['João', 'Maria', 'José', 'Cláudia', 'Ana']"
      ]
     },
     "execution_count": 72,
     "metadata": {},
     "output_type": "execute_result"
    }
   ],
   "source": [
    "estudantes = ['João', 'Maria', 'José', 'Cláudia', 'Ana']\n",
    "estudantes"
   ]
  },
  {
   "cell_type": "code",
   "execution_count": 73,
   "id": "b77be4ad-2437-4517-8d44-b56d8cce2034",
   "metadata": {},
   "outputs": [],
   "source": [
    "from random import randint\n",
    "\n",
    "def gera_codigo() -> str:\n",
    "    return str(randint(0, 999))"
   ]
  },
  {
   "cell_type": "code",
   "execution_count": 74,
   "id": "32cb9f55-047c-4ae9-918f-c12d2f993b62",
   "metadata": {},
   "outputs": [
    {
     "data": {
      "text/plain": [
       "[('João', 'J900'),\n",
       " ('Maria', 'M54'),\n",
       " ('José', 'J352'),\n",
       " ('Cláudia', 'C607'),\n",
       " ('Ana', 'A397')]"
      ]
     },
     "execution_count": 74,
     "metadata": {},
     "output_type": "execute_result"
    }
   ],
   "source": [
    "codigo_estudantes = []\n",
    "for i in range(len(estudantes)):\n",
    "    codigo_estudantes.append((estudantes[i], estudantes[i][0] + gera_codigo()))\n",
    "codigo_estudantes"
   ]
  },
  {
   "cell_type": "markdown",
   "id": "bbef68ca-9fcd-498f-8a9a-5107e4b96cb2",
   "metadata": {
    "jp-MarkdownHeadingCollapsed": true
   },
   "source": [
    "### List comprehension"
   ]
  },
  {
   "cell_type": "code",
   "execution_count": 75,
   "id": "4de4fafa-63d2-4949-8684-3c588da62314",
   "metadata": {},
   "outputs": [],
   "source": [
    "notas = [[8.0, 9.0, 10.0], [9.0, 7.0, 6.0], [3.4, 7.0, 7.0], [5.5, 6.6, 8.0], [6.0, 10.0, 9.5]]"
   ]
  },
  {
   "cell_type": "code",
   "execution_count": 76,
   "id": "f419d87e-36dd-4191-ade3-fab0e3d160b9",
   "metadata": {},
   "outputs": [],
   "source": [
    "def media(lista: list[float]) -> float:\n",
    "    return sum(lista) / len(lista)"
   ]
  },
  {
   "cell_type": "code",
   "execution_count": 77,
   "id": "8a6237ae-6505-49de-b77f-2a93fb7ec497",
   "metadata": {},
   "outputs": [
    {
     "data": {
      "text/plain": [
       "[9.0, 7.3, 5.8, 6.7, 8.5]"
      ]
     },
     "execution_count": 77,
     "metadata": {},
     "output_type": "execute_result"
    }
   ],
   "source": [
    "medias = [round(media(nota), 1) for nota in notas]\n",
    "medias"
   ]
  },
  {
   "cell_type": "code",
   "execution_count": 78,
   "id": "7de7d3e8-03b8-4538-92ff-7bcee702dabd",
   "metadata": {},
   "outputs": [],
   "source": [
    "nomes = [('João', 'J900'), ('Maria', 'M54'), ('José', 'J352'), ('Cláudia', 'C607'), ('Ana', 'A397')]\n",
    "medias = [9.0, 7.3, 5.8, 6.7, 8.5]"
   ]
  },
  {
   "cell_type": "code",
   "execution_count": 79,
   "id": "6678f9cf-e494-4e10-9e83-b6fbf70468aa",
   "metadata": {},
   "outputs": [
    {
     "data": {
      "text/plain": [
       "['João', 'Maria', 'José', 'Cláudia', 'Ana']"
      ]
     },
     "execution_count": 79,
     "metadata": {},
     "output_type": "execute_result"
    }
   ],
   "source": [
    "nomes = [nome[0] for nome in nomes]\n",
    "nomes"
   ]
  },
  {
   "cell_type": "code",
   "execution_count": 80,
   "id": "be2334b6-43a2-46a5-aa42-6b50f073b0af",
   "metadata": {},
   "outputs": [
    {
     "data": {
      "text/plain": [
       "[('João', 9.0), ('Maria', 7.3), ('José', 5.8), ('Cláudia', 6.7), ('Ana', 8.5)]"
      ]
     },
     "execution_count": 80,
     "metadata": {},
     "output_type": "execute_result"
    }
   ],
   "source": [
    "estudantes = list(zip(nomes, medias))\n",
    "estudantes"
   ]
  },
  {
   "cell_type": "code",
   "execution_count": 81,
   "id": "d62c75ee-9ac5-435e-adfd-a9e43a89b764",
   "metadata": {},
   "outputs": [
    {
     "data": {
      "text/plain": [
       "['João', 'Ana']"
      ]
     },
     "execution_count": 81,
     "metadata": {},
     "output_type": "execute_result"
    }
   ],
   "source": [
    "candidatos = [estudante[0] for estudante in estudantes if estudante[1] >= 8.0]\n",
    "candidatos"
   ]
  },
  {
   "cell_type": "markdown",
   "id": "7f906763-1f53-44f8-b8b4-a209aa92e309",
   "metadata": {
    "jp-MarkdownHeadingCollapsed": true
   },
   "source": [
    "### Para saber mais: função zip\n",
    "\n",
    "A `zip()` é uma função embutida do Python que recebe um ou mais iteráveis (lista, string, dict, etc.) e retorna-os como um iterador de tuplas onde cada elemento dos iteráveis são pareados. Ela é útil para fazer iterações simultâneas em várias listas.\n",
    "\n",
    "A função `zip()` pode ser usada em conjunto com outras funções do Python, como `map()` e `filter()`, para criar soluções elegantes e concisas para certos problemas. Vamos fazer um simples teste para verificar esse comportamento:\n",
    "\n",
    "```python\n",
    "objeto_zip = zip([1, 2, 3])\n",
    "objeto_zip\n",
    "```\n",
    "> <zip at 0x7f28fc5c0040>\n",
    "\n",
    "Percebemos que o `zip()` criou um objeto `zip` na memória, que seria o nosso iterável. Vamos colocar o resultado em uma lista para verificar a saída:\n",
    "\n",
    "```python\n",
    "list(objeto_zip)\n",
    "```\n",
    "> [(1,), (2,), (3,)]\n",
    "\n",
    "Note que, com apenas um iterável, uma lista de tuplas foi gerada com cada tupla possuindo, como um dos pares, os elementos vindos da lista `[1, 2, 3]` e a outra parte dos pares vazia. Como utilizamos apenas um iterável, cada tupla está vazia no 2º elemento, uma vez que o `zip()` age em criar pares de iteráveis.\n",
    "\n",
    "Mas o mais interessante é trabalhar com dois ou mais iteráveis em que podemos pareá-los. Por exemplo, se quisermos criar uma lista de tuplas com o mapeamento das regiões do Brasil com seus respectivos ids:\n",
    "\n",
    "```python\n",
    "id = [1, 2, 3, 4, 5]\n",
    "regiao = ['Norte', 'Nordeste', 'Sudeste', 'Centro-Oeste', 'Sul']\n",
    "mapa = list(zip(id, regiao))\n",
    "mapa\n",
    "```\n",
    "> [(1, 'Norte'), (1, 'Nordeste'), (3, 'Sudeste'), (4, 'Centro-Oeste'), (5, 'Sul')]\n",
    "\n",
    "Para uma pessoa cientista de dados, essa função pode auxiliar a parear 2 listas distintas em um único objeto zip, podendo este ser transformado em uma lista de tuplas (formato ideal para gerar um índice de mais de um nível que será explorado em alguns cursos da formação) ou em um dicionário passando o objeto zip para a função `dict()`.\n",
    "\n",
    "Agora, se as listas de entrada têm comprimentos diferentes, a saída contém o mesmo número de tuplas que a lista de menor comprimento e os elementos restantes dos outros iteráveis serão ignorados. Por exemplo:\n",
    "\n",
    "```python\n",
    "codigos = ['1000', '1001', '1002', '1003', '1004', '1005']\n",
    "frutas = ['maçã', 'uva', 'banana', 'laranja']\n",
    "mercadorias = list(zip(codigos, frutas))\n",
    "mercadorias\n",
    "```\n",
    "> [('1000', 'maçã'), ('1001', 'uva'), ('1002', 'banana'), ('1003', 'laranja')]\n",
    "\n",
    "Para fazer o processo contrário, de transformar uma tupla iterável em listas, basta passar o operador asterisco (`*`) ao lado esquerdo do nome da tupla iterável que quer extrair os dados, repassando cada tupla para uma variável.\n",
    "\n",
    "```python\n",
    "tupla_iteravel = [('J900', 'João'), ('M54', 'Maria'), ('J352', 'José'), ('C607', 'Cláudia'), ('A397', 'Ana')]\n",
    "ids, nomes = zip(*tupla_iteravel)\n",
    "\n",
    "ids = list(ids)\n",
    "nomes = list(nomes)\n",
    "\n",
    "print('IDs = ', ids)\n",
    "print('Nomes = ', nomes)\n",
    "```\n",
    "> IDs = ['J900', 'M54', 'J352', 'C607', 'A397']\n",
    ">\n",
    "> Nomes = ['João', 'Maria', 'José', 'Cláudia', 'Ana']\n",
    "\n",
    "A ideia de fazer um 'unzip' é bem-vinda quando queremos extrair chaves ou valores separadamente ou gerar uma lista de tuplas separadas, com o conjunto de chaves e valores cada um representados em uma tupla."
   ]
  },
  {
   "cell_type": "markdown",
   "id": "bf893482-325c-4fa1-97a2-636c3ab3994b",
   "metadata": {
    "jp-MarkdownHeadingCollapsed": true
   },
   "source": [
    "### List comprehension com if-else"
   ]
  },
  {
   "cell_type": "code",
   "execution_count": 82,
   "id": "b2046d94-2bd8-48e0-ade5-73c294ebf41c",
   "metadata": {},
   "outputs": [],
   "source": [
    "nomes = [('João', 'J900'), ('Maria', 'M54'), ('José', 'J352'), ('Cláudia', 'C607'), ('Ana', 'A397')]\n",
    "notas = [[8.0, 9.0, 10.0], [9.0, 7.0, 6.0], [3.4, 7.0, 7.0], [5.5, 6.6, 8.0], [6.0, 10.0, 9.5]]\n",
    "medias = [9.0, 7.3, 5.8, 6.7, 8.5]"
   ]
  },
  {
   "cell_type": "code",
   "execution_count": 83,
   "id": "91e69598-967d-435f-8c88-b3589394dac3",
   "metadata": {},
   "outputs": [
    {
     "data": {
      "text/plain": [
       "['Aprovado(a)', 'Aprovado(a)', 'Reprovado(a)', 'Aprovado(a)', 'Aprovado(a)']"
      ]
     },
     "execution_count": 83,
     "metadata": {},
     "output_type": "execute_result"
    }
   ],
   "source": [
    "situacao = ['Aprovado(a)' if media >= 6.0 else 'Reprovado(a)' for media in medias]\n",
    "situacao"
   ]
  },
  {
   "cell_type": "code",
   "execution_count": 85,
   "id": "7ee84004-cd5b-4ad5-aab7-12457e6eb9bf",
   "metadata": {},
   "outputs": [
    {
     "data": {
      "text/plain": [
       "[[('João', 'J900'),\n",
       "  ('Maria', 'M54'),\n",
       "  ('José', 'J352'),\n",
       "  ('Cláudia', 'C607'),\n",
       "  ('Ana', 'A397')],\n",
       " [[8.0, 9.0, 10.0],\n",
       "  [9.0, 7.0, 6.0],\n",
       "  [3.4, 7.0, 7.0],\n",
       "  [5.5, 6.6, 8.0],\n",
       "  [6.0, 10.0, 9.5]],\n",
       " [9.0, 7.3, 5.8, 6.7, 8.5],\n",
       " ['Aprovado(a)', 'Aprovado(a)', 'Reprovado(a)', 'Aprovado(a)', 'Aprovado(a)']]"
      ]
     },
     "execution_count": 85,
     "metadata": {},
     "output_type": "execute_result"
    }
   ],
   "source": [
    "cadastro = [x for x in [nomes, notas, medias, situacao]]\n",
    "cadastro"
   ]
  },
  {
   "cell_type": "code",
   "execution_count": 86,
   "id": "33752384-d874-4806-b487-689283b10238",
   "metadata": {},
   "outputs": [
    {
     "data": {
      "text/plain": [
       "[[('João', 'J900'),\n",
       "  ('Maria', 'M54'),\n",
       "  ('José', 'J352'),\n",
       "  ('Cláudia', 'C607'),\n",
       "  ('Ana', 'A397')],\n",
       " [[8.0, 9.0, 10.0],\n",
       "  [9.0, 7.0, 6.0],\n",
       "  [3.4, 7.0, 7.0],\n",
       "  [5.5, 6.6, 8.0],\n",
       "  [6.0, 10.0, 9.5]],\n",
       " [9.0, 7.3, 5.8, 6.7, 8.5],\n",
       " ['Aprovado(a)', 'Aprovado(a)', 'Reprovado(a)', 'Aprovado(a)', 'Aprovado(a)']]"
      ]
     },
     "execution_count": 86,
     "metadata": {},
     "output_type": "execute_result"
    }
   ],
   "source": [
    "lista_completa = [nomes, notas, medias, situacao]\n",
    "lista_completa"
   ]
  },
  {
   "cell_type": "markdown",
   "id": "da74b39f-0a33-402a-9439-0f4c3d13bf8e",
   "metadata": {
    "jp-MarkdownHeadingCollapsed": true
   },
   "source": [
    "### Dict comprehension"
   ]
  },
  {
   "cell_type": "code",
   "execution_count": 87,
   "id": "151081b4-b9ef-43b5-b8d5-8400985906e3",
   "metadata": {},
   "outputs": [],
   "source": [
    "lista_completa = [[('João', 'J900'), ('Maria', 'M54'), ('José', 'J352'), ('Cláudia', 'C607'), ('Ana', 'A397')],\n",
    "                  [[8.0, 9.0, 10.0], [9.0, 7.0, 6.0], [3.4, 7.0, 7.0], [5.5, 6.6, 8.0], [6.0, 10.0, 9.5]],\n",
    "                  [9.0, 7.3, 5.8, 6.7, 8.5],\n",
    "                  ['Aprovado(a)', 'Aprovado(a)', 'Reprovado(a)', 'Aprovado(a)', 'Aprovado(a)']]"
   ]
  },
  {
   "cell_type": "code",
   "execution_count": 89,
   "id": "e42171e2-f6be-407b-bb8b-11237608a346",
   "metadata": {},
   "outputs": [
    {
     "data": {
      "text/plain": [
       "{'Notas': [[8.0, 9.0, 10.0],\n",
       "  [9.0, 7.0, 6.0],\n",
       "  [3.4, 7.0, 7.0],\n",
       "  [5.5, 6.6, 8.0],\n",
       "  [6.0, 10.0, 9.5]],\n",
       " 'Média Final': [9.0, 7.3, 5.8, 6.7, 8.5],\n",
       " 'Situação': ['Aprovado(a)',\n",
       "  'Aprovado(a)',\n",
       "  'Reprovado(a)',\n",
       "  'Aprovado(a)',\n",
       "  'Aprovado(a)']}"
      ]
     },
     "execution_count": 89,
     "metadata": {},
     "output_type": "execute_result"
    }
   ],
   "source": [
    "colunas = ['Notas', 'Média Final', 'Situação']\n",
    "cadastro = {colunas[i]: lista_completa[i + 1] for i in range(len(colunas))}\n",
    "cadastro"
   ]
  },
  {
   "cell_type": "code",
   "execution_count": 90,
   "id": "f09d243f-6dff-47ac-b34d-4805e9bd1e10",
   "metadata": {},
   "outputs": [
    {
     "data": {
      "text/plain": [
       "{'Notas': [[8.0, 9.0, 10.0],\n",
       "  [9.0, 7.0, 6.0],\n",
       "  [3.4, 7.0, 7.0],\n",
       "  [5.5, 6.6, 8.0],\n",
       "  [6.0, 10.0, 9.5]],\n",
       " 'Média Final': [9.0, 7.3, 5.8, 6.7, 8.5],\n",
       " 'Situação': ['Aprovado(a)',\n",
       "  'Aprovado(a)',\n",
       "  'Reprovado(a)',\n",
       "  'Aprovado(a)',\n",
       "  'Aprovado(a)'],\n",
       " 'Estudante': ['João', 'Maria', 'José', 'Cláudia', 'Ana']}"
      ]
     },
     "execution_count": 90,
     "metadata": {},
     "output_type": "execute_result"
    }
   ],
   "source": [
    "cadastro['Estudante'] = [lista_completa[0][i][0] for i in range(len(lista_completa[0]))]\n",
    "cadastro"
   ]
  },
  {
   "cell_type": "markdown",
   "id": "d679eeef-536e-4608-9830-b3d0c8a95eaf",
   "metadata": {
    "jp-MarkdownHeadingCollapsed": true
   },
   "source": [
    "## 04. Lidando com exceções"
   ]
  },
  {
   "cell_type": "markdown",
   "id": "64202232-4ddd-416d-8fa4-bbcf9ea42f42",
   "metadata": {
    "jp-MarkdownHeadingCollapsed": true
   },
   "source": [
    "### Para saber mais: tipos de exceções\n",
    "\n",
    "No Python existem basicamente duas formas distintas de erros: os de **sintaxe** e as **exceções**. As exceções são uma forma de lidar com erros e situações inesperados no código, garantindo um fluxo de execução mais controlado.\n",
    "\n",
    "Como uma pessoa cientista de dados, você precisará ter atenção a situações como esta para evitar bugs ou problemas em seus códigos e análises que possam afetar a experiência tanto da pessoa usuária quanto a eficiência da sua análise.\n",
    "\n",
    "#### Como aparece uma exceção no Python:\n",
    "\n",
    "Uma exceção aparece em nossa saída, como podemos notar na imagem abaixo:\n",
    "\n",
    "![Exceção no Python](https://cdn3.gnarususercontent.com.br/2923-python-data-science/Aula04-img01.png)\n",
    "\n",
    "Temos o **tipo da exceção**, seguido dos rastros que chamaram a exceção até a **linha exata que lançou a exceção** `lista[4]`. Logo abaixo, temos novamente o **tipo da exceção**  e uma **breve descrição** sobre ela. Vamos agora observar alguns dos tipos mais comuns de exceções que podem ser lançadas no Python.\n",
    "\n",
    "#### Tipos de Exceções\n",
    "\n",
    "##### SyntaxError\n",
    "\n",
    "Ocorre quando é detectado pelo ***parser*** (analisador) um erro na descrição do código. Normalmente uma seta aponta para a parte do código que gerou o erro, como uma espécie de dica onde o erro possa ter ocorrido.\n",
    "\n",
    "```python\n",
    "print(10 / 2\n",
    "```\n",
    ">   File \"\\<ipython-input-16-2db3afa07d68\\>\", line 1\n",
    ">\n",
    ">     print(10/2\n",
    ">\n",
    ">               ^\n",
    ">\n",
    "> SyntaxError: unexpected EOF while parsing\n",
    "\n",
    "\n",
    "Note que esquecemos de fechar o parênteses e por isso foi apresentado um erro de sintaxe, ou seja, de escrita de código.\n",
    "\n",
    "##### NameError\n",
    "\n",
    "Exceção lançada quando tentamos utilizaar um nome de algum elemento que não está presente em nosso código.\n",
    "\n",
    "```python\n",
    "raiz = sqrt(100)\n",
    "```\n",
    "> ---------------------------------------------------------------------------\n",
    "> NameError                                 Traceback (most recent call last)\n",
    ">\n",
    "> \\<ipython-input-17-2e14e900fb9f\\> in \\<module\\>\n",
    ">\n",
    "> ----> 1 raiz = sqrt(100)\n",
    ">\n",
    "> NameError: name 'sqrt' is not defined\n",
    "\n",
    "Neste caso, o interpretador não consegue aplicar o método da raiz quadrada por não ter sido importado junto com a biblioteca `math`.\n",
    "\n",
    "##### IndexError\n",
    "\n",
    "Exceção lançada quando tentamos indexar alguma estrutura de dados como lista, tupla ou até string além de seus limites.\n",
    "\n",
    "```python\n",
    "lista = [1, 2, 3]\n",
    "lista[4]\n",
    "```\n",
    "> ---------------------------------------------------------------------------\n",
    ">\n",
    "> IndexError                                Traceback (most recent call last)\n",
    ">\n",
    "> \\<ipython-input-18-f5fe6d922eea\\> in \\<module\\>\n",
    ">\n",
    ">       1 lista = [1, 2, 3]\n",
    ">\n",
    "> ----> 2 lista[4]\n",
    ">\n",
    "> IndexError: list index out of range\n",
    "\n",
    "Para esta situação, temos apenas 3 elementos na lista e tentamos ler o elemento da posição 4, que não existe. Recebendo a mensagem de que o `index` está fora da faixa.\n",
    "\n",
    "##### TypeError\n",
    "\n",
    "Exceção lançada quando um operador ou função são aplicados a um objeto cujo tipo é inapropriado.\n",
    "\n",
    "```python\n",
    "'1' + 1\n",
    "```\n",
    "> ---------------------------------------------------------------------------\n",
    "> TypeError                                 Traceback (most recent call last)\n",
    ">\n",
    "> \\<ipython-input-20-ec358fc6499a\\> in \\<module\\>\n",
    ">\n",
    "> ----> 1 \"1\" + 1\n",
    ">\n",
    "> TypeError: can only concatenate str (not \"int\") to str\n",
    "\n",
    "Note que tentamos “somar” uma string com um número inteiro e isso gerou uma exceção em nosso código. Isso ocorreu por 2 razões: o operador de soma foi considerado de concatenação por iniciarmos utilizando uma string (nesse caso, o sinal de adição serve para concatenar strings) e um valor do tipo inteiro não consegue ser concatenado nesse tipo de operação.\n",
    "\n",
    "##### KeyError\n",
    "\n",
    "Exceção lançada quando tentamos acessar uma chave que não está no dicionário presente em nosso código.\n",
    "\n",
    "```python\n",
    "estados = {'Bahia': 1, 'São Paulo': 2, 'Goiás': 3}\n",
    "estados['Amazonas']\n",
    "```\n",
    "> ---------------------------------------------------------------------------\n",
    ">\n",
    "> KeyError                                  Traceback (most recent call last)\n",
    ">\n",
    "> \\<ipython-input-22-45729db26889\\> in \\<module\\>\n",
    ">\n",
    ">       1 estados = {'Bahia': 1, 'São Paulo': 2, 'Goiás': 3}\n",
    ">\n",
    "> ----> 2 estados['Amazonas']\n",
    ">\n",
    "> KeyError: 'Amazonas'\n",
    "\n",
    "Tentamos acessar os dados do Estado `Amazonas` que não está presente no dicionário, lançando assim a exceção.\n",
    "\n",
    "##### Warning\n",
    "\n",
    "Exceção lançada em situações que precisamos alertar à pessoa usuária sobra algumas condições do código. Essas condições não necessariamente interrompem a execução do programa, mas podem lançar avisos sobre uso de módulos obsoletos, ou que possam ser depreciados em atualizações futuras ou também para alterações que podem reverberar sobre alguma parte do código.\n",
    "\n",
    "Lembrando que, no caso dos ***Warnings*** eles podem ser ignorados ou tratados como execções.\n",
    "\n",
    "```python\n",
    "import numpy as np\n",
    "\n",
    "a = np.arange(5)\n",
    "a / a  # apresenta um warning\n",
    "```\n",
    "> \\<ipython-input-23-93a37b275923\\>:4: RuntimeWarning: invalid value encountered in true_divide\n",
    ">\n",
    ">   a / a  # apresenta um warning\n",
    ">\n",
    "> array([nan,  1.,  1.,  1.,  1.])\n",
    "\n",
    "Tentamos fazer a divisão de zero por zero. Em um array Numpy, que é essa estrutura na saída do console, esse resultado gera um valor *nan* (Not a Number). Ou seja, você consegue seguir a execução do programa, mas é provável que precise tratar os dados para poder utilizar esse array em alguma operação mais a frente."
   ]
  },
  {
   "cell_type": "markdown",
   "id": "310b04a4-4f3b-4f01-bb7a-75de6cc8b76a",
   "metadata": {
    "jp-MarkdownHeadingCollapsed": true
   },
   "source": [
    "### Tratando exceções"
   ]
  },
  {
   "cell_type": "code",
   "execution_count": 91,
   "id": "66e71850-3e41-4b4c-aa82-6e211ee3b2e0",
   "metadata": {},
   "outputs": [],
   "source": [
    "notas = {'João': [8.0, 9.0, 10.0], 'Maria': [9.0, 7.0, 6.0], 'José': [3.4, 7.0, 8.0], 'Cláudia': [5.5, 6.6, 8.0],\n",
    "         'Ana': [6.0, 10.0, 9.5], 'Joaquim': [5.5, 7.5, 9.0], 'Júlia': [6.0, 8.0, 7.0], 'Pedro': [3.0, 4.0, 6.0]}"
   ]
  },
  {
   "cell_type": "code",
   "execution_count": 93,
   "id": "b2593044-da77-48ed-9a88-d8778a196f88",
   "metadata": {},
   "outputs": [
    {
     "name": "stdin",
     "output_type": "stream",
     "text": [
      "Digite o nome do(a) estudante:  Afonso\n"
     ]
    },
    {
     "ename": "KeyError",
     "evalue": "'Afonso'",
     "output_type": "error",
     "traceback": [
      "\u001b[31m---------------------------------------------------------------------------\u001b[39m",
      "\u001b[31mKeyError\u001b[39m                                  Traceback (most recent call last)",
      "\u001b[36mCell\u001b[39m\u001b[36m \u001b[39m\u001b[32mIn[93]\u001b[39m\u001b[32m, line 2\u001b[39m\n\u001b[32m      1\u001b[39m nome = \u001b[38;5;28minput\u001b[39m(\u001b[33m'\u001b[39m\u001b[33mDigite o nome do(a) estudante: \u001b[39m\u001b[33m'\u001b[39m)\n\u001b[32m----> \u001b[39m\u001b[32m2\u001b[39m resultado = \u001b[43mnotas\u001b[49m\u001b[43m[\u001b[49m\u001b[43mnome\u001b[49m\u001b[43m]\u001b[49m\n\u001b[32m      3\u001b[39m resultado\n",
      "\u001b[31mKeyError\u001b[39m: 'Afonso'"
     ]
    }
   ],
   "source": [
    "nome = input('Digite o nome do(a) estudante: ')\n",
    "resultado = notas[nome]\n",
    "resultado"
   ]
  },
  {
   "cell_type": "code",
   "execution_count": 95,
   "id": "fddec509-c5fa-463b-a9c0-34fab054df1c",
   "metadata": {},
   "outputs": [
    {
     "name": "stdin",
     "output_type": "stream",
     "text": [
      "Digite o nome do(a) estudante:  Mirla\n"
     ]
    },
    {
     "name": "stdout",
     "output_type": "stream",
     "text": [
      "<class 'KeyError'> Erro: 'Mirla'\n"
     ]
    }
   ],
   "source": [
    "try:\n",
    "    nome = input('Digite o nome do(a) estudante: ')\n",
    "    resultado = notas[nome]\n",
    "except KeyError:\n",
    "    print(\"Estudante não matriculado(a) na turma\")"
   ]
  },
  {
   "cell_type": "code",
   "execution_count": 97,
   "id": "3202f13b-3207-4699-a5a2-7bfb9f98dfb6",
   "metadata": {},
   "outputs": [
    {
     "name": "stdin",
     "output_type": "stream",
     "text": [
      "Digite o nome do(a) estudante:  Joaquim\n"
     ]
    },
    {
     "name": "stdout",
     "output_type": "stream",
     "text": [
      "[5.5, 7.5, 9.0]\n"
     ]
    }
   ],
   "source": [
    "try:\n",
    "    nome = input('Digite o nome do(a) estudante: ')\n",
    "    resultado = notas[nome]\n",
    "except KeyError:\n",
    "    print(\"Estudante não matriculado(a) na turma\")\n",
    "else:\n",
    "    print(resultado)"
   ]
  },
  {
   "cell_type": "markdown",
   "id": "aa733918-f99d-40b2-be41-b07f29c62c3b",
   "metadata": {
    "jp-MarkdownHeadingCollapsed": true
   },
   "source": [
    "### Cláusula finally"
   ]
  },
  {
   "cell_type": "code",
   "execution_count": 99,
   "id": "33408b92-ec1f-4b01-99b6-4f48042bacc3",
   "metadata": {},
   "outputs": [
    {
     "name": "stdin",
     "output_type": "stream",
     "text": [
      "Digite o nome do(a) estudante:  Bruno\n"
     ]
    },
    {
     "name": "stdout",
     "output_type": "stream",
     "text": [
      "Estudante não matriculado(a) na turma\n",
      "A consulta foi encerrada!\n"
     ]
    }
   ],
   "source": [
    "try:\n",
    "    nome = input('Digite o nome do(a) estudante: ')\n",
    "    resultado = notas[nome]\n",
    "except KeyError:\n",
    "    print(\"Estudante não matriculado(a) na turma\")\n",
    "else:\n",
    "    print(resultado)\n",
    "finally:\n",
    "    print('A consulta foi encerrada!')"
   ]
  },
  {
   "cell_type": "markdown",
   "id": "f7c08fd2-e248-4c1d-9951-13300e209594",
   "metadata": {
    "jp-MarkdownHeadingCollapsed": true
   },
   "source": [
    "### Raise"
   ]
  },
  {
   "cell_type": "code",
   "execution_count": 105,
   "id": "fe9ed84d-d10b-4040-8e08-dbdc3a2d6e69",
   "metadata": {},
   "outputs": [],
   "source": [
    "def media(lista: list[int | float]) -> float:\n",
    "    if len(lista) > 4:\n",
    "        raise ValueError('A lista não pode possuir mais de 4 notas.')\n",
    "\n",
    "    try:\n",
    "        return sum(lista) / len(lista)\n",
    "    except TypeError:\n",
    "        raise TypeError('Não foi possível calcular a média do(a) estudante. Só são aceitos valores numéricos!')"
   ]
  },
  {
   "cell_type": "code",
   "execution_count": 107,
   "id": "b775d460-79b4-4d3d-9aa5-acc373a875ca",
   "metadata": {},
   "outputs": [
    {
     "name": "stdout",
     "output_type": "stream",
     "text": [
      "Erro: Não foi possível calcular a média do(a) estudante. Só são aceitos valores numéricos!\n",
      "A consulta foi encerrada!\n"
     ]
    }
   ],
   "source": [
    "try:\n",
    "    print(media([4, 7, 9, '3']))\n",
    "except Exception as e:\n",
    "    print(f\"Erro: {e}\")\n",
    "finally:\n",
    "    print('A consulta foi encerrada!')"
   ]
  },
  {
   "cell_type": "markdown",
   "id": "1ca223a9-1304-41a2-9590-6e8ababec7db",
   "metadata": {},
   "source": [
    "### Referências\n",
    "\n",
    "[Documentação Python 3](https://docs.python.org/pt-br/3/)\n",
    "\n",
    "[PyPI](https://pypi.org/)\n",
    "\n",
    "[Lista de Exercícios Python Brasil](https://wiki.python.org.br/ListaDeExercicios)\n",
    "\n",
    "[List Comprehension](https://towardsdatascience.com/a-guide-to-python-comprehensions-4d16af68c97e/)\n",
    "\n",
    "[`zip` Function](https://realpython.com/python-zip-function/)\n",
    "\n",
    "[`zip` in Python](https://www.programiz.com/python-programming/methods/built-in/zip)\n",
    "\n",
    "[Exceptions in Python](https://realpython.com/python-exceptions/)"
   ]
  }
 ],
 "metadata": {
  "kernelspec": {
   "display_name": "Trabalhando com funções, estruturas de dados (.venv)",
   "language": "python",
   "name": ".venv"
  },
  "language_info": {
   "codemirror_mode": {
    "name": "ipython",
    "version": 3
   },
   "file_extension": ".py",
   "mimetype": "text/x-python",
   "name": "python",
   "nbconvert_exporter": "python",
   "pygments_lexer": "ipython3",
   "version": "3.12.2"
  }
 },
 "nbformat": 4,
 "nbformat_minor": 5
}
